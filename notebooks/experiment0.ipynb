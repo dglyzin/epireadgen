{
 "cells": [
  {
   "cell_type": "code",
   "execution_count": 8,
   "metadata": {
    "collapsed": true
   },
   "outputs": [],
   "source": [
    "import numpy as np\n",
    "import torch\n",
    "import torch.distributions as dist\n",
    "import pyro\n",
    "import pyro.distributions as pdist\n",
    "import matplotlib.pyplot as plt"
   ]
  },
  {
   "cell_type": "code",
   "execution_count": 2,
   "metadata": {
    "collapsed": true
   },
   "outputs": [],
   "source": [
    "import os\n",
    "import sys\n",
    "import inspect\n",
    "\n",
    "# insert root dir into sys\n",
    "currentdir = os.path.dirname(os.path.abspath(inspect.getfile(inspect.currentframe())))\n",
    "root_dir = os.path.dirname(currentdir)\n",
    "# print(root_dir)\n",
    "\n",
    "if root_dir not in sys.path:\n",
    "     sys.path.insert(0, root_dir)"
   ]
  },
  {
   "cell_type": "markdown",
   "metadata": {},
   "source": [
    "### Model 1 description:"
   ]
  },
  {
   "cell_type": "code",
   "execution_count": 32,
   "metadata": {},
   "outputs": [
    {
     "data": {
      "image/png": "[encoded data removed]",
      "text/plain": [
       "<matplotlib.figure.Figure at 0x7f95bcb525f8>"
      ]
     },
     "metadata": {},
     "output_type": "display_data"
    }
   ],
   "source": [
    "\n",
    "bbox_args = dict(boxstyle=\"round\", fc=\"0.8\")\n",
    "arrow_args = dict(arrowstyle=\"<-\")\n",
    "\n",
    "fig, (ax1) = plt.subplots(1, 1)\n",
    "\n",
    "an1 = ax1.annotate('$P(a)=Uniform[0,1](a)$', xy=(.5, 1.9), xycoords='data',\n",
    "                   xytext=(.5, 1.9), textcoords='data',\n",
    "                   ha=\"center\", va=\"center\",\n",
    "                   bbox=bbox_args,\n",
    "                   #arrowprops=arrow_args\n",
    "                   )\n",
    "\n",
    "an2 = ax1.annotate('p(Bag|a)=<1-a, a>', xy=(.5, .7), xycoords=an1,\n",
    "                   xytext=(.5, .7), textcoords='axes fraction',\n",
    "                   ha=\"center\", va=\"center\",\n",
    "                   bbox=bbox_args,\n",
    "                   arrowprops=dict(patchB=an1.get_bbox_patch(),\n",
    "                                   connectionstyle=\"arc3,rad=0.2\",\n",
    "                                   **arrow_args))\n",
    "\n",
    "an3 = ax1.annotate('P(Color|Bag=0)=[0.1, 0.9]\\nP(Color|Bag=1)=[0.5, 0.5]', xy=(.5, .3), xycoords=an2,\n",
    "                   xytext=(.5, .3), textcoords='axes fraction',\n",
    "                   ha=\"center\", va=\"center\",\n",
    "                   bbox=bbox_args,\n",
    "                   arrowprops=dict(patchB=an2.get_bbox_patch(),\n",
    "                                   connectionstyle=\"arc3,rad=0.2\",\n",
    "                                   **arrow_args))\n",
    "ax1.set_xlim([-2, 2.4])\n",
    "ax1.set_ylim([-2, 2.4])\n",
    "\n",
    "# an1.draggable()\n",
    "\n",
    "plt.show()"
   ]
  },
  {
   "cell_type": "markdown",
   "metadata": {},
   "source": [
    "### Accurate inference:"
   ]
  },
  {
   "cell_type": "markdown",
   "metadata": {},
   "source": [
    "$P(Color \\ |\\ a\\geq 0.7)=\\frac{P(Color,\\ a \\geq0.7)}{P(a \\geq 0.7)}=\\frac{P(Color,\\ a \\geq0.7)}{P(a \\geq 0.7)}=\\frac{\\sum_{b}P(Color, \\ Box=b,\\ a \\geq 0.7)}{P(a \\geq 0.7)}\n",
    "$\n",
    "<br><br>\n",
    "$=\\frac{\\sum_{b}P(Color \\ |\\ Box=b)P(Box=b,\\ a \\geq 0.7)}{P(a \\geq 0.7)}=\n",
    "\\frac{\\sum_{b}P(Color \\ |\\ Box=b)\\int_{a \\geq 0.7}P(Box=b \\ |a)P(d a)}{P(a \\geq 0.7)}\n",
    "$\n",
    "<br><br>\n",
    "$= \\frac{\\sum_{b}P(Color \\ |\\ Box=b)\\int_{a \\geq 0.7}p(Box=b \\ |\\ a)u(a)d a}{P(a \\geq 0.7)}=\\frac{\\sum_{b}P(Color \\ |\\ Box=b)\\int_{a \\geq 0.7}p(Box=b \\ |\\ a)d a}{P(a \\geq 0.7)}=$\n",
    "<br><br>\n",
    "\n",
    "<br>\n",
    "$\\frac{P(Color \\ |\\ Box=0)\\int_{a \\geq 0.7}p(Box=0\\ |\\ a)d a}{\\int{a \\geq 0.7}d a}\n",
    "+\\frac{P(Color\\ |\\ Box=1)\\int_{a \\geq 0.7}p(Box=1\\ |\\ a)d a}{\\int{a \\geq 0.7}d a}\n",
    "=\\frac{<0.1,\\ 0.9>\\int_{a \\geq 0.7} (1-a)d a+<0.5,\\ 0.5>\\int_{a \\geq 0.7 } a d a}{\\int{a \\geq 0.7}d a}=\\frac{<0.1,\\ 0.9>(0.045)+<0.5,\\ 0.5>(0.255)}{0.3}$\n",
    "<br>\n",
    "$ = <0.44, 0.56>$"
   ]
  },
  {
   "cell_type": "markdown",
   "metadata": {},
   "source": [
    "$P(Box\\ |\\ a \\geq 0.7)=\\frac{\\int_{a \\geq 0.7}p(Box\\ |\\ a)d a}{\\int_{a \\geq 0.7} d a}=<0.045, 0.255>/0.3= <0.15, 0.85>$"
   ]
  },
  {
   "cell_type": "markdown",
   "metadata": {},
   "source": [
    "### Native `rejection_sampler`:"
   ]
  },
  {
   "cell_type": "code",
   "execution_count": 35,
   "metadata": {
    "collapsed": true
   },
   "outputs": [],
   "source": [
    "import sim1"
   ]
  },
  {
   "cell_type": "markdown",
   "metadata": {},
   "source": [
    "##### Model's def:"
   ]
  },
  {
   "cell_type": "code",
   "execution_count": 44,
   "metadata": {},
   "outputs": [
    {
     "name": "stdout",
     "output_type": "stream",
     "text": [
      "net.sorted_vars:\n",
      "['a', 'Bag', 'Color']\n",
      "\n",
      "Color:\n",
      "             0\n",
      "Color Bag     \n",
      "red   0    0.1\n",
      "      1    0.5\n",
      "green 0    0.9\n",
      "      1    0.5\n"
     ]
    }
   ],
   "source": [
    "a = sim1.make_dist(dist.Uniform, \"a\", 0, 1) \n",
    "\n",
    "# P(Bag==1) = a (P(Bag==1) = 1-a):\n",
    "Bag = sim1.CondProb(\"Bag\", parents=[\"a\"], support=[[0, 1], [\"a\"]],\n",
    "                    params=[(\"Bag==1\", \"a\")])\n",
    "    \n",
    "# P(Color|Bag):\n",
    "Color = sim1.CondProb(\"Color\", parents=[\"Bag\"],\n",
    "                      support=[[\"red\", \"green\"], [0, 1]])\n",
    "Color.set({\"Bag\": 0}, [0.1, 0.9])\n",
    "Color.set({\"Bag\": 1}, [0.5, 0.5])\n",
    "\n",
    "net = sim1.BayesNet([a, Bag, Color])\n",
    "\n",
    "print(\"net.sorted_vars:\")\n",
    "print(net.sorted_vars)\n",
    "print(\"\\nColor:\")\n",
    "print(Color)"
   ]
  },
  {
   "cell_type": "code",
   "execution_count": 56,
   "metadata": {},
   "outputs": [
    {
     "name": "stdout",
     "output_type": "stream",
     "text": [
      "progress: █████████ 99 %\n",
      "done\n"
     ]
    }
   ],
   "source": [
    "samples, indexes, labels = sim1.rejection_sampling(net, 700,\n",
    "                                              cond=\"$a>=0.7\")"
   ]
  },
  {
   "cell_type": "markdown",
   "metadata": {},
   "source": [
    "##### Results:"
   ]
  },
  {
   "cell_type": "code",
   "execution_count": 58,
   "metadata": {},
   "outputs": [
    {
     "name": "stdout",
     "output_type": "stream",
     "text": [
      "len(samples)\n",
      "230\n",
      "var:\n",
      "Bag\n",
      "probs of var (bin=2):\n",
      "tensor([0.1652, 0.8348], dtype=torch.float64)\n"
     ]
    },
    {
     "data": {
      "image/png": "[encoded data removed]",
      "text/plain": [
       "<matplotlib.figure.Figure at 0x7f95b5dc0048>"
      ]
     },
     "metadata": {},
     "output_type": "display_data"
    }
   ],
   "source": [
    "print(\"len(samples)\")\n",
    "print(len(samples['Bag']))\n",
    "# print(indexes)\n",
    "# print(labels)\n",
    "\n",
    "sim1.plot_results1([\"Bag\"], indexes)"
   ]
  },
  {
   "cell_type": "markdown",
   "metadata": {},
   "source": [
    "### Pyro's `rejection_sampler`:"
   ]
  },
  {
   "cell_type": "code",
   "execution_count": 5,
   "metadata": {},
   "outputs": [],
   "source": [
    "import sim3"
   ]
  },
  {
   "cell_type": "code",
   "execution_count": 3,
   "metadata": {
    "collapsed": true
   },
   "outputs": [],
   "source": [
    "def model1():\n",
    "    '''\n",
    "    Model:\n",
    "    {a| a=Uniform(0, 1)}\n",
    "      ->{Bag| [p(Bug=0)=1-a, p(Bug=1)=a]}\n",
    "       ->{Color| [p(Color|\"Bag\": 0)=[0.1, 0.9],\n",
    "                  p(Color|\"Bag\": 1) = [0.5, 0.5]]}\n",
    "    Ask what p(X|cond) will be for X is some of [a, Bag, Color]\n",
    "    '''\n",
    "    p = pyro.sample(\"p\", pdist.Uniform(0, 1))\n",
    "    # p(Bag|p) (note probability reverse in Categorical!):\n",
    "    bag = pyro.sample(\"Bag\", pdist.Categorical(torch.tensor([1-p, p])))\n",
    "    pColor = torch.tensor([[0.1, 0.9], [0.5, 0.5]])\n",
    "    color = pyro.sample(\"Color\", pdist.Categorical(pColor[bag.type(torch.long)]))\n",
    "    return(color)\n",
    "\n",
    "\n",
    "def m1_fcond(trace):\n",
    "    return(trace.nodes['p']['value'] >= 0.7)"
   ]
  },
  {
   "cell_type": "code",
   "execution_count": 6,
   "metadata": {},
   "outputs": [
    {
     "name": "stdout",
     "output_type": "stream",
     "text": [
      "progress: █████████ 99 %\n",
      "done\n",
      "create df:: █████████ 99 %\n",
      "done\n"
     ]
    }
   ],
   "source": [
    "pyro.clear_param_store()\n",
    "samples = sim3.rejection_sampling(model1, {}, m1_fcond, 10000)\n",
    "df = sim3.make_dataFrame(samples)"
   ]
  },
  {
   "cell_type": "code",
   "execution_count": 9,
   "metadata": {},
   "outputs": [
    {
     "name": "stdout",
     "output_type": "stream",
     "text": [
      "probs of var (bin=2):\n",
      "tensor([0.4399, 0.5601], dtype=torch.float64)\n"
     ]
    },
    {
     "data": {
      "image/png": "[encoded data removed]",
      "text/plain": [
       "<matplotlib.figure.Figure at 0x7fecc6ac6828>"
      ]
     },
     "metadata": {},
     "output_type": "display_data"
    }
   ],
   "source": [
    "var_data = df[\"Color\"].to_numpy().astype(np.float)\n",
    "print(\"probs of var (bin=2):\")\n",
    "var_data = torch.histc(torch.tensor(var_data), 2) \n",
    "print(var_data/var_data.sum())\n",
    "\n",
    "plt.hist(df[\"Color\"].to_numpy(), 30,  # density=True,\n",
    "        stacked=True\n",
    "        # , rwidth=0.1, label=label\n",
    "        )\n",
    "plt.show()\n"
   ]
  },
  {
   "cell_type": "code",
   "execution_count": 10,
   "metadata": {},
   "outputs": [
    {
     "name": "stdout",
     "output_type": "stream",
     "text": [
      "probs of var (bin=2):\n",
      "tensor([0.1553, 0.8447], dtype=torch.float64)\n"
     ]
    },
    {
     "data": {
      "image/png": "[encoded data removed]",
      "text/plain": [
       "<matplotlib.figure.Figure at 0x7fecc6ac6390>"
      ]
     },
     "metadata": {},
     "output_type": "display_data"
    }
   ],
   "source": [
    "var_data = df[\"Bag\"].to_numpy().astype(np.float)\n",
    "print(\"probs of var (bin=2):\")\n",
    "var_data = torch.histc(torch.tensor(var_data), 2) \n",
    "print(var_data/var_data.sum())\n",
    "\n",
    "plt.hist(df[\"Bag\"].to_numpy(), 30,  # density=True,\n",
    "        stacked=True\n",
    "        # , rwidth=0.1, label=label\n",
    "        )\n",
    "plt.show()\n"
   ]
  },
  {
   "cell_type": "code",
   "execution_count": null,
   "metadata": {
    "collapsed": true
   },
   "outputs": [],
   "source": []
  }
 ],
 "metadata": {
  "kernelspec": {
   "display_name": "Python [conda env:math]",
   "language": "python",
   "name": "conda-env-math-py"
  },
  "language_info": {
   "codemirror_mode": {
    "name": "ipython",
    "version": 3
   },
   "file_extension": ".py",
   "mimetype": "text/x-python",
   "name": "python",
   "nbconvert_exporter": "python",
   "pygments_lexer": "ipython3",
   "version": "3.6.2"
  }
 },
 "nbformat": 4,
 "nbformat_minor": 2
}
