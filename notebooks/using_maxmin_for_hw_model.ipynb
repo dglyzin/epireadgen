{
 "cells": [
  {
   "cell_type": "code",
   "execution_count": 1,
   "metadata": {
    "collapsed": true
   },
   "outputs": [],
   "source": [
    "import os\n",
    "import sys\n",
    "import inspect\n",
    "\n",
    "# insert root dir into sys\n",
    "currentdir = os.path.dirname(os.path.abspath(inspect.getfile(inspect.currentframe())))\n",
    "root_dir = os.path.dirname(currentdir)\n",
    "# print(root_dir)\n",
    "\n",
    "if root_dir not in sys.path:\n",
    "     sys.path.insert(0, root_dir)"
   ]
  },
  {
   "cell_type": "markdown",
   "metadata": {},
   "source": [
    "##### Abstract"
   ]
  },
  {
   "cell_type": "markdown",
   "metadata": {},
   "source": [
    "hw_model: Одна из реализации стадийного процесса, заданного дифференц. уравнением вида:<br>\n",
    "$\\begin{pmatrix}\\frac{d x}{d t} \\\\ \\frac{d y}{d t} \\end{pmatrix} = \\begin{pmatrix} E & Ay\\\\\n",
    "Ax & E \\end{pmatrix} \\begin{pmatrix} x \\\\  y \\end{pmatrix}$\n",
    "<br>\n",
    "где E, Ax, Ay - матрицы is.\n",
    "\n",
    "Aнтагонистическая игра двух игроков A и B в распоряжении каждого из которых имеется некоторое количество единиц (units.counts) взятых (units.types) из одного множества типов для каждого игрока. Таким образом, типы едениц у А и B могут различаться, но все они берутся из одного множества.<br>\n",
    "Цель игры = Цель игрока A.<br><br>\n",
    "Уравнение потерь сторонами за один ход определяется как:<br>\n",
    "\n",
    "        `x = x_prev - dt*torch.matmul(torch.mul(Ub, Ay), y_prev)`\n",
    "  `(*)`\n",
    "  \n",
    "        `y = y_prev - dt*torch.matmul(torch.mul(Ua, Ax), x_prev)`\n",
    "\n",
    "где `Ax, Ay` - упраляемые параметры стороны A и B соответственно,<br>\n",
    "`Ub` и `Ua` матрицы эффективности для выбранных сторонами A и B типов едениц. Обе строятся из same matrix `U`.\n",
    "\n",
    "`torch.mul` - поэлементное умножение метриц<br>\n",
    "`torch.matmul` - матричное умножение матриц\n",
    "\n",
    "Решения Ax' и Ay' принимаются игроками в начале игры и не меняются по ее ходу (as opposite to the more general seq decision problem case)."
   ]
  },
  {
   "cell_type": "markdown",
   "metadata": {},
   "source": [
    "The game defined by its specification:"
   ]
  },
  {
   "cell_type": "code",
   "execution_count": 2,
   "metadata": {
    "collapsed": true
   },
   "outputs": [],
   "source": [
    "import sim5_hw_tests as smt"
   ]
  },
  {
   "cell_type": "code",
   "execution_count": 3,
   "metadata": {
    "collapsed": true
   },
   "outputs": [],
   "source": [
    "sim_spec = smt.mk_spec_for_test0()\n"
   ]
  },
  {
   "cell_type": "code",
   "execution_count": 4,
   "metadata": {},
   "outputs": [
    {
     "data": {
      "text/plain": [
       "{'A': {'decision_matrix': None,\n",
       "  'goal': <function __main__.<lambda>>,\n",
       "  'units': {'counts': tensor([5., 5.]), 'types': [0, 1]}},\n",
       " 'B': {'decision_matrix': None,\n",
       "  'goal': <function __main__.<lambda>>,\n",
       "  'units': {'counts': tensor([5., 5.]), 'types': [0, 1]}}}"
      ]
     },
     "execution_count": 4,
     "metadata": {},
     "output_type": "execute_result"
    }
   ],
   "source": [
    "sim_spec['agents']['A']['goal'] = lambda x, y: y[1] <= 0\n",
    "sim_spec['agents']['B']['goal'] = lambda x, y: y[1] > 0\n",
    "sim_spec['agents']"
   ]
  },
  {
   "cell_type": "markdown",
   "metadata": {},
   "source": [
    "Целевые функции игроков задаются в `sim_spec['agents']['A']['goal']` для A.<br>\n",
    "Целевая функция - функция результата T итераций ур (\\*) goal = goal(x, y).\n",
    "Для maxmin алгоритмов pytorch и scipy берется непрерывн. функция:<br>\n",
    "   `\"goal\": lambda x, y: y[1] <= 0`\n",
    "\n",
    "для A и:<br>\n",
    "   `\"goal\": lambda x, y: y[1] > 0`\n",
    "   \n",
    "для B. \n",
    "\n",
    "Т.о. интересы игроков is opposite - игра антагонистическая."
   ]
  },
  {
   "cell_type": "code",
   "execution_count": 5,
   "metadata": {},
   "outputs": [
    {
     "data": {
      "text/plain": [
       "tensor([[0.5000, 0.5000],\n",
       "        [0.1000, 0.1000]])"
      ]
     },
     "execution_count": 5,
     "metadata": {},
     "output_type": "execute_result"
    }
   ],
   "source": [
    "sim_spec['U']"
   ]
  },
  {
   "cell_type": "markdown",
   "metadata": {},
   "source": [
    "### The `mcmc` solution:"
   ]
  },
  {
   "cell_type": "code",
   "execution_count": 5,
   "metadata": {},
   "outputs": [],
   "source": [
    "import sim5_hw as sm\n",
    "import sim5_hw_tests as smt"
   ]
  },
  {
   "cell_type": "code",
   "execution_count": 6,
   "metadata": {},
   "outputs": [
    {
     "name": "stderr",
     "output_type": "stream",
     "text": [
      "Warmup:   0%|          | 0/3000 [00:00, ?it/s]/home/valdecar/anaconda3/envs/math/lib/python3.6/site-packages/torch/autograd/__init__.py:204: UserWarning: CUDA initialization: The NVIDIA driver on your system is too old (found version 8000). Please update your GPU driver by downloading and installing a new version from the URL: http://www.nvidia.com/Download/index.aspx Alternatively, go to: https://pytorch.org to install a PyTorch version that has been compiled with your version of the CUDA driver. (Triggered internally at  /pytorch/c10/cuda/CUDAFunctions.cpp:100.)\n",
      "  inputs, allow_unused)\n",
      "Sample: 100%|██████████| 3000/3000 [04:20, 11.53it/s, step size=4.34e-253, acc. prob=0.394]\n"
     ]
    }
   ],
   "source": [
    "mcmc, losses = sm.run_mcmc(1500, sim_spec, mdbg=False, edbg=False)"
   ]
  },
  {
   "cell_type": "code",
   "execution_count": 7,
   "metadata": {},
   "outputs": [
    {
     "name": "stdout",
     "output_type": "stream",
     "text": [
      "\n",
      "solution: {'decision_matrix': tensor([[0.5930, 0.3186],\n",
      "        [0.4070, 0.6814]]), 'units': {'types': [0, 1], 'counts': tensor([5., 5.])}, 'goal': <function <lambda> at 0x7ff9501fb9d8>}\n"
     ]
    }
   ],
   "source": [
    "sim_spec = sm.update_spec(sim_spec, mcmc, idx=-1, side=\"A\", dbg=False)\n",
    "print(\"\\nsolution:\", sim_spec['agents']['A'])"
   ]
  },
  {
   "cell_type": "code",
   "execution_count": 8,
   "metadata": {},
   "outputs": [
    {
     "name": "stdout",
     "output_type": "stream",
     "text": [
      "aUtypes:\n",
      "[0, 1]\n",
      "x0: tensor([5., 5.])\n",
      "bUtypes:\n",
      "[0, 1]\n",
      "y0: tensor([5., 5.])\n",
      "U: \n",
      "tensor([[0.5000, 0.5000],\n",
      "        [0.1000, 0.1000]])\n",
      "Ua=U[aUnits][bUnits].T=U[[0, 1]][[0, 1]].T:\n",
      "tensor([[0.5000, 0.1000],\n",
      "        [0.5000, 0.1000]])\n",
      "Ub=U[bUnits][aUnits].T=U[[0, 1], [0, 1]].T:\n",
      "tensor([[0.5000, 0.1000],\n",
      "        [0.5000, 0.1000]])\n",
      "Ax:\n",
      "tensor([[0.5930, 0.3186],\n",
      "        [0.4070, 0.6814]])\n",
      "Ay:\n",
      "tensor([[0.3027, 0.1642],\n",
      "        [0.6973, 0.8358]])\n",
      "x0: tensor([5., 5.])\n",
      "y0: tensor([5., 5.])\n",
      "x: tensor([4.5806, 3.9194])\n",
      "y: tensor([4.1791, 4.3209])\n",
      "-------\n",
      "x: tensor([4.2290, 3.0102])\n",
      "y: tensor([3.4375, 3.7213])\n",
      "-------\n",
      "x: tensor([3.9383, 2.2554])\n",
      "y: tensor([2.7626, 3.1885])\n",
      "-------\n",
      "x: tensor([3.7031, 1.6406])\n",
      "y: tensor([2.1428, 2.7109])\n",
      "-------\n",
      "x: tensor([3.5187, 1.1537])\n",
      "y: tensor([1.5677, 2.2783])\n",
      "-------\n",
      "x: tensor([3.3814, 0.7852])\n",
      "y: tensor([1.0277, 1.8810])\n",
      "-------\n",
      "x: tensor([3.2882, 0.5274])\n",
      "y: tensor([0.5139, 1.5102])\n",
      "-------\n",
      "x: tensor([3.2369, 0.3747])\n",
      "y: tensor([0.0180, 1.1576])\n",
      "-------\n",
      "x: tensor([3.2260, 0.3232])\n",
      "y: tensor([0.0000, 0.8155])\n",
      "-------\n",
      "x: tensor([3.2193, 0.2891])\n",
      "y: tensor([0.0000, 0.4763])\n",
      "-------\n",
      "x: tensor([3.2154, 0.2692])\n",
      "y: tensor([0.0000, 0.1389])\n",
      "-------\n",
      "x: tensor([3.2143, 0.2634])\n",
      "y: tensor([0., 0.])\n",
      "-------\n",
      "\n",
      "observations state_context::\n",
      "\n",
      "x\n",
      "tensor([3.2143, 0.2634])\n",
      "\n",
      "y\n",
      "tensor([0., 0.])\n",
      "\n",
      "Ua\n",
      "tensor([[0.5000, 0.1000],\n",
      "        [0.5000, 0.1000]])\n",
      "\n",
      "Ub\n",
      "tensor([[0.5000, 0.1000],\n",
      "        [0.5000, 0.1000]])\n",
      "\n",
      "Ax\n",
      "tensor([[0.5930, 0.3186],\n",
      "        [0.4070, 0.6814]])\n",
      "\n",
      "Ay\n",
      "tensor([[0.3027, 0.1642],\n",
      "        [0.6973, 0.8358]])\n",
      "\n",
      "events_to_check\n",
      "OrderedDict([('goalA', tensor(True)), ('goalB', tensor(False)), ('goalAoverB', True), ('exit?', True)])\n",
      "\n",
      "observations state_context::\n",
      "no observations to show\n",
      "\n",
      "observations state_context::\n",
      "no observations to show\n",
      "\n",
      "trace:\n",
      "\n",
      "event_error_factor:\n",
      "tensor(0)\n"
     ]
    }
   ],
   "source": [
    "smt.run_test_and_show(sim_spec, mdbg=True)"
   ]
  },
  {
   "cell_type": "code",
   "execution_count": 15,
   "metadata": {
    "collapsed": true
   },
   "outputs": [],
   "source": [
    "import matplotlib.pyplot as plt"
   ]
  },
  {
   "cell_type": "code",
   "execution_count": 17,
   "metadata": {},
   "outputs": [
    {
     "data": {
      "image/png": "[encoded data removed]",
      "text/plain": [
       "<matplotlib.figure.Figure at 0x7ff8dc0eb780>"
      ]
     },
     "metadata": {},
     "output_type": "display_data"
    }
   ],
   "source": [
    "tests_steps=1000\n",
    "losses=[]\n",
    "y1s = []\n",
    "for step in range(tests_steps):\n",
    "    ehandler = sm.model(sim_spec, losses=losses, mdbg=False, edbg=False)\n",
    "    observations = ehandler.get(\"observation\", None)\n",
    "    last_state_context = observations[1][-1][\"value\"]\n",
    "    y1 = last_state_context[\"y\"][1]\n",
    "    y1s.append(y1.detach().clone().numpy())\n",
    "\n",
    "plt.hist(y1s)\n",
    "plt.show()\n"
   ]
  },
  {
   "cell_type": "markdown",
   "metadata": {},
   "source": [
    "From the pic it seems that mcmc is rather working. \n",
    "The advantages of it in ability to inference in any model, no matter discrete or continuous.\n",
    "It also could work with the model that have contradicting goals like the `hw_model` above without any knowledge about `maxmin` approach (as opposite to `rej.sam` implementation below).\n",
    "The disadvantage is it no always converge and some times stop with some `math error` so if it could be used then only manually"
   ]
  },
  {
   "cell_type": "markdown",
   "metadata": {},
   "source": [
    "Преимущество `mcmc` в том что он может выводить параметры в моделях как с непрерывной так и дискретной целевой функцией. Приведенный выше пример с `hw_model` показывает также и то, что `mcmc` может быть использована и при выводе параметров модели, в том числе содержащей несколько целевых функции с противоположными интересами, без каких либо знаний о том, что он должен искать `maxmin`."
   ]
  },
  {
   "cell_type": "code",
   "execution_count": null,
   "metadata": {
    "collapsed": true
   },
   "outputs": [],
   "source": [
    "factors = run_tests_and_collect_factors(30, sim_spec)"
   ]
  },
  {
   "cell_type": "markdown",
   "metadata": {
    "collapsed": true
   },
   "source": [
    "### The rejection sampling maxmin"
   ]
  },
  {
   "cell_type": "code",
   "execution_count": 3,
   "metadata": {
    "collapsed": true
   },
   "outputs": [],
   "source": [
    "import sim5_hw1_rejsam as rejsam"
   ]
  },
  {
   "cell_type": "markdown",
   "metadata": {},
   "source": [
    "with factors"
   ]
  },
  {
   "cell_type": "code",
   "execution_count": 7,
   "metadata": {},
   "outputs": [
    {
     "name": "stdout",
     "output_type": "stream",
     "text": [
      "\n",
      "init Ax, Ay:\n",
      "tensor([[0.4050, 0.9846],\n",
      "        [0.5950, 0.0154]])\n",
      "tensor([[0.3432, 0.3636],\n",
      "        [0.6568, 0.6364]])\n",
      "forcing exit due to error:\n",
      "max_counter excided in get_optB\n",
      "the cause are: B side fail to find solution (i.e. Ay)!\n",
      "\n",
      "mean Axs: tensor([[0.2926, 0.2910],\n",
      "        [0.7074, 0.7090]])\n",
      "var Axs: tensor(0.1427)\n",
      "\n",
      "mean Ays: tensor([[0.6370, 0.7844],\n",
      "        [0.3630, 0.2156]])\n",
      "var Ays: tensor(0.0871)\n"
     ]
    },
    {
     "data": {
      "image/png": "[encoded data removed]",
      "text/plain": [
       "<matplotlib.figure.Figure at 0x7f73347b8b38>"
      ]
     },
     "metadata": {},
     "output_type": "display_data"
    }
   ],
   "source": [
    "rejsam.test_maxmin_hw(\n",
    "        30, sampler_steps=1,\n",
    "        use_score=False, threshold=0.0, max_counter=3000,\n",
    "        use_factors=True,\n",
    "        dbg=False)\n"
   ]
  },
  {
   "cell_type": "markdown",
   "metadata": {},
   "source": [
    "without factors"
   ]
  },
  {
   "cell_type": "code",
   "execution_count": 5,
   "metadata": {},
   "outputs": [
    {
     "name": "stdout",
     "output_type": "stream",
     "text": [
      "\n",
      "init Ax, Ay:\n",
      "tensor([[0.2744, 0.3085],\n",
      "        [0.7256, 0.6915]])\n",
      "tensor([[0.2637, 0.2345],\n",
      "        [0.7363, 0.7655]])\n",
      "forcing exit due to error:\n",
      "max_counter excided in get_optB\n",
      "the cause are: B side fail to find solution (i.e. Ay)!\n",
      "\n",
      "mean Axs: tensor([[0.3668, 0.1319],\n",
      "        [0.6332, 0.8681]])\n",
      "var Axs: tensor(0.1226)\n",
      "\n",
      "mean Ays: tensor([[0.6726, 0.7243],\n",
      "        [0.3274, 0.2757]])\n",
      "var Ays: tensor(0.0885)\n"
     ]
    },
    {
     "data": {
      "image/png": "[encoded data removed]",
      "text/plain": [
       "<matplotlib.figure.Figure at 0x7f733488a4a8>"
      ]
     },
     "metadata": {},
     "output_type": "display_data"
    }
   ],
   "source": [
    "rejsam.test_maxmin_hw(\n",
    "        30, sampler_steps=1,\n",
    "        use_score=False, threshold=0.0, max_counter=3000,\n",
    "        use_factors=False,\n",
    "        dbg=False)\n"
   ]
  },
  {
   "cell_type": "markdown",
   "metadata": {},
   "source": [
    "### The `pytorch` maxmin\n",
    "(without factors, continues)\n",
    "<br>The goalA is `torch.pow(y[1], 3)`\n",
    "<br>The goalB is `torch.pow(0.5, 3)-torch.pow(y[1], 3)`"
   ]
  },
  {
   "cell_type": "code",
   "execution_count": 9,
   "metadata": {
    "collapsed": true
   },
   "outputs": [],
   "source": [
    "import sim5_hw1 as maxmin_pytorch"
   ]
  },
  {
   "cell_type": "code",
   "execution_count": 10,
   "metadata": {},
   "outputs": [
    {
     "name": "stdout",
     "output_type": "stream",
     "text": [
      "init Ax: tensor([[0.1449, 0.9720],\n",
      "        [0.8551, 0.0280]])\n",
      "init Ay: tensor([[0.3485, 0.4437],\n",
      "        [0.6515, 0.5563]])\n",
      "opt progress::  0 %\r"
     ]
    },
    {
     "name": "stderr",
     "output_type": "stream",
     "text": [
      "/home/valdecar/anaconda3/envs/math/lib/python3.6/site-packages/torch/autograd/__init__.py:132: UserWarning: CUDA initialization: The NVIDIA driver on your system is too old (found version 8000). Please update your GPU driver by downloading and installing a new version from the URL: http://www.nvidia.com/Download/index.aspx Alternatively, go to: https://pytorch.org to install a PyTorch version that has been compiled with your version of the CUDA driver. (Triggered internally at  /pytorch/c10/cuda/CUDAFunctions.cpp:100.)\n",
      "  allow_unreachable=True)  # allow_unreachable flag\n"
     ]
    },
    {
     "name": "stdout",
     "output_type": "stream",
     "text": [
      "opt progress:: █████████ 99 %\n",
      "done\n",
      "optimization results:\n",
      "lossesA[-1]: tensor(0.)\n",
      "lossesB[-1]: tensor(125.)\n",
      "Ax: tensor([[-0.0100,  0.5719],\n",
      "        [ 0.9900,  0.4281]], grad_fn=<DivBackward0>)\n",
      "Ay: tensor([[0.2142, 0.4460],\n",
      "        [0.7858, 0.5540]], grad_fn=<DivBackward0>)\n",
      "x: tensor([0., 0.], grad_fn=<MaskedFillBackward0>)\n",
      "y: tensor([4.7064, 0.0000], grad_fn=<MaskedFillBackward0>)\n"
     ]
    },
    {
     "data": {
      "image/png": "[encoded data removed]",
      "text/plain": [
       "<matplotlib.figure.Figure at 0x7f73348571d0>"
      ]
     },
     "metadata": {},
     "output_type": "display_data"
    },
    {
     "data": {
      "image/png": "[encoded data removed]",
      "text/plain": [
       "<matplotlib.figure.Figure at 0x7f733474feb8>"
      ]
     },
     "metadata": {},
     "output_type": "display_data"
    },
    {
     "name": "stdout",
     "output_type": "stream",
     "text": [
      "test progress:: █████████ 99 %\n",
      "done\n",
      "test results:\n",
      "loss_max: tensor(0.1310, grad_fn=<PowBackward0>)\n",
      "Ax_max: tensor([[-0.0100,  0.5719],\n",
      "        [ 0.9900,  0.4281]], grad_fn=<DivBackward0>)\n",
      "Ay_max: tensor([[0.7204, 0.8937],\n",
      "        [0.2796, 0.1063]])\n",
      "x_max: tensor([0., 0.], grad_fn=<MaskedFillBackward0>)\n",
      "y_max: tensor([3.8642, 0.5079], grad_fn=<MaskedFillBackward0>)\n",
      "losses<=0/losses: 0.9153846153846154\n"
     ]
    },
    {
     "data": {
      "image/png": "[encoded data removed]",
      "text/plain": [
       "<matplotlib.figure.Figure at 0x7f73348faf60>"
      ]
     },
     "metadata": {},
     "output_type": "display_data"
    }
   ],
   "source": [
    "maxmin_pytorch.test_maxmin_hw(170, 10, 0.001, 0.001, 130, switchB_used=True, dbg=False)"
   ]
  },
  {
   "cell_type": "markdown",
   "metadata": {},
   "source": [
    "### The `scipy.maxmin`\n",
    "goals same as in `pytorch.maxmin` above"
   ]
  },
  {
   "cell_type": "code",
   "execution_count": 11,
   "metadata": {
    "collapsed": true
   },
   "outputs": [],
   "source": [
    "import sim5_hw1_scimaxmin as sci_maxmin"
   ]
  },
  {
   "cell_type": "code",
   "execution_count": 12,
   "metadata": {},
   "outputs": [
    {
     "name": "stdout",
     "output_type": "stream",
     "text": [
      "model.rangesA: [(0, 1), (0, 1), (0, 1), (0, 1)]\n",
      "model.rangesB: [(0, 1), (0, 1), (0, 1), (0, 1)]\n",
      "\n",
      "init Ax, Ay:\n",
      "tensor([[0.1449, 0.9720],\n",
      "        [0.8551, 0.0280]])\n",
      "tensor([[0.3485, 0.4437],\n",
      "        [0.6515, 0.5563]])\n",
      "Axt progress::  0 %\n",
      "tensor([[0.4355, 0.3646],\n",
      "        [0.5645, 0.6354]])\n",
      "Ay\n",
      "tensor([[0.9973, 0.9868],\n",
      "        [0.0027, 0.0132]])\n",
      "\n",
      "errA, errB: 0.0 112.79342651367188\n",
      "Axt progress:: ███ 33 %\n",
      "tensor([[0.0404, 0.1025],\n",
      "        [0.9596, 0.8975]])\n",
      "Ay\n",
      "tensor([[0.6379, 0.8822],\n",
      "        [0.3621, 0.1178]])\n",
      "\n",
      "errA, errB: 0.0 123.43128\n",
      "Axt progress:: ██████ 66 %\n",
      "tensor([[0.2030, 0.1426],\n",
      "        [0.7970, 0.8574]])\n",
      "Ay\n",
      "tensor([[0.8265, 0.5410],\n",
      "        [0.1735, 0.4590]])\n",
      "\n",
      "errA, errB: 0.0 125.0\n",
      "\n",
      "done\n",
      "lossesA[-1]: 0.0\n",
      "lossesB[-1]: 125.0\n",
      "Ax: tensor([[0.2030, 0.1426],\n",
      "        [0.7970, 0.8574]])\n",
      "Ay: tensor([[0.8265, 0.5410],\n",
      "        [0.1735, 0.4590]])\n"
     ]
    }
   ],
   "source": [
    "sci_maxmin.test_hw_diff(3, dbg=True)"
   ]
  },
  {
   "cell_type": "code",
   "execution_count": 14,
   "metadata": {},
   "outputs": [
    {
     "name": "stdout",
     "output_type": "stream",
     "text": [
      "model.rangesA: [slice(0, 1, 0.3), slice(0, 1, 0.3), slice(0, 1, 0.3), slice(0, 1, 0.3)]\n",
      "model.rangesB: [slice(0, 1, 0.3), slice(0, 1, 0.3), slice(0, 1, 0.3), slice(0, 1, 0.3)]\n",
      "\n",
      "init Ax, Ay:\n",
      "tensor([[0.1449, 0.9720],\n",
      "        [0.8551, 0.0280]])\n",
      "tensor([[0.3485, 0.4437],\n",
      "        [0.6515, 0.5563]])\n",
      "Axt progress::  0 %\n",
      "tensor([[0., 0.],\n",
      "        [0., 1.]])\n",
      "Ay\n",
      "tensor([[1., 1.],\n",
      "        [0., 0.]])\n",
      "\n",
      "errA, errB: 0.0 112.7033462524414\n",
      "Axt progress:: ███ 33 %\n",
      "tensor([[0., 0.],\n",
      "        [1., 0.]])\n",
      "Ay\n",
      "tensor([[0., 0.],\n",
      "        [1., 1.]])\n",
      "\n",
      "errA, errB: 0.0 37.016204833984375\n",
      "Axt progress:: ██████ 66 %\n",
      "tensor([[0., 0.],\n",
      "        [0., 1.]])\n",
      "Ay\n",
      "tensor([[1., 1.],\n",
      "        [0., 0.]])\n",
      "\n",
      "errA, errB: 0.0 114.46503448486328\n",
      "\n",
      "done\n",
      "lossesA[-1]: 0.0\n",
      "lossesB[-1]: 114.46503448486328\n",
      "Ax: tensor([[0., 0.],\n",
      "        [0., 1.]])\n",
      "Ay: tensor([[1., 1.],\n",
      "        [0., 0.]])\n"
     ]
    }
   ],
   "source": [
    "sci_maxmin.test_hw_brute(3, dbg=True)"
   ]
  },
  {
   "cell_type": "markdown",
   "metadata": {
    "collapsed": true
   },
   "source": [
    "### Summary:"
   ]
  },
  {
   "cell_type": "code",
   "execution_count": null,
   "metadata": {
    "collapsed": true
   },
   "outputs": [],
   "source": []
  }
 ],
 "metadata": {
  "kernelspec": {
   "display_name": "Python [conda env:math]",
   "language": "python",
   "name": "conda-env-math-py"
  },
  "language_info": {
   "codemirror_mode": {
    "name": "ipython",
    "version": 3
   },
   "file_extension": ".py",
   "mimetype": "text/x-python",
   "name": "python",
   "nbconvert_exporter": "python",
   "pygments_lexer": "ipython3",
   "version": "3.6.2"
  }
 },
 "nbformat": 4,
 "nbformat_minor": 2
}
