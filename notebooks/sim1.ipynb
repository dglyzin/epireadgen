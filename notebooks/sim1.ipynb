{
 "cells": [
  {
   "cell_type": "code",
   "execution_count": 2,
   "metadata": {
    "collapsed": true
   },
   "outputs": [],
   "source": [
    "import math\n",
    "from math import factorial\n",
    "from math import exp\n",
    "import scipy\n",
    "from random import random\n",
    "import numpy as np\n",
    "import matplotlib.pyplot as plt\n",
    "\n",
    "import torch\n",
    "import torch.distributions as tdist\n"
   ]
  },
  {
   "cell_type": "code",
   "execution_count": 3,
   "metadata": {},
   "outputs": [],
   "source": [
    "import os\n",
    "import sys\n",
    "import inspect\n",
    "    \n",
    "# insert root dir into sys\n",
    "currentdir = os.path.dirname(os.path.abspath(inspect.getfile(inspect.currentframe())))\n",
    "root_dir = os.path.dirname(currentdir)\n",
    "# print(root_dir)\n",
    "\n",
    "if root_dir not in sys.path:\n",
    "     sys.path.insert(0, root_dir)\n"
   ]
  },
  {
   "cell_type": "markdown",
   "metadata": {},
   "source": [
    "##### Acceptance-rejection alg\n",
    "To find $f(x) = C h(x) g(x)$<br>\n",
    "where $C \\geq 1$, `h(x)` is pdf, $g(x)\\leq 1$<br>\n",
    "([1. p. 45])<br><br>\n",
    "1) Generate `U` from `Uniform(0, 1)` <br>\n",
    "2) Generate `Y` from pdf `h(y)` <br>\n",
    "3) if `U` $\\leq$ `g(Y)` use `Y` as `X` (i.e. `X=Y` - accept)<br>\n",
    "else reject <br>\n",
    "go to 1)"
   ]
  },
  {
   "cell_type": "markdown",
   "metadata": {},
   "source": [
    "Prove [1. p 46]:<br>\n",
    "$f(x) = C h(x) g(x)$<br>\n",
    "=><br>\n",
    "$P(Y=x|U\\leq g(Y)) = f_{Y}(x|U\\leq g(Y))=f_{X}(x)$\n"
   ]
  },
  {
   "cell_type": "markdown",
   "metadata": {},
   "source": [
    "Von Neumann implementation [1. p. 47]:<br>\n",
    "1) Generate $U_{1}$ and $U_{2}$ from `Uniform(0, 1)` <br>\n",
    "2) $Y \\leftarrow a+ U_{2}(b-a)$  (i.e. $h(x)=\\frac{1}{b-a}$)<br>\n",
    "3) if $U_{1}\\leq g(Y) = \\frac{f_{X}(Y)}{M}$  use `Y` as `X` (i.e. `X=Y` - accept) else reject <br>\n",
    "go to 1)"
   ]
  },
  {
   "cell_type": "code",
   "execution_count": 33,
   "metadata": {
    "collapsed": true
   },
   "outputs": [],
   "source": [
    "class ARDist():\n",
    "    '''Acceptance-rejection alg (p.47 in [1.])'''\n",
    "    \n",
    "    def __init__(self, a, b, f):\n",
    "        self.a = a\n",
    "        self.b = b\n",
    "        self.f = f\n",
    "        \n",
    "        self.usampler = lambda n: np.random.random(n)\n",
    "        \n",
    "        # hdist = UniformAB1(a, b)\n",
    "        # self.hsampler = hdist.sample_n\n",
    "        inv_H = lambda u: a+(b-a)*u \n",
    "        self.hsampler = lambda n: inv_H(np.random.random(n))\n",
    "        \n",
    "        self.M = f(np.random.uniform(a, b, 10000)).max()\n",
    "        self.C = self.M*(b-a)\n",
    "        \n",
    "    def sample_n(self, n):\n",
    "        M = self.M\n",
    "        f = self.f\n",
    "        u1 = self.usampler(n)\n",
    "        y = self.hsampler(n)\n",
    "        return(y[u1 <= f(y)/M])"
   ]
  },
  {
   "cell_type": "code",
   "execution_count": 56,
   "metadata": {},
   "outputs": [
    {
     "name": "stdout",
     "output_type": "stream",
     "text": [
      "7.957498813668379\n",
      "24.999219813970075\n",
      "[0.42895434 0.67539231 0.7236296 ]\n",
      "[0.55694826 0.96694752 2.33599492]\n"
     ]
    },
    {
     "data": {
      "text/plain": [
       "943"
      ]
     },
     "execution_count": 56,
     "metadata": {},
     "output_type": "execute_result"
    }
   ],
   "source": [
    "# f = lambda x: 7*np.sin(x)+np.sin(4*x)\n",
    "f = lambda x: 7*np.sin(x)+np.sin(14*x)\n",
    "\n",
    "ar = ARDist(0, np.pi, f)\n",
    "print(ar.M)\n",
    "print(ar.C)\n",
    "print(ar.usampler(3))\n",
    "print(ar.hsampler(3))\n",
    "len(ar.sample_n(1700))"
   ]
  },
  {
   "cell_type": "code",
   "execution_count": 57,
   "metadata": {},
   "outputs": [
    {
     "name": "stdout",
     "output_type": "stream",
     "text": [
      "Using matplotlib backend: Qt5Agg\n"
     ]
    },
    {
     "data": {
      "text/plain": [
       "[<matplotlib.lines.Line2D at 0x7ff91ab483c8>]"
      ]
     },
     "execution_count": 57,
     "metadata": {},
     "output_type": "execute_result"
    }
   ],
   "source": [
    "%matplotlib\n",
    "xs = ar.sample_n(17000)\n",
    "m1 = max(xs)\n",
    "# xs = ar.hsampler(17000)\n",
    "fig, ax = plt.subplots()\n",
    "\n",
    "v, b, p = ax.hist(xs, 70, # normed=True, # density=True, \n",
    "                stacked=True)\n",
    "xs1 = np.linspace(0, np.pi, 17000)\n",
    "ax.plot(xs1, (f(xs1)/ar.M)*max(v))\n",
    "# plt.hist(xs, 70, # density=True, \n",
    "#         stacked=True)\n"
   ]
  },
  {
   "cell_type": "markdown",
   "metadata": {},
   "source": [
    "### Refs:\n",
    "1) Simulation and the Monte Carlo Method by Reuven Y. Rubinstein"
   ]
  },
  {
   "cell_type": "code",
   "execution_count": null,
   "metadata": {
    "collapsed": true
   },
   "outputs": [],
   "source": []
  }
 ],
 "metadata": {
  "kernelspec": {
   "display_name": "Python [conda env:math]",
   "language": "python",
   "name": "conda-env-math-py"
  },
  "language_info": {
   "codemirror_mode": {
    "name": "ipython",
    "version": 3
   },
   "file_extension": ".py",
   "mimetype": "text/x-python",
   "name": "python",
   "nbconvert_exporter": "python",
   "pygments_lexer": "ipython3",
   "version": "3.6.2"
  }
 },
 "nbformat": 4,
 "nbformat_minor": 2
}
