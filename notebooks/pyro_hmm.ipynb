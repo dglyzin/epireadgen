{
 "cells": [
  {
   "cell_type": "code",
   "execution_count": 1,
   "metadata": {
    "collapsed": true
   },
   "outputs": [],
   "source": [
    "import pyro\n",
    "import torch\n",
    "import pyro.distributions as pdist\n",
    "import torch.distributions as dist\n",
    "from torch.distributions import constraints"
   ]
  },
  {
   "cell_type": "code",
   "execution_count": 23,
   "metadata": {
    "collapsed": true
   },
   "outputs": [],
   "source": [
    "import matplotlib.pyplot as plt"
   ]
  },
  {
   "cell_type": "markdown",
   "metadata": {},
   "source": [
    "##### Original model:"
   ]
  },
  {
   "cell_type": "code",
   "execution_count": 65,
   "metadata": {},
   "outputs": [],
   "source": [
    "a = 0.2\n",
    "b = 1\n",
    "\n",
    "def model1(z0, T_seq, T_bseq, K):\n",
    "    '''\n",
    "    - ``t_seq`` -- general sequence length\n",
    "    i.e. global time\n",
    "    \n",
    "    - ``T_bseq`` -- length of sequence in each batch\n",
    "    (must divide `t_seq`) i.e. local time\n",
    "    \n",
    "    - ``K`` -- count of sequences in each batch\n",
    "    \n",
    "    Return:\n",
    "    containing batchs tensor of shape:\n",
    "    T_seq/T_bseq, T_bseq, K\n",
    "    '''\n",
    "    z_prev = z0 * torch.ones(K)\n",
    "    \n",
    "    x_batch = torch.tensor([])\n",
    "    z_batch = torch.tensor([])\n",
    "    \n",
    "    for i in range(int(T_seq/T_bseq)):\n",
    "        zs = torch.tensor([])\n",
    "        xs = torch.tensor([])\n",
    "        with pyro.plate(\"plate0\", K):\n",
    "            for t in range(T_bseq):\n",
    "                # j = K - i % K\n",
    "                z = pyro.sample(\"z_%d\" % t,\n",
    "                                pdist.Normal(a*z_prev+b, 0.1*torch.ones(1)))\n",
    "                # print(z.shape)\n",
    "                z_prev = z\n",
    "                x = pyro.sample(\"x_%d\" % t,\n",
    "                                pdist.Bernoulli(torch.sigmoid(z)))\n",
    "                zs = torch.cat([zs,\n",
    "                                torch.unsqueeze(z, 0)], 0)\n",
    "                xs = torch.cat([xs,\n",
    "                                torch.unsqueeze(x, 0)], 0)\n",
    "\n",
    "        x_batch = torch.cat([x_batch, torch.unsqueeze(xs.T, 0)], 0)\n",
    "        z_batch = torch.cat([z_batch, torch.unsqueeze(zs.T, 0)], 0)\n",
    "    return(x_batch, z_batch)"
   ]
  },
  {
   "cell_type": "code",
   "execution_count": 66,
   "metadata": {},
   "outputs": [
    {
     "data": {
      "text/plain": [
       "18000"
      ]
     },
     "execution_count": 66,
     "metadata": {},
     "output_type": "execute_result"
    }
   ],
   "source": [
    "300*60"
   ]
  },
  {
   "cell_type": "code",
   "execution_count": 50,
   "metadata": {},
   "outputs": [
    {
     "name": "stdout",
     "output_type": "stream",
     "text": [
      "torch.Size([300, 20, 60])\n",
      "torch.Size([300, 20, 60])\n"
     ]
    }
   ],
   "source": [
    "xs, zs = model1(1.0, 18000, 60, 20)\n",
    "print(xs.shape)\n",
    "print(zs.shape)"
   ]
  },
  {
   "cell_type": "code",
   "execution_count": 55,
   "metadata": {},
   "outputs": [
    {
     "data": {
      "image/png": "[encoded data removed]",
      "text/plain": [
       "<matplotlib.figure.Figure at 0x7fc88849b550>"
      ]
     },
     "metadata": {},
     "output_type": "display_data"
    }
   ],
   "source": [
    "fig, axs = plt.subplots(2, 1)\n",
    "\n",
    "axs.flat[0].plot(torch.flatten(xs, 1)[-1])\n",
    "axs.flat[0].set_title(\"xs\")\n",
    "axs.flat[1].plot(torch.flatten(zs, 1)[-1])\n",
    "axs.flat[1].set_title(\"zs\")\n",
    "\n",
    "plt.show()"
   ]
  },
  {
   "cell_type": "code",
   "execution_count": null,
   "metadata": {
    "collapsed": true
   },
   "outputs": [],
   "source": []
  },
  {
   "cell_type": "markdown",
   "metadata": {},
   "source": [
    "##### Condition:"
   ]
  },
  {
   "cell_type": "code",
   "execution_count": 40,
   "metadata": {
    "collapsed": true
   },
   "outputs": [],
   "source": [
    "def cond_model1(xs_batch):\n",
    "    '''Condition x on observed data (xs_batch) \n",
    "    - ``xs_batch`` -- shape must looks like:\n",
    "    (seqs, time)\n",
    "    \n",
    "    Because of usage of plate all seqs[t] will be sampled\n",
    "    at once (for fixed t).\n",
    "    \n",
    "    x.shape == z0.shape == Size([K])\n",
    "    where K is count of seqs in batch (xs_batch.shape[0])\n",
    "    '''\n",
    "    T = xs_batch.shape[1]\n",
    "    z0 = xs_batch[:,0]\n",
    "    # print(z0.shape)\n",
    "    z_prev = z0\n",
    "    with pyro.plate(\"plate1\", xs_batch.shape[0]):\n",
    "        \n",
    "        # for i in range(T):\n",
    "        #     j = K - i % K\n",
    "        for t in range(1, T):\n",
    "        \n",
    "            # this will be taken from guide\n",
    "            # so we don't care about it here:\n",
    "            z = pyro.sample(\"z_%d\" % t,\n",
    "                            pdist.Normal(z_prev, torch.tensor([0.1])))\n",
    "            z_prev = z\n",
    "            # print(xs_batch[:,t].shape)\n",
    "            \n",
    "            # x.shape == z0.shape == Size([K])\n",
    "            # where K is count of seqs in batch:\n",
    "            x = pyro.sample(\"x_%d\" % t,\n",
    "                            pdist.Bernoulli(torch.sigmoid(z)),\n",
    "                            obs=xs_batch[:, t])\n",
    "            "
   ]
  },
  {
   "cell_type": "code",
   "execution_count": 41,
   "metadata": {},
   "outputs": [],
   "source": [
    "cond_model1(xs[0])\n",
    "# xs[0][:,0].shape\n",
    "# xs[0][0].shape"
   ]
  },
  {
   "cell_type": "markdown",
   "metadata": {},
   "source": [
    "##### Guide:"
   ]
  },
  {
   "cell_type": "code",
   "execution_count": 67,
   "metadata": {
    "collapsed": true
   },
   "outputs": [],
   "source": [
    "def guide1(xs_batch):\n",
    "    '''We try to approximate a*z+b with\n",
    "    a \\in [0.1, 10], b \\in [0.1, 10]'''\n",
    "    \n",
    "    T = xs_batch.shape[1]\n",
    "    K = xs_batch.shape[0]\n",
    "    z0 = xs_batch[:, 0]\n",
    "    \n",
    "    z_prev = z0\n",
    "    a = pyro.param(\"a\", torch.tensor(1.0),\n",
    "                   constraint=constraints.interval(0.1, 10))\n",
    "    b = pyro.param(\"b\", torch.tensor(1.0),\n",
    "                   constraint=constraints.interval(0.1, 10))\n",
    "    \n",
    "    # for i in range(T):\n",
    "    #     j = K - i % K\n",
    "    with pyro.plate(\"plate1\", K):\n",
    "        for t in range(1, T):\n",
    "            # this value will be used for cond_model also\n",
    "            z = pyro.sample(\"z_%d\" % t,\n",
    "                            pdist.Normal(a*z_prev+b, torch.tensor([0.1])))\n",
    "            z_prev = z\n"
   ]
  },
  {
   "cell_type": "code",
   "execution_count": 43,
   "metadata": {
    "collapsed": true
   },
   "outputs": [],
   "source": [
    "guide1(xs[0])"
   ]
  },
  {
   "cell_type": "markdown",
   "metadata": {},
   "source": [
    "##### Learning"
   ]
  },
  {
   "cell_type": "code",
   "execution_count": 68,
   "metadata": {},
   "outputs": [],
   "source": [
    "LEARNING_RATE = 1.0e-7\n",
    "\n",
    "# setup the optimizer:\n",
    "adam_params = {\"lr\": 0.05, \"betas\": (0.9, 0.999)}\n",
    "optimizer = pyro.optim.Adam(adam_params)\n",
    "\n",
    "# adam_params = {\"lr\": 0.00000000000005, \"betas\": (0.998, 0.999)}\n",
    "# optimizer = pyro.optim.Adam(adam_args)\n",
    "\n",
    "# adam_args = {\"lr\": LEARNING_RATE}\n",
    "# optimizer = pyro.optim.Adam(adam_args)\n",
    "# optimizer = pyro.optim.Adam({\"lr\": 0.00000000001, \"betas\": (0.95, 0.999)})\n",
    "# optimizer=pyro.optim.SGD({\"lr\": 0.01,\n",
    "#                         \"momentum\":0.9})\n",
    "\n",
    "# setup the loss:\n",
    "# loss = pyro.infer.CSIS()\n",
    "# loss = pyro.infer.TraceEnum_ELBO()\n",
    "loss = pyro.infer.Trace_ELBO()\n",
    "# optimizer.zero_grad()\n",
    "pyro.clear_param_store()\n",
    "\n",
    "\n",
    "svi = pyro.infer.SVI(model=cond_model1,\n",
    "                     guide=guide1,\n",
    "                     # guide=coin_parametrized_guide,\n",
    "                     optim=optimizer,\n",
    "                     loss=loss)\n",
    "\n",
    "\n",
    "losses, as1, bs1  = [], [], []\n",
    "# num_steps = 37  # 2500\n",
    "\n",
    "for idx, x in enumerate(xs):\n",
    "    # import pdb; pdb.set_trace()\n",
    "    losses.append(svi.step(x))\n",
    "    as1.append(pyro.param(\"a\").item())\n",
    "    bs1.append(pyro.param(\"b\").item())\n",
    "    # print(pyro.param(\"a\").grad)\n",
    "    # cont = msg[\"continuation\"]"
   ]
  },
  {
   "cell_type": "markdown",
   "metadata": {},
   "source": [
    "##### Results:"
   ]
  },
  {
   "cell_type": "code",
   "execution_count": 69,
   "metadata": {},
   "outputs": [
    {
     "data": {
      "text/plain": [
       "0.7255560755729675"
      ]
     },
     "execution_count": 69,
     "metadata": {},
     "output_type": "execute_result"
    }
   ],
   "source": [
    "as1[-1]"
   ]
  },
  {
   "cell_type": "code",
   "execution_count": 70,
   "metadata": {},
   "outputs": [
    {
     "data": {
      "text/plain": [
       "0.35470592975616455"
      ]
     },
     "execution_count": 70,
     "metadata": {},
     "output_type": "execute_result"
    }
   ],
   "source": [
    "bs1[-1]"
   ]
  },
  {
   "cell_type": "code",
   "execution_count": 71,
   "metadata": {},
   "outputs": [
    {
     "data": {
      "image/png": "[encoded data removed]",
      "text/plain": [
       "<matplotlib.figure.Figure at 0x7fc888e53860>"
      ]
     },
     "metadata": {},
     "output_type": "display_data"
    }
   ],
   "source": [
    "fig, axs = plt.subplots(2, 1)\n",
    "\n",
    "axs.flat[0].plot(as1)\n",
    "axs.flat[0].set_title(\"as\")\n",
    "axs.flat[1].plot(bs1)\n",
    "axs.flat[1].set_title(\"bs\")\n",
    "\n",
    "plt.show()"
   ]
  },
  {
   "cell_type": "code",
   "execution_count": 72,
   "metadata": {},
   "outputs": [
    {
     "data": {
      "image/png": "[encoded data removed]",
      "text/plain": [
       "<matplotlib.figure.Figure at 0x7fc888529ac8>"
      ]
     },
     "metadata": {},
     "output_type": "display_data"
    }
   ],
   "source": [
    "x = torch.linspace(0, 10, 100)\n",
    "fig, axs = plt.subplots(2, 1)\n",
    "\n",
    "axs.flat[0].plot(a*x+b, x)\n",
    "axs.flat[0].set_title(\"original\")\n",
    "axs.flat[1].plot(as1[-1]*x+bs1[-1])\n",
    "axs.flat[1].set_title(\"result\")\n",
    "\n",
    "plt.show()\n"
   ]
  },
  {
   "cell_type": "code",
   "execution_count": null,
   "metadata": {
    "collapsed": true
   },
   "outputs": [],
   "source": []
  }
 ],
 "metadata": {
  "kernelspec": {
   "display_name": "Python [conda env:math]",
   "language": "python",
   "name": "conda-env-math-py"
  },
  "language_info": {
   "codemirror_mode": {
    "name": "ipython",
    "version": 3
   },
   "file_extension": ".py",
   "mimetype": "text/x-python",
   "name": "python",
   "nbconvert_exporter": "python",
   "pygments_lexer": "ipython3",
   "version": "3.6.2"
  }
 },
 "nbformat": 4,
 "nbformat_minor": 2
}
