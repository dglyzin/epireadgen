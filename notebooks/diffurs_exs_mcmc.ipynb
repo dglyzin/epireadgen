{
 "cells": [
  {
   "cell_type": "markdown",
   "metadata": {},
   "source": [
    "### Simple examples\n",
    "(Диффуры которые легко интерпретировать)"
   ]
  },
  {
   "cell_type": "code",
   "execution_count": 1,
   "metadata": {
    "collapsed": true
   },
   "outputs": [],
   "source": [
    "import torch\n",
    "import pyro\n",
    "from pyro.infer import MCMC, NUTS\n",
    "import matplotlib.pyplot as plt"
   ]
  },
  {
   "cell_type": "code",
   "execution_count": 2,
   "metadata": {
    "collapsed": true
   },
   "outputs": [],
   "source": [
    "import os\n",
    "import sys\n",
    "import inspect\n",
    "\n",
    "# insert root dir into sys\n",
    "currentdir = os.path.dirname(os.path.abspath(inspect.getfile(inspect.currentframe())))\n",
    "root_dir = os.path.dirname(currentdir)\n",
    "# print(root_dir)\n",
    "\n",
    "if root_dir not in sys.path:\n",
    "     sys.path.insert(0, root_dir)"
   ]
  },
  {
   "cell_type": "code",
   "execution_count": 3,
   "metadata": {
    "collapsed": true
   },
   "outputs": [],
   "source": [
    "import sim5_hw as sm"
   ]
  },
  {
   "cell_type": "code",
   "execution_count": 4,
   "metadata": {
    "collapsed": true
   },
   "outputs": [],
   "source": [
    "# efficiency matrix:\n",
    "# (will be transposed)\n",
    "U = 0.1*torch.ones((8, 8))\n",
    "U[0][:3] = torch.tensor([0.7, 0.8, 0.3])\n",
    "U[1][2:] = torch.tensor([0.3, 0.5, 0.9, 0.9, 0.9, 0.2])\n",
    "U[2][:4] = torch.tensor([0.9, 0.9, 0.5, 0.2])\n",
    "U[3][2:-1] = torch.tensor([0.9, 0.5, 0.7, 0.7, 0.7])\n",
    "U[4][:] = torch.tensor([0.6, 0.7, 0.9, 0.9, 0.5, 0.5, 0.5, 0.2])\n",
    "U[5][:] = torch.tensor([0.9, 0.9, 0.6, 0.4, 0.1, 0.1, 0.1, 0.1])\n",
    "U[6][4:] = torch.tensor([0.9, 0.9, 0.9, 0.5])\n",
    "U[7][4:] = torch.tensor([0.9, 0.9, 0.9, 0.7])\n"
   ]
  },
  {
   "cell_type": "markdown",
   "metadata": {},
   "source": [
    "Model specification:"
   ]
  },
  {
   "cell_type": "code",
   "execution_count": 5,
   "metadata": {
    "collapsed": true
   },
   "outputs": [],
   "source": [
    "    A_spec = {\n",
    "        \"decision_matrix\": None,\n",
    "        \"units\": {\n",
    "\n",
    "            # needed only if there is neither types nor counts given:\n",
    "            # \"possible_types\": [0, 1, 2, 3, 4],\n",
    "            # \"chosen_count\": 3,\n",
    "            # \"types\": [0, 1, 4],\n",
    "            \"types\": [0, 4],\n",
    "\n",
    "            \"counts\": torch.tensor([3, 4]).type(torch.float),\n",
    "            # maximal amount of units to sample for any type\n",
    "            # must be given if \"counts\" not: \n",
    "            \"max_count\": 4,\n",
    "        },\n",
    "        \"goal\": lambda x, y: (y <= 0).all(),\n",
    "        ## \"goal\": lambda x, y: y[1] <= 0 and y[2] <= 0\n",
    "        # \"goal\": lambda x, y: y[0] <= 0 and y[1] <= 0 and x[-1] > 2\n",
    "    }\n",
    "    B_spec = {\n",
    "        \"decision_matrix\": None,\n",
    "        \"units\": {\n",
    "            \"types\": [1, 2, 3],\n",
    "            \"counts\": torch.tensor([2, 4,  2]).type(torch.float)\n",
    "        },\n",
    "        \"goal\": lambda x, y: (x <= 0).all() # and y[2] >= 2\n",
    "        # \"goal\": lambda x, y: x[1] <= 0 and x[-1] <= 0,  # and y[2] >= 2\n",
    "    }\n",
    "\n",
    "    sim_spec = {\n",
    "        \"agents\": {\"A\": A_spec, \"B\": B_spec},\n",
    "\n",
    "        \"T\": 30,\n",
    "        \"dt\": 0.5,\n",
    "        # \"dt\": 0.5,\n",
    "        \"init_factor\": -110.0,\n",
    "\n",
    "        \"U\": U,\n",
    "\n",
    "        # choose side A (i.e. want A to win):\n",
    "        \"scores\": [\n",
    "            {\n",
    "                \"test\": lambda goalA, goalB: goalA and not goalB,\n",
    "                \"once\": False,\n",
    "                \"factor\": 0,\n",
    "                # will be exited once happend, factor been be overriden\n",
    "                \"exit\": True\n",
    "            },\n",
    "            {\n",
    "                \"test\": lambda goalA, goalB: not goalA and goalB,\n",
    "                \"once\": False,\n",
    "                \"factor\": -1000,\n",
    "                # will be exited once happend, factor been be overriden\n",
    "                \"exit\": True\n",
    "            },\n",
    "            {\n",
    "                \"test\": lambda goalA, goalB: not goalA and not goalB,\n",
    "                # only once from all times will factor been used  \n",
    "                \"once\": True,\n",
    "                \"factor\": 10,\n",
    "                \"exit\": False\n",
    "            }\n",
    "        ] \n",
    "    }\n"
   ]
  },
  {
   "cell_type": "code",
   "execution_count": 6,
   "metadata": {
    "collapsed": true
   },
   "outputs": [],
   "source": [
    "def run_test_and_show(sim_spec):\n",
    "    '''Run the model with given spec.'''\n",
    "    losses = []\n",
    "    ehandler = sm.test_mk_model(sim_spec, losses, False, False)\n",
    "\n",
    "    sm.show_model_states_context(\n",
    "        ehandler, [\"x\", \"y\", \"Ua\", \"Ub\", \"Ax\", \"Ay\", \"events_to_check\"])\n",
    "    sm.show_model_states_context(\n",
    "        ehandler, [\"utypes\"],\n",
    "        observation_name=\"sample_space_of_a_utypes\")\n",
    "    sm.show_model_states_context(\n",
    "            ehandler, [\"ucounts\"],\n",
    "            observation_name=\"counts_of_x0\")\n",
    "\n",
    "    sm.show_model_trace(ehandler, [\"x0\", \"Ax_T\", \"y0\", \"Ay_T\"])\n",
    "    \n"
   ]
  },
  {
   "cell_type": "code",
   "execution_count": 7,
   "metadata": {},
   "outputs": [
    {
     "name": "stdout",
     "output_type": "stream",
     "text": [
      "\n",
      "observations state_context::\n",
      "\n",
      "x\n",
      "tensor([0., 0.])\n",
      "\n",
      "y\n",
      "tensor([0.0000, 0.5214, 0.8763])\n",
      "\n",
      "Ua\n",
      "tensor([[0.8000, 0.7000],\n",
      "        [0.3000, 0.9000],\n",
      "        [0.1000, 0.9000]])\n",
      "\n",
      "Ub\n",
      "tensor([[0.1000, 0.9000, 0.1000],\n",
      "        [0.9000, 0.1000, 0.7000]])\n",
      "\n",
      "Ax\n",
      "tensor([[0.4000, 0.7016],\n",
      "        [0.5446, 0.2209],\n",
      "        [0.0553, 0.0774]])\n",
      "\n",
      "Ay\n",
      "tensor([[0.6768, 0.6338, 0.6884],\n",
      "        [0.3232, 0.3662, 0.3116]])\n",
      "\n",
      "events_to_check\n",
      "OrderedDict([('goalA', tensor(False)), ('goalB', tensor(True)), ('goalAoverB', True), ('exit?', None)])\n",
      "\n",
      "observations state_context::\n",
      "no observations to show\n",
      "\n",
      "observations state_context::\n",
      "no observations to show\n",
      "\n",
      "trace:\n",
      "\n",
      "Ax\n",
      "tensor([[0.4000, 0.7016],\n",
      "        [0.5446, 0.2209],\n",
      "        [0.0553, 0.0774]])\n",
      "\n",
      "event_error_factor:\n",
      "tensor(-1000)\n"
     ]
    }
   ],
   "source": [
    "run_test_and_show(sim_spec)"
   ]
  },
  {
   "cell_type": "code",
   "execution_count": 11,
   "metadata": {},
   "outputs": [
    {
     "name": "stderr",
     "output_type": "stream",
     "text": [
      "Sample: 100%|██████████| 80/80 [04:57,  3.72s/it, step size=8.44e-01, acc. prob=0.553]\n"
     ]
    }
   ],
   "source": [
    "mcmc, losses = sm.test_mcmc(40, sim_spec, mdbg=False, edbg=False)"
   ]
  },
  {
   "cell_type": "markdown",
   "metadata": {},
   "source": [
    "Collect result (solution):"
   ]
  },
  {
   "cell_type": "code",
   "execution_count": 12,
   "metadata": {},
   "outputs": [
    {
     "data": {
      "text/plain": [
       "{'decision_matrix': tensor([[0.3231, 0.2458],\n",
       "         [0.3918, 0.3978],\n",
       "         [0.2850, 0.3564]]),\n",
       " 'goal': <function __main__.<lambda>>,\n",
       " 'units': {'counts': tensor([3., 4.]), 'max_count': 4, 'types': [0, 4]}}"
      ]
     },
     "execution_count": 12,
     "metadata": {},
     "output_type": "execute_result"
    }
   ],
   "source": [
    "sim_spec = sm.update_spec(sim_spec, mcmc, idx=-1, side=\"A\", dbg=False)\n",
    "sim_spec['agents']['A']"
   ]
  },
  {
   "cell_type": "markdown",
   "metadata": {},
   "source": [
    "Collect factor (error) and others params:"
   ]
  },
  {
   "cell_type": "code",
   "execution_count": 23,
   "metadata": {},
   "outputs": [
    {
     "name": "stdout",
     "output_type": "stream",
     "text": [
      "\n",
      "observations state_context::\n",
      "\n",
      "x\n",
      "tensor([0., 0.])\n",
      "\n",
      "y\n",
      "tensor([1.0135, 2.6730, 0.9439])\n",
      "\n",
      "Ua\n",
      "tensor([[0.8000, 0.7000],\n",
      "        [0.3000, 0.9000],\n",
      "        [0.1000, 0.9000]])\n",
      "\n",
      "Ub\n",
      "tensor([[0.1000, 0.9000, 0.1000],\n",
      "        [0.9000, 0.1000, 0.7000]])\n",
      "\n",
      "Ax\n",
      "tensor([[0.3231, 0.2458],\n",
      "        [0.3918, 0.3978],\n",
      "        [0.2850, 0.3564]])\n",
      "\n",
      "Ay\n",
      "tensor([[0.0135, 0.7854, 0.1983],\n",
      "        [0.9865, 0.2146, 0.8017]])\n",
      "\n",
      "events_to_check\n",
      "OrderedDict([('goalA', tensor(False)), ('goalB', tensor(True)), ('goalAoverB', True), ('exit?', None)])\n",
      "\n",
      "observations state_context::\n",
      "no observations to show\n",
      "\n",
      "trace:\n",
      "\n",
      "event_error_factor:\n",
      "tensor(-1000)\n"
     ]
    }
   ],
   "source": [
    "run_test_and_show(sim_spec)\n"
   ]
  },
  {
   "cell_type": "markdown",
   "metadata": {
    "collapsed": true
   },
   "source": [
    "Now let give him the matrix Ay:"
   ]
  },
  {
   "cell_type": "code",
   "execution_count": 25,
   "metadata": {
    "collapsed": true
   },
   "outputs": [],
   "source": [
    "Ay = torch.tensor([[0.0135, 0.7854, 0.1983],\n",
    "                   [0.9865, 0.2146, 0.8017]])"
   ]
  },
  {
   "cell_type": "code",
   "execution_count": 27,
   "metadata": {},
   "outputs": [
    {
     "data": {
      "text/plain": [
       "{'T': 30,\n",
       " 'U': tensor([[0.7000, 0.8000, 0.3000, 0.1000, 0.1000, 0.1000, 0.1000, 0.1000],\n",
       "         [0.1000, 0.1000, 0.3000, 0.5000, 0.9000, 0.9000, 0.9000, 0.2000],\n",
       "         [0.9000, 0.9000, 0.5000, 0.2000, 0.1000, 0.1000, 0.1000, 0.1000],\n",
       "         [0.1000, 0.1000, 0.9000, 0.5000, 0.7000, 0.7000, 0.7000, 0.1000],\n",
       "         [0.6000, 0.7000, 0.9000, 0.9000, 0.5000, 0.5000, 0.5000, 0.2000],\n",
       "         [0.9000, 0.9000, 0.6000, 0.4000, 0.1000, 0.1000, 0.1000, 0.1000],\n",
       "         [0.1000, 0.1000, 0.1000, 0.1000, 0.9000, 0.9000, 0.9000, 0.5000],\n",
       "         [0.1000, 0.1000, 0.1000, 0.1000, 0.9000, 0.9000, 0.9000, 0.7000]]),\n",
       " 'agents': {'A': {'decision_matrix': None,\n",
       "   'goal': <function __main__.<lambda>>,\n",
       "   'units': {'counts': tensor([3., 4.]), 'max_count': 4, 'types': [0, 4]}},\n",
       "  'B': {'decision_matrix': tensor([[0.0135, 0.7854, 0.1983],\n",
       "           [0.9865, 0.2146, 0.8017]]),\n",
       "   'goal': <function __main__.<lambda>>,\n",
       "   'units': {'counts': tensor([2., 4., 2.]), 'types': [1, 2, 3]}}},\n",
       " 'dt': 0.5,\n",
       " 'init_factor': -110.0,\n",
       " 'scores': [{'exit': True,\n",
       "   'factor': 0,\n",
       "   'once': False,\n",
       "   'test': <function __main__.<lambda>>},\n",
       "  {'exit': True,\n",
       "   'factor': -1000,\n",
       "   'once': False,\n",
       "   'test': <function __main__.<lambda>>},\n",
       "  {'exit': False,\n",
       "   'factor': 10,\n",
       "   'once': True,\n",
       "   'test': <function __main__.<lambda>>}]}"
      ]
     },
     "execution_count": 27,
     "metadata": {},
     "output_type": "execute_result"
    }
   ],
   "source": [
    "sim_spec[\"agents\"][\"A\"][\"decision_matrix\"]=None\n",
    "sim_spec[\"agents\"][\"B\"][\"decision_matrix\"]=Ay\n",
    "sim_spec"
   ]
  },
  {
   "cell_type": "markdown",
   "metadata": {},
   "source": [
    "and try again:"
   ]
  },
  {
   "cell_type": "code",
   "execution_count": 30,
   "metadata": {
    "collapsed": true
   },
   "outputs": [],
   "source": [
    "# will stick here\n",
    "# mcmc, losses = sm.test_mcmc(40, sim_spec, mdbg=False, edbg=False)"
   ]
  },
  {
   "cell_type": "markdown",
   "metadata": {},
   "source": [
    "Now we do not give him counts and let find it himself:"
   ]
  },
  {
   "cell_type": "code",
   "execution_count": 32,
   "metadata": {},
   "outputs": [
    {
     "data": {
      "text/plain": [
       "{'T': 30,\n",
       " 'U': tensor([[0.7000, 0.8000, 0.3000, 0.1000, 0.1000, 0.1000, 0.1000, 0.1000],\n",
       "         [0.1000, 0.1000, 0.3000, 0.5000, 0.9000, 0.9000, 0.9000, 0.2000],\n",
       "         [0.9000, 0.9000, 0.5000, 0.2000, 0.1000, 0.1000, 0.1000, 0.1000],\n",
       "         [0.1000, 0.1000, 0.9000, 0.5000, 0.7000, 0.7000, 0.7000, 0.1000],\n",
       "         [0.6000, 0.7000, 0.9000, 0.9000, 0.5000, 0.5000, 0.5000, 0.2000],\n",
       "         [0.9000, 0.9000, 0.6000, 0.4000, 0.1000, 0.1000, 0.1000, 0.1000],\n",
       "         [0.1000, 0.1000, 0.1000, 0.1000, 0.9000, 0.9000, 0.9000, 0.5000],\n",
       "         [0.1000, 0.1000, 0.1000, 0.1000, 0.9000, 0.9000, 0.9000, 0.7000]]),\n",
       " 'agents': {'A': {'decision_matrix': None,\n",
       "   'goal': <function __main__.<lambda>>,\n",
       "   'units': {'max_count': 7, 'types': [0, 4]}},\n",
       "  'B': {'decision_matrix': tensor([[0.0135, 0.7854, 0.1983],\n",
       "           [0.9865, 0.2146, 0.8017]]),\n",
       "   'goal': <function __main__.<lambda>>,\n",
       "   'units': {'counts': tensor([2., 4., 2.]), 'types': [1, 2, 3]}}},\n",
       " 'dt': 0.5,\n",
       " 'init_factor': -110.0,\n",
       " 'scores': [{'exit': True,\n",
       "   'factor': 0,\n",
       "   'once': False,\n",
       "   'test': <function __main__.<lambda>>},\n",
       "  {'exit': True,\n",
       "   'factor': -1000,\n",
       "   'once': False,\n",
       "   'test': <function __main__.<lambda>>},\n",
       "  {'exit': False,\n",
       "   'factor': 10,\n",
       "   'once': True,\n",
       "   'test': <function __main__.<lambda>>}]}"
      ]
     },
     "execution_count": 32,
     "metadata": {},
     "output_type": "execute_result"
    }
   ],
   "source": [
    " A_spec1 = {\n",
    "        \"decision_matrix\": None,\n",
    "        \"units\": {\n",
    "\n",
    "            # needed only if there is neither types nor counts given:\n",
    "            # \"possible_types\": [0, 1, 2, 3, 4],\n",
    "            # \"chosen_count\": 3,\n",
    "            # \"types\": [0, 1, 4],\n",
    "            \"types\": [0, 4],\n",
    "\n",
    "            # \"counts\": torch.tensor([3, 4]).type(torch.float),\n",
    "            # maximal amount of units to sample for any type\n",
    "            # must be given if \"counts\" not: \n",
    "            \"max_count\": 7,\n",
    "        },\n",
    "        \"goal\": lambda x, y: (y <= 0).all(),\n",
    "        ## \"goal\": lambda x, y: y[1] <= 0 and y[2] <= 0\n",
    "        # \"goal\": lambda x, y: y[0] <= 0 and y[1] <= 0 and x[-1] > 2\n",
    "    }\n",
    "sim_spec[\"agents\"][\"A\"]=A_spec1\n",
    "sim_spec"
   ]
  },
  {
   "cell_type": "code",
   "execution_count": 33,
   "metadata": {},
   "outputs": [
    {
     "name": "stderr",
     "output_type": "stream",
     "text": [
      "Sample: 100%|██████████| 80/80 [04:11,  3.14s/it, step size=1.49e-01, acc. prob=0.693]\n"
     ]
    }
   ],
   "source": [
    "mcmc, losses = sm.test_mcmc(40, sim_spec, mdbg=False, edbg=False)"
   ]
  },
  {
   "cell_type": "code",
   "execution_count": 34,
   "metadata": {},
   "outputs": [
    {
     "data": {
      "text/plain": [
       "{'decision_matrix': tensor([[0.4816, 0.2262],\n",
       "         [0.0034, 0.3921],\n",
       "         [0.5151, 0.3816]]),\n",
       " 'goal': <function __main__.<lambda>>,\n",
       " 'units': {'counts': tensor([4.8629, 4.1483]),\n",
       "  'max_count': 7,\n",
       "  'types': [0, 4]}}"
      ]
     },
     "execution_count": 34,
     "metadata": {},
     "output_type": "execute_result"
    }
   ],
   "source": [
    "sim_spec = sm.update_spec(sim_spec, mcmc, idx=-1, side=\"A\", dbg=False)\n",
    "sim_spec['agents']['A']"
   ]
  },
  {
   "cell_type": "code",
   "execution_count": 35,
   "metadata": {},
   "outputs": [
    {
     "name": "stdout",
     "output_type": "stream",
     "text": [
      "\n",
      "observations state_context::\n",
      "\n",
      "x\n",
      "tensor([0.0000, 1.3180])\n",
      "\n",
      "y\n",
      "tensor([0., 0., 0.])\n",
      "\n",
      "Ua\n",
      "tensor([[0.8000, 0.7000],\n",
      "        [0.3000, 0.9000],\n",
      "        [0.1000, 0.9000]])\n",
      "\n",
      "Ub\n",
      "tensor([[0.1000, 0.9000, 0.1000],\n",
      "        [0.9000, 0.1000, 0.7000]])\n",
      "\n",
      "Ax\n",
      "tensor([[0.4816, 0.2262],\n",
      "        [0.0034, 0.3921],\n",
      "        [0.5151, 0.3816]])\n",
      "\n",
      "Ay\n",
      "tensor([[0.0135, 0.7854, 0.1983],\n",
      "        [0.9865, 0.2146, 0.8017]])\n",
      "\n",
      "events_to_check\n",
      "OrderedDict([('goalA', tensor(True)), ('goalB', tensor(False)), ('goalAoverB', True), ('exit?', None)])\n",
      "\n",
      "observations state_context::\n",
      "no observations to show\n",
      "\n",
      "trace:\n",
      "\n",
      "event_error_factor:\n",
      "tensor(0)\n"
     ]
    }
   ],
   "source": [
    "run_test_and_show(sim_spec)\n"
   ]
  },
  {
   "cell_type": "markdown",
   "metadata": {},
   "source": [
    "Ay is arbitrary (minimax problem):"
   ]
  },
  {
   "cell_type": "code",
   "execution_count": 23,
   "metadata": {},
   "outputs": [
    {
     "data": {
      "text/plain": [
       "{'T': 30,\n",
       " 'U': tensor([[0.7000, 0.8000, 0.3000, 0.1000, 0.1000, 0.1000, 0.1000, 0.1000],\n",
       "         [0.1000, 0.1000, 0.3000, 0.5000, 0.9000, 0.9000, 0.9000, 0.2000],\n",
       "         [0.9000, 0.9000, 0.5000, 0.2000, 0.1000, 0.1000, 0.1000, 0.1000],\n",
       "         [0.1000, 0.1000, 0.9000, 0.5000, 0.7000, 0.7000, 0.7000, 0.1000],\n",
       "         [0.6000, 0.7000, 0.9000, 0.9000, 0.5000, 0.5000, 0.5000, 0.2000],\n",
       "         [0.9000, 0.9000, 0.6000, 0.4000, 0.1000, 0.1000, 0.1000, 0.1000],\n",
       "         [0.1000, 0.1000, 0.1000, 0.1000, 0.9000, 0.9000, 0.9000, 0.5000],\n",
       "         [0.1000, 0.1000, 0.1000, 0.1000, 0.9000, 0.9000, 0.9000, 0.7000]]),\n",
       " 'agents': {'A': {'decision_matrix': None,\n",
       "   'goal': <function __main__.<lambda>>,\n",
       "   'units': {'max_count': 5, 'min_count': 2, 'types': [0, 4]}},\n",
       "  'B': {'decision_matrix': None,\n",
       "   'goal': <function __main__.<lambda>>,\n",
       "   'units': {'counts': tensor([2., 4., 2.]), 'types': [1, 2, 3]}}},\n",
       " 'dt': 0.5,\n",
       " 'init_factor': -110.0,\n",
       " 'scores': [{'exit': True,\n",
       "   'factor': 0,\n",
       "   'once': False,\n",
       "   'test': <function __main__.<lambda>>},\n",
       "  {'exit': True,\n",
       "   'factor': -1000,\n",
       "   'once': False,\n",
       "   'test': <function __main__.<lambda>>},\n",
       "  {'exit': False,\n",
       "   'factor': 10,\n",
       "   'once': True,\n",
       "   'test': <function __main__.<lambda>>}]}"
      ]
     },
     "execution_count": 23,
     "metadata": {},
     "output_type": "execute_result"
    }
   ],
   "source": [
    " A_spec1 = {\n",
    "        \"decision_matrix\": None,\n",
    "        \"units\": {\n",
    "\n",
    "            # needed only if there is neither types nor counts given:\n",
    "            # \"possible_types\": [0, 1, 2, 3, 4],\n",
    "            # \"chosen_count\": 3,\n",
    "            # \"types\": [0, 1, 4],\n",
    "            \"types\": [0, 4],\n",
    "\n",
    "            # \"counts\": torch.tensor([3, 4]).type(torch.float),\n",
    "            # maximal amount of units to sample for any type\n",
    "            # must be given if \"counts\" not: \n",
    "            \"max_count\": 5,\n",
    "            \"min_count\": 2,\n",
    "        },\n",
    "        \"goal\": lambda x, y: (y <= 0).all(),\n",
    "        ## \"goal\": lambda x, y: y[1] <= 0 and y[2] <= 0\n",
    "        # \"goal\": lambda x, y: y[0] <= 0 and y[1] <= 0 and x[-1] > 2\n",
    "    }\n",
    "sim_spec[\"agents\"][\"A\"]=A_spec1\n",
    "sim_spec[\"agents\"][\"B\"][\"decision_matrix\"]=None\n",
    "\n",
    "sim_spec"
   ]
  },
  {
   "cell_type": "code",
   "execution_count": 24,
   "metadata": {},
   "outputs": [
    {
     "name": "stderr",
     "output_type": "stream",
     "text": [
      "Sample: 100%|██████████| 40/40 [09:55, 14.90s/it, step size=5.66e-08, acc. prob=0.284]\n"
     ]
    }
   ],
   "source": [
    "mcmc, losses = sm.test_mcmc(20, sim_spec, mdbg=False, edbg=False)\n",
    "# mcmc, losses = sm.test_mcmc(40, sim_spec, mdbg=False, edbg=False)"
   ]
  },
  {
   "cell_type": "code",
   "execution_count": 25,
   "metadata": {},
   "outputs": [
    {
     "data": {
      "text/plain": [
       "{'decision_matrix': tensor([[0.3272, 0.2379],\n",
       "         [0.3979, 0.4300],\n",
       "         [0.2750, 0.3321]]),\n",
       " 'goal': <function __main__.<lambda>>,\n",
       " 'units': {'counts': tensor([3.7098, 3.1311]),\n",
       "  'max_count': 5,\n",
       "  'min_count': 2,\n",
       "  'types': [0, 4]}}"
      ]
     },
     "execution_count": 25,
     "metadata": {},
     "output_type": "execute_result"
    }
   ],
   "source": [
    "sim_spec = sm.update_spec(sim_spec, mcmc, idx=-1, side=\"A\", dbg=False)\n",
    "sim_spec['agents']['A']"
   ]
  },
  {
   "cell_type": "code",
   "execution_count": 26,
   "metadata": {},
   "outputs": [
    {
     "name": "stdout",
     "output_type": "stream",
     "text": [
      "\n",
      "observations state_context::\n",
      "\n",
      "x\n",
      "tensor([0.0000, 0.6641])\n",
      "\n",
      "y\n",
      "tensor([0., 0., 0.])\n",
      "\n",
      "Ua\n",
      "tensor([[0.8000, 0.7000],\n",
      "        [0.3000, 0.9000],\n",
      "        [0.1000, 0.9000]])\n",
      "\n",
      "Ub\n",
      "tensor([[0.1000, 0.9000, 0.1000],\n",
      "        [0.9000, 0.1000, 0.7000]])\n",
      "\n",
      "Ax\n",
      "tensor([[0.3272, 0.2379],\n",
      "        [0.3979, 0.4300],\n",
      "        [0.2750, 0.3321]])\n",
      "\n",
      "Ay\n",
      "tensor([[0.8187, 0.4312, 0.4503],\n",
      "        [0.1813, 0.5688, 0.5497]])\n",
      "\n",
      "events_to_check\n",
      "OrderedDict([('goalA', tensor(True)), ('goalB', tensor(False)), ('goalAoverB', True), ('exit?', None)])\n",
      "\n",
      "observations state_context::\n",
      "no observations to show\n",
      "\n",
      "observations state_context::\n",
      "no observations to show\n",
      "\n",
      "trace:\n",
      "\n",
      "event_error_factor:\n",
      "tensor(0)\n"
     ]
    }
   ],
   "source": [
    "run_test_and_show(sim_spec)"
   ]
  },
  {
   "cell_type": "code",
   "execution_count": 46,
   "metadata": {
    "collapsed": true
   },
   "outputs": [],
   "source": [
    "def run_tests_and_collect_factors(count, sim_spec):\n",
    "    '''Run the model `count` times with given sim.'''\n",
    "    factors = []\n",
    "    losses = []\n",
    "    for i in range(count):\n",
    "        ehandler = sm.test_mk_model(sim_spec, losses, False, False)\n",
    "        factor = ehandler.trace.nodes[\"event_error_factor\"]\n",
    "        factor_value = factor[\"value\"]\n",
    "        factor_log = factor[\"fn\"].log_prob(factor_value)\n",
    "        factors.append(factor_log)\n",
    "\n",
    "    factors = torch.cat([factor.unsqueeze(0) for factor in factors]).type(torch.long)\n",
    "    print(\"factors:\")\n",
    "    print(factors)\n",
    "    print(\"losses:\")\n",
    "    print(losses)\n",
    "\n",
    "    plt.hist(factors, bins=15)\n",
    "    plt.title(\"factors\")\n",
    "    plt.show()\n",
    "    return factors"
   ]
  },
  {
   "cell_type": "code",
   "execution_count": null,
   "metadata": {
    "collapsed": true
   },
   "outputs": [],
   "source": [
    "run_tests_and_collect_factors(10, sim_spec)"
   ]
  },
  {
   "cell_type": "markdown",
   "metadata": {
    "collapsed": true
   },
   "source": [
    "units types not given"
   ]
  },
  {
   "cell_type": "code",
   "execution_count": null,
   "metadata": {
    "collapsed": true
   },
   "outputs": [],
   "source": [
    "    A_spec1 = {\n",
    "        \"decision_matrix\": None,\n",
    "        \"units\": {\n",
    "\n",
    "            # needed only if there is neither types nor counts given:\n",
    "            # \"possible_types\": [0, 3, 4],\n",
    "            # \"chosen_count\": 3,\n",
    "            \"types\": [0, 3, 4],\n",
    "            # \"types\": [0, 4],\n",
    "\n",
    "            # \"counts\": torch.tensor([3, 4]).type(torch.float),\n",
    "            # maximal amount of units to sample for any type\n",
    "            # must be given if \"counts\" not: \n",
    "            # \"max_count\": 3,\n",
    "            \"max_count\": [2, 4, 3],\n",
    "            \"min_count\": [1, 2, 1]\n",
    "        },\n",
    "        \"goal\": lambda x, y: (y <= 0).all(),\n",
    "        ## \"goal\": lambda x, y: y[1] <= 0 and y[2] <= 0\n",
    "        # \"goal\": lambda x, y: y[0] <= 0 and y[1] <= 0 and x[-1] > 2\n",
    "    }\n",
    "\n",
    "sim_spec[\"agents\"][\"A\"]=A_spec1\n",
    "B_spec1 = {\n",
    "   \"decision_matrix\": None,\n",
    "    \"units\": {\n",
    "       \"types\": [1, 2, 3],\n",
    "        \"counts\": torch.tensor([2, 4,  3]).type(torch.float)\n",
    "    },\n",
    "    \"goal\": lambda x, y: (x <= 0).all() # and y[2] >= 2\n",
    "    # \"goal\": lambda x, y: x[1] <= 0 and x[-1] <= 0,  # and y[2] >= 2\n",
    "}\n",
    "sim_spec[\"agents\"][\"B\"]=B_spec1\n",
    "sim_spec"
   ]
  },
  {
   "cell_type": "code",
   "execution_count": 24,
   "metadata": {},
   "outputs": [
    {
     "name": "stdout",
     "output_type": "stream",
     "text": [
      "\n",
      "observations state_context::\n",
      "\n",
      "x\n",
      "tensor([0.4023, 0.0000, 0.0000])\n",
      "\n",
      "y\n",
      "tensor([0.2300, 0.0000, 0.0000])\n",
      "\n",
      "Ua\n",
      "tensor([[0.8000, 0.1000, 0.7000],\n",
      "        [0.3000, 0.9000, 0.9000],\n",
      "        [0.1000, 0.5000, 0.9000]])\n",
      "\n",
      "Ub\n",
      "tensor([[0.1000, 0.9000, 0.1000],\n",
      "        [0.5000, 0.2000, 0.5000],\n",
      "        [0.9000, 0.1000, 0.7000]])\n",
      "\n",
      "Ax\n",
      "tensor([[0.2631, 0.1317, 0.0786],\n",
      "        [0.2705, 0.4112, 0.6338],\n",
      "        [0.4664, 0.4571, 0.2875]])\n",
      "\n",
      "Ay\n",
      "tensor([[0.0034, 0.2218, 0.4453],\n",
      "        [0.4912, 0.4887, 0.2736],\n",
      "        [0.5054, 0.2895, 0.2811]])\n",
      "\n",
      "events_to_check\n",
      "OrderedDict([('goalA', tensor(False)), ('goalB', tensor(False)), ('goalAoverB', False), ('exit?', None)])\n",
      "\n",
      "observations state_context::\n",
      "no observations to show\n",
      "\n",
      "observations state_context::\n",
      "\n",
      "ucounts\n",
      "tensor([1.5509, 3.8956, 2.7964])\n",
      "\n",
      "trace:\n",
      "\n",
      "x0\n",
      "tensor([1.5509, 3.8956, 2.7964])\n",
      "\n",
      "Ax\n",
      "tensor([[0.2631, 0.1317, 0.0786],\n",
      "        [0.2705, 0.4112, 0.6338],\n",
      "        [0.4664, 0.4571, 0.2875]])\n",
      "\n",
      "event_error_factor:\n",
      "tensor(-100.)\n"
     ]
    }
   ],
   "source": [
    "run_test_and_show(sim_spec)"
   ]
  },
  {
   "cell_type": "code",
   "execution_count": 25,
   "metadata": {},
   "outputs": [
    {
     "name": "stderr",
     "output_type": "stream",
     "text": [
      "Warmup:  31%|███▏      | 25/80 [22:58, 55.15s/it, step size=1.31e-23, acc. prob=0.040]\n",
      "Sample: 100%|██████████| 80/80 [26:04, 19.56s/it, step size=1.52e-21, acc. prob=0.262]\n"
     ]
    }
   ],
   "source": [
    "mcmc, losses = sm.test_mcmc(40, sim_spec, mdbg=False, edbg=False)"
   ]
  },
  {
   "cell_type": "code",
   "execution_count": 26,
   "metadata": {},
   "outputs": [
    {
     "data": {
      "text/plain": [
       "{'decision_matrix': None,\n",
       " 'goal': <function __main__.<lambda>>,\n",
       " 'units': {'max_count': [3, 4, 3], 'min_count': [1, 2, 1], 'types': [0, 3, 4]}}"
      ]
     },
     "execution_count": 26,
     "metadata": {},
     "output_type": "execute_result"
    }
   ],
   "source": [
    "sim_spec['agents']['A']"
   ]
  },
  {
   "cell_type": "code",
   "execution_count": 27,
   "metadata": {},
   "outputs": [
    {
     "data": {
      "text/plain": [
       "{'decision_matrix': tensor([[0.2943, 0.1214, 0.4863],\n",
       "         [0.2755, 0.5353, 0.0878],\n",
       "         [0.4302, 0.3433, 0.4259]]),\n",
       " 'goal': <function __main__.<lambda>>,\n",
       " 'units': {'counts': tensor([1.0136, 2.8959, 2.7661]),\n",
       "  'max_count': [3, 4, 3],\n",
       "  'min_count': [1, 2, 1],\n",
       "  'types': [0, 3, 4]}}"
      ]
     },
     "execution_count": 27,
     "metadata": {},
     "output_type": "execute_result"
    }
   ],
   "source": [
    "sim_spec = sm.update_spec(sim_spec, mcmc, idx=-1, side=\"A\", dbg=False)\n",
    "sim_spec['agents']['A']"
   ]
  },
  {
   "cell_type": "code",
   "execution_count": 31,
   "metadata": {
    "collapsed": true
   },
   "outputs": [],
   "source": [
    "sim_spec['agents']['A'][\"counts\"]=[1, 3, 2]"
   ]
  },
  {
   "cell_type": "code",
   "execution_count": 32,
   "metadata": {},
   "outputs": [
    {
     "name": "stdout",
     "output_type": "stream",
     "text": [
      "\n",
      "observations state_context::\n",
      "\n",
      "x\n",
      "tensor([0.0000, 1.3508, 1.3085])\n",
      "\n",
      "y\n",
      "tensor([0., 0., 0.])\n",
      "\n",
      "Ua\n",
      "tensor([[0.8000, 0.1000, 0.7000],\n",
      "        [0.3000, 0.9000, 0.9000],\n",
      "        [0.1000, 0.5000, 0.9000]])\n",
      "\n",
      "Ub\n",
      "tensor([[0.1000, 0.9000, 0.1000],\n",
      "        [0.5000, 0.2000, 0.5000],\n",
      "        [0.9000, 0.1000, 0.7000]])\n",
      "\n",
      "Ax\n",
      "tensor([[0.2943, 0.1214, 0.4863],\n",
      "        [0.2755, 0.5353, 0.0878],\n",
      "        [0.4302, 0.3433, 0.4259]])\n",
      "\n",
      "Ay\n",
      "tensor([[0.2425, 0.3835, 0.6104],\n",
      "        [0.5242, 0.1323, 0.2480],\n",
      "        [0.2334, 0.4842, 0.1416]])\n",
      "\n",
      "events_to_check\n",
      "OrderedDict([('goalA', tensor(True)), ('goalB', tensor(False)), ('goalAoverB', True), ('exit?', None)])\n",
      "\n",
      "observations state_context::\n",
      "no observations to show\n",
      "\n",
      "observations state_context::\n",
      "no observations to show\n",
      "\n",
      "trace:\n",
      "\n",
      "event_error_factor:\n",
      "tensor(0)\n"
     ]
    }
   ],
   "source": [
    "run_test_and_show(sim_spec)"
   ]
  },
  {
   "cell_type": "code",
   "execution_count": 50,
   "metadata": {},
   "outputs": [
    {
     "name": "stdout",
     "output_type": "stream",
     "text": [
      "factors:\n",
      "tensor([-1000,     0, -1000, -1000, -1000,  -100,     0, -1000, -1000,     0,\n",
      "        -1000, -1000,  -100, -1000, -1000, -1000, -1000,     0, -1000, -1000,\n",
      "            0,  -100,  -100,  -100,  -100,  -100, -1000,  -100, -1000, -1000])\n",
      "losses:\n",
      "[]\n"
     ]
    },
    {
     "data": {
      "image/png": "[encoded data removed]",
      "text/plain": [
       "<matplotlib.figure.Figure at 0x7f336d594518>"
      ]
     },
     "metadata": {},
     "output_type": "display_data"
    }
   ],
   "source": [
    "factors = run_tests_and_collect_factors(30, sim_spec)"
   ]
  },
  {
   "cell_type": "code",
   "execution_count": 40,
   "metadata": {},
   "outputs": [
    {
     "data": {
      "text/plain": [
       "tensor([-1000, -1000, -1000,  -100,     0,     0, -1000,     0,     0,     0,\n",
       "        -1000, -1000,  -100,     0, -1000,  -100,  -100,     0,  -100, -1000,\n",
       "        -1000, -1000,     0,  -100,     0, -1000, -1000,  -100, -1000, -1000])"
      ]
     },
     "execution_count": 40,
     "metadata": {},
     "output_type": "execute_result"
    }
   ],
   "source": [
    "factors"
   ]
  },
  {
   "cell_type": "code",
   "execution_count": 45,
   "metadata": {},
   "outputs": [
    {
     "data": {
      "image/png": "[encoded data removed]",
      "text/plain": [
       "<matplotlib.figure.Figure at 0x7f336d611160>"
      ]
     },
     "metadata": {},
     "output_type": "display_data"
    }
   ],
   "source": []
  },
  {
   "cell_type": "code",
   "execution_count": null,
   "metadata": {
    "collapsed": true
   },
   "outputs": [],
   "source": []
  }
 ],
 "metadata": {
  "kernelspec": {
   "display_name": "Python [conda env:math]",
   "language": "python",
   "name": "conda-env-math-py"
  },
  "language_info": {
   "codemirror_mode": {
    "name": "ipython",
    "version": 3
   },
   "file_extension": ".py",
   "mimetype": "text/x-python",
   "name": "python",
   "nbconvert_exporter": "python",
   "pygments_lexer": "ipython3",
   "version": "3.6.2"
  }
 },
 "nbformat": 4,
 "nbformat_minor": 2
}
