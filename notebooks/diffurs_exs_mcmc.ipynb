{
 "cells": [
  {
   "cell_type": "markdown",
   "metadata": {},
   "source": [
    "### Simple examples\n",
    "(Диффуры которые легко интерпретировать)"
   ]
  },
  {
   "cell_type": "code",
   "execution_count": 1,
   "metadata": {
    "collapsed": true
   },
   "outputs": [],
   "source": [
    "import torch\n",
    "import pyro\n",
    "from pyro.infer import MCMC, NUTS"
   ]
  },
  {
   "cell_type": "code",
   "execution_count": 2,
   "metadata": {
    "collapsed": true
   },
   "outputs": [],
   "source": [
    "import os\n",
    "import sys\n",
    "import inspect\n",
    "\n",
    "# insert root dir into sys\n",
    "currentdir = os.path.dirname(os.path.abspath(inspect.getfile(inspect.currentframe())))\n",
    "root_dir = os.path.dirname(currentdir)\n",
    "# print(root_dir)\n",
    "\n",
    "if root_dir not in sys.path:\n",
    "     sys.path.insert(0, root_dir)"
   ]
  },
  {
   "cell_type": "code",
   "execution_count": 3,
   "metadata": {},
   "outputs": [],
   "source": [
    "import sim5_hw as sm"
   ]
  },
  {
   "cell_type": "code",
   "execution_count": 4,
   "metadata": {
    "collapsed": true
   },
   "outputs": [],
   "source": [
    "# efficiency matrix:\n",
    "U = 0.1*torch.ones((8, 8))\n",
    "U[0][:3] = torch.tensor([0.7, 0.8, 0.3])\n",
    "U[1][2:] = torch.tensor([0.3, 0.5, 0.9, 0.9, 0.9, 0.2])\n",
    "U[2][:4] = torch.tensor([0.9, 0.9, 0.5, 0.2])\n",
    "U[3][2:-1] = torch.tensor([0.9, 0.5, 0.7, 0.7, 0.7])\n",
    "U[4][:] = torch.tensor([0.6, 0.7, 0.9, 0.9, 0.5, 0.5, 0.5, 0.2])\n",
    "U[5][:] = torch.tensor([0.9, 0.9, 0.6, 0.4, 0.1, 0.1, 0.1, 0.1])\n",
    "U[6][4:] = torch.tensor([0.9, 0.9, 0.9, 0.5])\n",
    "U[7][4:] = torch.tensor([0.9, 0.9, 0.9, 0.7])\n"
   ]
  },
  {
   "cell_type": "markdown",
   "metadata": {},
   "source": [
    "Model specification:"
   ]
  },
  {
   "cell_type": "code",
   "execution_count": 9,
   "metadata": {
    "collapsed": true
   },
   "outputs": [],
   "source": [
    "    A_spec = {\n",
    "        \"decision_matrix\": None,\n",
    "        \"units\": {\n",
    "\n",
    "            # needed only if there is neither types nor counts given:\n",
    "            \"possible_types\": [0, 1, 2, 3, 4],\n",
    "            \"chosen_count\": 3,\n",
    "            # \"types\": [0, 1, 4],\n",
    "\n",
    "            # \"counts\": torch.tensor([3, 3, 4]).type(torch.float)\n",
    "            # maximal amount of units to sample for any type\n",
    "            # must be given if \"counts\" not: \n",
    "            \"max_count\": 4,\n",
    "        },\n",
    "        \"goal\": lambda x, y: (y <= 0).all(),\n",
    "        ## \"goal\": lambda x, y: y[1] <= 0 and y[2] <= 0\n",
    "        # \"goal\": lambda x, y: y[0] <= 0 and y[1] <= 0 and x[-1] > 2\n",
    "    }\n",
    "    B_spec = {\n",
    "        \"decision_matrix\": None,\n",
    "        \"units\": {\n",
    "            \"types\": [1, 2, 3],\n",
    "            \"counts\": torch.tensor([1, 4,  4]).type(torch.float)\n",
    "        },\n",
    "        \"goal\": lambda x, y: (x <= 0).all() and y[2] >= 2\n",
    "        # \"goal\": lambda x, y: x[1] <= 0 and x[-1] <= 0,  # and y[2] >= 2\n",
    "    }\n",
    "\n",
    "    sim_spec = {\n",
    "        \"agents\": {\"A\": A_spec, \"B\": B_spec},\n",
    "\n",
    "        \"T\": 30,\n",
    "        \"dt\": 0.5,\n",
    "        # \"dt\": 0.5,\n",
    "        \"init_factor\": -110.0,\n",
    "\n",
    "        \"U\": U,\n",
    "\n",
    "        # choose side A (i.e. want A to win):\n",
    "        \"scores\": [\n",
    "            {\n",
    "                \"test\": lambda goalA, goalB: goalA and not goalB,\n",
    "                \"once\": False,\n",
    "                \"factor\": 0,\n",
    "                # will be exited once happend, factor been be overriden\n",
    "                \"exit\": True\n",
    "            },\n",
    "            {\n",
    "                \"test\": lambda goalA, goalB: not goalA and goalB,\n",
    "                \"once\": False,\n",
    "                \"factor\": -1000,\n",
    "                # will be exited once happend, factor been be overriden\n",
    "                \"exit\": True\n",
    "            },\n",
    "            {\n",
    "                \"test\": lambda goalA, goalB: not goalA and not goalB,\n",
    "                # only once from all times will factor been used  \n",
    "                \"once\": True,\n",
    "                \"factor\": 10,\n",
    "                \"exit\": False\n",
    "            }\n",
    "        ] \n",
    "    }\n"
   ]
  },
  {
   "cell_type": "code",
   "execution_count": 10,
   "metadata": {},
   "outputs": [
    {
     "name": "stderr",
     "output_type": "stream",
     "text": [
      "Sample: 100%|██████████| 60/60 [03:27,  3.46s/it, step size=2.16e+01, acc. prob=0.299]\n"
     ]
    }
   ],
   "source": [
    "mcmc, losses = sm.test_mcmc(30, sim_spec, mdbg=False, edbg=False)"
   ]
  },
  {
   "cell_type": "markdown",
   "metadata": {},
   "source": [
    "Collect result (solution):"
   ]
  },
  {
   "cell_type": "code",
   "execution_count": 7,
   "metadata": {},
   "outputs": [
    {
     "data": {
      "text/plain": [
       "{'decision_matrix': tensor([[0.3847, 0.1720, 0.1005],\n",
       "         [0.4989, 0.5718, 0.3257],\n",
       "         [0.1165, 0.2562, 0.5738]]),\n",
       " 'goal': <function __main__.<lambda>>,\n",
       " 'units': {'chosen_count': 3,\n",
       "  'counts': tensor([1.9006, 3.9219, 1.7175]),\n",
       "  'max_count': 4,\n",
       "  'possible_types': [0, 1, 2, 3, 4],\n",
       "  'types': (0, 1, 4)}}"
      ]
     },
     "execution_count": 7,
     "metadata": {},
     "output_type": "execute_result"
    }
   ],
   "source": [
    "sim_spec = sm.update_spec(sim_spec, mcmc, idx=-1, side=\"A\", dbg=False)\n",
    "sim_spec['agents']['A']"
   ]
  },
  {
   "cell_type": "markdown",
   "metadata": {},
   "source": [
    "Collect factor (error) and others params:"
   ]
  },
  {
   "cell_type": "code",
   "execution_count": 14,
   "metadata": {},
   "outputs": [
    {
     "name": "stdout",
     "output_type": "stream",
     "text": [
      "\n",
      "observations state_context::\n",
      "\n",
      "x\n",
      "tensor([0., 0., 0.])\n",
      "\n",
      "y\n",
      "tensor([0.3802, 2.6238, 1.8530])\n",
      "\n",
      "Ua\n",
      "tensor([[0.8000, 0.1000, 0.7000],\n",
      "        [0.3000, 0.3000, 0.9000],\n",
      "        [0.1000, 0.5000, 0.9000]])\n",
      "\n",
      "Ub\n",
      "tensor([[0.1000, 0.9000, 0.1000],\n",
      "        [0.1000, 0.9000, 0.1000],\n",
      "        [0.9000, 0.1000, 0.7000]])\n",
      "\n",
      "Ax\n",
      "tensor([[0.1764, 0.3226, 0.2039],\n",
      "        [0.3414, 0.2521, 0.3723],\n",
      "        [0.4822, 0.4253, 0.4238]])\n",
      "\n",
      "Ay\n",
      "tensor([[0.5553, 0.4974, 0.0142],\n",
      "        [0.1019, 0.2129, 0.0728],\n",
      "        [0.3428, 0.2897, 0.9130]])\n",
      "\n",
      "events_to_check\n",
      "OrderedDict([('goalA', tensor(False)), ('goalB', tensor(False)), ('goalAoverB', False), ('exit?', None)])\n",
      "\n",
      "observations state_context::\n",
      "no observations to show\n",
      "\n",
      "trace:\n",
      "\n",
      "event_error_factor:\n",
      "tensor(-100.)\n"
     ]
    }
   ],
   "source": [
    "losses = []\n",
    "ehandler = sm.test_mk_model(sim_spec, losses, False, False)\n",
    "\n",
    "sm.show_model_last_state_context(\n",
    "    ehandler, [\"x\", \"y\", \"Ua\", \"Ub\", \"Ax\", \"Ay\", \"events_to_check\"])\n",
    "sm.show_model_last_state_context(\n",
    "    ehandler, [\"utypes\"],\n",
    "    observation_name=\"sample_space_with_size_a_utype_sample_space_size\")\n",
    "sm.show_model_trace(ehandler, [\"x0\", \"Ax_T\", \"y0\", \"Ay_T\"])\n",
    "\n"
   ]
  },
  {
   "cell_type": "code",
   "execution_count": null,
   "metadata": {
    "collapsed": true
   },
   "outputs": [],
   "source": []
  }
 ],
 "metadata": {
  "kernelspec": {
   "display_name": "Python [conda env:math]",
   "language": "python",
   "name": "conda-env-math-py"
  },
  "language_info": {
   "codemirror_mode": {
    "name": "ipython",
    "version": 3
   },
   "file_extension": ".py",
   "mimetype": "text/x-python",
   "name": "python",
   "nbconvert_exporter": "python",
   "pygments_lexer": "ipython3",
   "version": "3.6.2"
  }
 },
 "nbformat": 4,
 "nbformat_minor": 2
}
