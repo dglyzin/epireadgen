{
 "cells": [
  {
   "cell_type": "markdown",
   "metadata": {},
   "source": [
    "### Inference"
   ]
  },
  {
   "cell_type": "code",
   "execution_count": 5,
   "metadata": {
    "collapsed": true
   },
   "outputs": [],
   "source": [
    "import numpy as np\n",
    "from scipy import stats\n",
    "import matplotlib.pyplot as plt"
   ]
  },
  {
   "cell_type": "code",
   "execution_count": 4,
   "metadata": {
    "collapsed": true
   },
   "outputs": [],
   "source": [
    "import os\n",
    "import sys\n",
    "import inspect\n",
    "\n",
    "# insert root dir into sys\n",
    "currentdir = os.path.dirname(os.path.abspath(inspect.getfile(inspect.currentframe())))\n",
    "root_dir = os.path.dirname(currentdir)\n",
    "# print(root_dir)\n",
    "\n",
    "if root_dir not in sys.path:\n",
    "     sys.path.insert(0, root_dir)"
   ]
  },
  {
   "cell_type": "markdown",
   "metadata": {},
   "source": [
    "### Weight and measurement example"
   ]
  },
  {
   "cell_type": "markdown",
   "metadata": {},
   "source": [
    "##### sim0 implemented native rejection:\n",
    "\n",
    "Features: Slow\n",
    "<br>\n",
    "Refs:\n",
    "<br>http://dippl.org/"
   ]
  },
  {
   "cell_type": "code",
   "execution_count": 9,
   "metadata": {
    "collapsed": true
   },
   "outputs": [],
   "source": [
    "from sim0 import Dist, Dist1, ARDist, MH\n",
    "from sim0 import Normal, Uniform\n",
    "from sim0 import RejectionSampler\n",
    "from sim0 import plot_hist"
   ]
  },
  {
   "cell_type": "code",
   "execution_count": 6,
   "metadata": {
    "collapsed": true
   },
   "outputs": [],
   "source": [
    "a = Uniform(\"a\", a=0.0, b=10.0)\n",
    "b = Uniform(\"b\", a=0.0, b=3.0)\n",
    "w_guess = Normal(\"w_guess\", mu=a, sigma=b)\n",
    "\n",
    "# conditioned distributions:\n",
    "w_target = Normal(\"w_target\", mu=8.5, sigma=1)\n",
    "measurement = Normal(\"m\", mu=w_target, sigma=0.75)\n",
    "\n",
    "model = [a, b, w_guess, w_target, measurement]\n",
    "condition = [\"abs($w_guess - $w_target) <= 0.3\",\n",
    "             \"abs($m-9.5) <= 0.4\"]\n",
    "\n",
    "Infer = RejectionSampler(model, condition) "
   ]
  },
  {
   "cell_type": "code",
   "execution_count": 8,
   "metadata": {},
   "outputs": [
    {
     "name": "stdout",
     "output_type": "stream",
     "text": [
      "i =  0\n",
      "t=  3\n",
      "t=  2\n",
      "t=  1\n",
      "t=  22\n",
      "t=  6\n",
      "t=  376\n",
      "t=  2\n",
      "t=  4\n",
      "i =  10\n",
      "t=  422\n",
      "i =  20\n",
      "t=  2578\n",
      "i =  30\n",
      "i =  40\n",
      "i =  50\n",
      "i =  60\n",
      "i =  70\n",
      "i =  80\n",
      "i =  90\n",
      "i =  100\n",
      "i =  110\n",
      "i =  120\n",
      "i =  130\n",
      "i =  140\n",
      "i =  150\n",
      "i =  160\n",
      "i =  170\n",
      "i =  180\n",
      "i =  190\n",
      "i =  200\n",
      "i =  210\n",
      "i =  220\n",
      "i =  230\n",
      "i =  240\n",
      "t=  3557\n",
      "i =  250\n",
      "i =  260\n",
      "i =  270\n",
      "i =  280\n",
      "i =  290\n",
      "t=  5\n",
      "t=  6\n",
      "i =  300\n",
      "t=  3676\n",
      "i =  310\n",
      "i =  320\n",
      "i =  330\n",
      "i =  340\n",
      "t=  4368\n",
      "i =  350\n",
      "t=  5188\n",
      "i =  360\n",
      "i =  370\n",
      "i =  380\n",
      "i =  390\n",
      "i =  400\n",
      "i =  410\n",
      "i =  420\n",
      "i =  430\n",
      "i =  440\n",
      "i =  450\n",
      "i =  460\n",
      "i =  470\n",
      "i =  480\n",
      "i =  490\n",
      "i =  500\n",
      "t=  5270\n",
      "i =  510\n",
      "i =  520\n",
      "i =  530\n",
      "i =  540\n",
      "i =  550\n",
      "i =  560\n",
      "i =  570\n",
      "i =  580\n",
      "i =  590\n",
      "i =  600\n",
      "i =  610\n"
     ]
    }
   ],
   "source": [
    "result = Infer.run_n(620)"
   ]
  },
  {
   "cell_type": "markdown",
   "metadata": {},
   "source": [
    "Results:"
   ]
  },
  {
   "cell_type": "code",
   "execution_count": 11,
   "metadata": {},
   "outputs": [
    {
     "data": {
      "image/png": "[encoded data removed]",
      "text/plain": [
       "<matplotlib.figure.Figure at 0x7fdd037030f0>"
      ]
     },
     "metadata": {},
     "output_type": "display_data"
    },
    {
     "data": {
      "image/png": "[encoded data removed]",
      "text/plain": [
       "<matplotlib.figure.Figure at 0x7fdd037030b8>"
      ]
     },
     "metadata": {},
     "output_type": "display_data"
    }
   ],
   "source": [
    "# for a accurate is 9.14:\n",
    "xs = result['a']\n",
    "\n",
    "# for b accurate is 0.6:\n",
    "xs1 = result['b']\n",
    "plot_hist(xs)\n",
    "plot_hist(xs1)\n"
   ]
  },
  {
   "cell_type": "markdown",
   "metadata": {},
   "source": [
    "##### pyro the evidence lower bound variational inference:\n",
    "Features: fast\n",
    "<br>\n",
    "Refs:<br>\n",
    "<br>https://arxiv.org/abs/1301.1299\n",
    "<br>http://pyro.ai/examples/svi_part_i.html\n",
    "<br>https://github.com/pyro-ppl/pyro/blob/dev/pyro/contrib/minipyro.py\n",
    "<br>see also `pyro_basis.ipynb`"
   ]
  },
  {
   "cell_type": "code",
   "execution_count": 6,
   "metadata": {
    "collapsed": true
   },
   "outputs": [],
   "source": [
    "import torch\n",
    "import pyro\n",
    "import pyro.distributions as dist\n",
    "from torch.distributions import constraints\n",
    "import numpy as np"
   ]
  },
  {
   "cell_type": "code",
   "execution_count": 15,
   "metadata": {
    "collapsed": true
   },
   "outputs": [],
   "source": [
    "# condition0\n",
    "def conditioned_scale_obs(guess):  # equivalent to conditioned_scale above\n",
    "    # print(\"conditioned guess:\", guess)\n",
    "    weight = pyro.sample(\"weight\", dist.Normal(guess, 1.))\n",
    "     # here we condition on measurement == 9.5\n",
    "    return pyro.sample(\"measurement\", dist.Normal(weight, 0.75), obs=9.5)\n",
    "\n",
    "# guide0\n",
    "def scale_parametrized_guide(guess):\n",
    "    \n",
    "    a = pyro.param(\"a\", torch.tensor(guess))\n",
    "    b = pyro.param(\"b\", torch.tensor(1.), constraint=constraints.positive)\n",
    "    # print(\"guide a:\", a)\n",
    "    return pyro.sample(\"weight\", dist.Normal(a, torch.abs(b)))"
   ]
  },
  {
   "cell_type": "code",
   "execution_count": 16,
   "metadata": {
    "collapsed": true
   },
   "outputs": [],
   "source": [
    "guess = 8.5\n",
    "\n",
    "pyro.clear_param_store()\n",
    "svi = pyro.infer.SVI(model=conditioned_scale_obs,\n",
    "                     guide=scale_parametrized_guide,\n",
    "                     optim=pyro.optim.SGD({\"lr\": 0.001, \"momentum\":0.1}),\n",
    "                     loss=pyro.infer.Trace_ELBO())\n",
    "\n",
    "\n",
    "losses, a,b  = [], [], []\n",
    "num_steps = 250  # 2500\n",
    "for t in range(num_steps):\n",
    "    losses.append(svi.step(guess))\n",
    "    a.append(pyro.param(\"a\").item())\n",
    "    b.append(pyro.param(\"b\").item())"
   ]
  },
  {
   "cell_type": "markdown",
   "metadata": {},
   "source": [
    "Results:"
   ]
  },
  {
   "cell_type": "code",
   "execution_count": 17,
   "metadata": {},
   "outputs": [
    {
     "name": "stdout",
     "output_type": "stream",
     "text": [
      "250\n",
      "8.879049301147461\n",
      "250\n",
      "0.7590230107307434\n"
     ]
    }
   ],
   "source": [
    "# accurate 9.14\n",
    "print(len(a))\n",
    "print(a[-1])\n",
    "# accurate 0.6\n",
    "print(len(b))\n",
    "print(b[-1])\n"
   ]
  },
  {
   "cell_type": "markdown",
   "metadata": {},
   "source": [
    "##### pymc implementation\n",
    "not working"
   ]
  },
  {
   "cell_type": "code",
   "execution_count": 1,
   "metadata": {
    "collapsed": true
   },
   "outputs": [],
   "source": [
    "import pymc\n",
    "from pymc import MCMC\n",
    "from pymc import Normal, DiscreteUniform, Exponential, deterministic, Poisson, Uniform\n"
   ]
  },
  {
   "cell_type": "code",
   "execution_count": 7,
   "metadata": {},
   "outputs": [],
   "source": [
    "weight = Normal('w', 8.5, 1)\n",
    "measurment = Normal('m', weight, 0.75, value=np.array([9.5]),\n",
    "                    observed=True)\n",
    "a = Uniform('a', 8, 10)\n",
    "b = Uniform('b',0,1)\n",
    "weight_measure = Normal('wm', a, b)\n",
    "\n",
    "# TODO: something wrong here:\n",
    "@deterministic(plot=False)\n",
    "def rate(w1=weight, w2=weight_measure):\n",
    "    return int(w1==w2)\n",
    "\n",
    "rate1 = pymc.Bernoulli('r1', rate, value=rate.value, observed=True)"
   ]
  },
  {
   "cell_type": "code",
   "execution_count": 12,
   "metadata": {},
   "outputs": [
    {
     "name": "stdout",
     "output_type": "stream",
     "text": [
      " [-----------------100%-----------------] 30000 of 30000 complete in 14.0 sec"
     ]
    }
   ],
   "source": [
    "M = MCMC([weight, measurment, a,b, weight_measure, rate,rate1])\n",
    "M.sample(iter=30000, burn=1000, thin=10)"
   ]
  },
  {
   "cell_type": "code",
   "execution_count": 13,
   "metadata": {},
   "outputs": [
    {
     "data": {
      "image/png": "[encoded data removed]",
      "text/plain": [
       "<matplotlib.figure.Figure at 0x7fe657a80080>"
      ]
     },
     "metadata": {},
     "output_type": "display_data"
    }
   ],
   "source": [
    "plt.plot(M.trace(\"a\")[:])\n",
    "plt.show()"
   ]
  },
  {
   "cell_type": "markdown",
   "metadata": {},
   "source": [
    "##### Non-parametric pdf estimation\n",
    "with scipy.stats.gaussian_kde"
   ]
  },
  {
   "cell_type": "code",
   "execution_count": 2,
   "metadata": {
    "collapsed": true
   },
   "outputs": [],
   "source": [
    "def measure(n):\n",
    "    #      \"Measurement model, return two coupled measurements.\"\n",
    "    m1 = np.random.normal(size=n)\n",
    "    m2 = np.random.normal(scale=0.5, size=n)\n",
    "    return m1+m2, m1-m2"
   ]
  },
  {
   "cell_type": "code",
   "execution_count": 3,
   "metadata": {
    "collapsed": true
   },
   "outputs": [],
   "source": [
    "m1, m2 = measure(2000)\n",
    "xmin = m1.min()\n",
    "xmax = m1.max()\n",
    "ymin = m2.min()\n",
    "ymax = m2.max()\n"
   ]
  },
  {
   "cell_type": "code",
   "execution_count": 4,
   "metadata": {},
   "outputs": [
    {
     "data": {
      "text/plain": [
       "(array([-0.23970957,  0.21071391, -2.07144286, ...,  0.80098203,\n",
       "         0.70644163, -0.63086321]),\n",
       " array([-0.69351369,  1.00271707, -1.00732051, ...,  0.81692088,\n",
       "         1.30526408, -2.43412985]))"
      ]
     },
     "execution_count": 4,
     "metadata": {},
     "output_type": "execute_result"
    }
   ],
   "source": [
    "m1, m2"
   ]
  },
  {
   "cell_type": "code",
   "execution_count": 5,
   "metadata": {
    "collapsed": true
   },
   "outputs": [],
   "source": [
    "X, Y = np.mgrid[xmin:xmax:100j, ymin:ymax:100j]\n",
    "positions = np.vstack([X.ravel(), Y.ravel()])\n",
    "values = np.vstack([m1, m2])\n",
    "kernel = stats.gaussian_kde(values)\n",
    "Z = np.reshape(kernel(positions).T, X.shape)"
   ]
  },
  {
   "cell_type": "code",
   "execution_count": 6,
   "metadata": {},
   "outputs": [
    {
     "data": {
      "image/png": "[encoded data removed]",
      "text/plain": [
       "<matplotlib.figure.Figure at 0x7fee4c63d8d0>"
      ]
     },
     "metadata": {},
     "output_type": "display_data"
    }
   ],
   "source": [
    "\n",
    "fig, ax = plt.subplots()\n",
    "ax.imshow(np.rot90(Z), cmap=plt.cm.gist_earth_r,\n",
    "          extent=[xmin, xmax, ymin, ymax])\n",
    "ax.plot(m1, m2, 'k.', markersize=2)\n",
    "ax.set_xlim([xmin, xmax])\n",
    "ax.set_ylim([ymin, ymax])\n",
    "plt.show()\n"
   ]
  },
  {
   "cell_type": "code",
   "execution_count": 22,
   "metadata": {},
   "outputs": [
    {
     "data": {
      "text/plain": [
       "array([[-3.40090975, -3.40090975, -3.40090975, ..., -3.40090975,\n",
       "        -3.40090975, -3.40090975],\n",
       "       [-3.32445723, -3.32445723, -3.32445723, ..., -3.32445723,\n",
       "        -3.32445723, -3.32445723],\n",
       "       [-3.24800472, -3.24800472, -3.24800472, ..., -3.24800472,\n",
       "        -3.24800472, -3.24800472],\n",
       "       ...,\n",
       "       [ 4.01498442,  4.01498442,  4.01498442, ...,  4.01498442,\n",
       "         4.01498442,  4.01498442],\n",
       "       [ 4.09143694,  4.09143694,  4.09143694, ...,  4.09143694,\n",
       "         4.09143694,  4.09143694],\n",
       "       [ 4.16788946,  4.16788946,  4.16788946, ...,  4.16788946,\n",
       "         4.16788946,  4.16788946]])"
      ]
     },
     "execution_count": 22,
     "metadata": {},
     "output_type": "execute_result"
    }
   ],
   "source": [
    "X"
   ]
  },
  {
   "cell_type": "code",
   "execution_count": null,
   "metadata": {
    "collapsed": true
   },
   "outputs": [],
   "source": []
  }
 ],
 "metadata": {
  "kernelspec": {
   "display_name": "Python [conda env:math]",
   "language": "python",
   "name": "conda-env-math-py"
  },
  "language_info": {
   "codemirror_mode": {
    "name": "ipython",
    "version": 3
   },
   "file_extension": ".py",
   "mimetype": "text/x-python",
   "name": "python",
   "nbconvert_exporter": "python",
   "pygments_lexer": "ipython3",
   "version": "3.6.2"
  }
 },
 "nbformat": 4,
 "nbformat_minor": 2
}
