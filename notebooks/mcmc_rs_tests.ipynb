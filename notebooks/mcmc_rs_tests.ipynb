{
 "cells": [
  {
   "cell_type": "code",
   "execution_count": 12,
   "metadata": {
    "collapsed": true
   },
   "outputs": [],
   "source": [
    "import torch\n",
    "import numpy as np\n",
    "import pyro\n",
    "import pyro.distributions as dist\n",
    "from pyro.ops.indexing import Vindex\n",
    "from pyro import poutine\n",
    "import matplotlib.pyplot as plt\n",
    "import torch.distributions.constraints as constraints\n",
    "from torch.distributions import transform_to\n",
    "from pyro.infer import MCMC, NUTS\n",
    "from pyro.poutine.messenger import Messenger\n"
   ]
  },
  {
   "cell_type": "code",
   "execution_count": 40,
   "metadata": {
    "collapsed": true
   },
   "outputs": [],
   "source": [
    "import os\n",
    "import sys\n",
    "import inspect\n",
    "\n",
    "# insert root dir into sys\n",
    "currentdir = os.path.dirname(os.path.abspath(inspect.getfile(inspect.currentframe())))\n",
    "root_dir = os.path.dirname(currentdir)\n",
    "# print(root_dir)\n",
    "\n",
    "if root_dir not in sys.path:\n",
    "     sys.path.insert(0, root_dir)"
   ]
  },
  {
   "cell_type": "code",
   "execution_count": 41,
   "metadata": {
    "collapsed": true
   },
   "outputs": [],
   "source": [
    "import sim3"
   ]
  },
  {
   "cell_type": "code",
   "execution_count": 30,
   "metadata": {
    "collapsed": true
   },
   "outputs": [],
   "source": [
    "def model():\n",
    "    # with pyro.plate(\"plate0\", size=len(obs)) as ind:\n",
    "    a = pyro.sample(\"a\", dist.Uniform(0, 1))\n",
    "    b = pyro.sample(\"b\", dist.Uniform(0, 1))\n",
    "    c = pyro.sample(\"c\", dist.Uniform(0, 1))\n",
    "    # c = pyro.sample(\"c\", dist.Bernoulli(b), obs=obs.index_select(0, ind))\n",
    "    pyro.deterministic(\"sum\", a+b+c)\n",
    "    \n",
    "    log_score_a = torch.tensor(-np.inf) if a <= 0.5 else torch.tensor(0.)\n",
    "    # pyro.factor(\"a1\", log_score_a)\n",
    "    \n",
    "    log_score_b = torch.tensor(-np.inf) if b <= 0.5 else torch.tensor(0.)\n",
    "    # pyro.factor(\"b1\", log_score_b)\n"
   ]
  },
  {
   "cell_type": "code",
   "execution_count": 31,
   "metadata": {
    "collapsed": true
   },
   "outputs": [],
   "source": [
    "def train(model, steps):\n",
    "    nuts_kernel = NUTS(model)\n",
    "    mcmc = MCMC(\n",
    "            nuts_kernel,\n",
    "            num_samples=steps,\n",
    "            # warmup_steps=1,\n",
    "            num_chains=1,)\n",
    "\n",
    "    # with ResultCollectorMessenger() as res:\n",
    "    mcmc.run()\n",
    "    # mcmc.run(torch.ones(3))\n",
    "    print(mcmc.summary())\n",
    "    return(mcmc)\n"
   ]
  },
  {
   "cell_type": "code",
   "execution_count": 32,
   "metadata": {},
   "outputs": [
    {
     "name": "stderr",
     "output_type": "stream",
     "text": [
      "Sample: 100%|██████████| 600/600 [00:21, 27.82it/s, step size=7.74e-01, acc. prob=0.896]"
     ]
    },
    {
     "name": "stdout",
     "output_type": "stream",
     "text": [
      "\n",
      "                mean       std    median      5.0%     95.0%     n_eff     r_hat\n",
      "         a      0.50      0.30      0.49      0.02      0.90    203.73      1.00\n",
      "         b      0.53      0.26      0.52      0.16      0.98    293.48      1.00\n",
      "         c      0.49      0.28      0.47      0.04      0.91    306.63      1.00\n",
      "\n",
      "Number of divergences: 0\n",
      "None\n"
     ]
    },
    {
     "name": "stderr",
     "output_type": "stream",
     "text": [
      "\n"
     ]
    }
   ],
   "source": [
    "pyro.clear_param_store()\n",
    "imcmc=train(model, 300)"
   ]
  },
  {
   "cell_type": "markdown",
   "metadata": {},
   "source": [
    "Results of `sum` from 0 to 3:"
   ]
  },
  {
   "cell_type": "code",
   "execution_count": 34,
   "metadata": {},
   "outputs": [
    {
     "data": {
      "image/png": "[encoded data removed]",
      "text/plain": [
       "<matplotlib.figure.Figure at 0x7f8e7d47b710>"
      ]
     },
     "metadata": {},
     "output_type": "display_data"
    }
   ],
   "source": [
    "a = imcmc.get_samples()['a']\n",
    "b = imcmc.get_samples()['b']\n",
    "c = imcmc.get_samples()['c']\n",
    "# plt.plot(b)\n",
    "# plt.show()\n",
    "plt.hist(a+b+c)\n",
    "plt.show()"
   ]
  },
  {
   "cell_type": "markdown",
   "metadata": {},
   "source": [
    "If factor to `a` and `b` added, then results of `sum` will $\\in$ (1, 3)"
   ]
  },
  {
   "cell_type": "code",
   "execution_count": 35,
   "metadata": {
    "collapsed": true
   },
   "outputs": [],
   "source": [
    "def model1():\n",
    "    # with pyro.plate(\"plate0\", size=len(obs)) as ind:\n",
    "    a = pyro.sample(\"a\", dist.Uniform(0, 1))\n",
    "    b = pyro.sample(\"b\", dist.Uniform(0, 1))\n",
    "    c = pyro.sample(\"c\", dist.Uniform(0, 1))\n",
    "    # c = pyro.sample(\"c\", dist.Bernoulli(b), obs=obs.index_select(0, ind))\n",
    "    pyro.deterministic(\"sum\", a+b+c)\n",
    "    \n",
    "    log_score_a = torch.tensor(-np.inf) if a <= 0.5 else torch.tensor(0.)\n",
    "    pyro.factor(\"a1\", log_score_a)\n",
    "    \n",
    "    log_score_b = torch.tensor(-np.inf) if b <= 0.5 else torch.tensor(0.)\n",
    "    pyro.factor(\"b1\", log_score_b)\n"
   ]
  },
  {
   "cell_type": "code",
   "execution_count": 37,
   "metadata": {},
   "outputs": [
    {
     "name": "stderr",
     "output_type": "stream",
     "text": [
      "Sample: 100%|██████████| 600/600 [01:32,  6.52it/s, step size=4.94e-02, acc. prob=0.901]\n"
     ]
    },
    {
     "name": "stdout",
     "output_type": "stream",
     "text": [
      "\n",
      "                mean       std    median      5.0%     95.0%     n_eff     r_hat\n",
      "         a      0.76      0.15      0.76      0.55      1.00     32.25      1.02\n",
      "         b      0.63      0.09      0.64      0.50      0.75     14.22      1.07\n",
      "         c      0.48      0.27      0.47      0.03      0.84     33.10      1.01\n",
      "\n",
      "Number of divergences: 276\n",
      "None\n"
     ]
    },
    {
     "data": {
      "image/png": "[encoded data removed]",
      "text/plain": [
       "<matplotlib.figure.Figure at 0x7f8e7d45b668>"
      ]
     },
     "metadata": {},
     "output_type": "display_data"
    }
   ],
   "source": [
    "pyro.clear_param_store()\n",
    "imcmc=train(model1, 300)\n",
    "a = imcmc.get_samples()['a']\n",
    "b = imcmc.get_samples()['b']\n",
    "c = imcmc.get_samples()['c']\n",
    "# plt.plot(b)\n",
    "# plt.show()\n",
    "plt.hist(a+b+c)\n",
    "plt.show()"
   ]
  },
  {
   "cell_type": "markdown",
   "metadata": {},
   "source": [
    "so it does"
   ]
  },
  {
   "cell_type": "markdown",
   "metadata": {},
   "source": [
    "Same result for the Rejection Sampling:"
   ]
  },
  {
   "cell_type": "code",
   "execution_count": 42,
   "metadata": {
    "collapsed": true
   },
   "outputs": [],
   "source": [
    "def model_cond(trace):\n",
    "    return (trace.nodes[\"a\"][\"value\"]>0.5) and (trace.nodes[\"b\"][\"value\"]>0.5)"
   ]
  },
  {
   "cell_type": "code",
   "execution_count": 67,
   "metadata": {},
   "outputs": [
    {
     "name": "stdout",
     "output_type": "stream",
     "text": [
      "progress: █████████ 99 %\n",
      "done\n",
      "create df:: █████████ 98 %\n",
      "done\n",
      "making arrays for plot:: █████████ 98 %\n",
      "done\n",
      "var:  sum\n",
      "probabilties:\n",
      "[0.01333333 0.01333333 0.01333333 0.01333333 0.01333333 0.01333333\n",
      " 0.01333333 0.01333333 0.01333333 0.01333333 0.01333333 0.01333333\n",
      " 0.01333333 0.01333333 0.01333333 0.01333333 0.01333333 0.01333333\n",
      " 0.01333333 0.01333333 0.01333333 0.01333333 0.01333333 0.01333333\n",
      " 0.01333333 0.01333333 0.01333333 0.01333333 0.01333333 0.01333333\n",
      " 0.01333333 0.01333333 0.01333333 0.01333333 0.01333333 0.01333333\n",
      " 0.01333333 0.01333333 0.01333333 0.01333333 0.01333333 0.01333333\n",
      " 0.01333333 0.01333333 0.01333333 0.01333333 0.01333333 0.01333333\n",
      " 0.01333333 0.01333333 0.01333333 0.01333333 0.01333333 0.01333333\n",
      " 0.01333333 0.01333333 0.01333333 0.01333333 0.01333333 0.01333333\n",
      " 0.01333333 0.01333333 0.01333333 0.01333333 0.01333333 0.01333333\n",
      " 0.01333333 0.01333333 0.01333333 0.01333333 0.01333333 0.01333333\n",
      " 0.01333333 0.01333333 0.01333333]\n"
     ]
    },
    {
     "data": {
      "image/png": "[encoded data removed]",
      "text/plain": [
       "<matplotlib.figure.Figure at 0x7f8e728d8d30>"
      ]
     },
     "metadata": {},
     "output_type": "display_data"
    },
    {
     "data": {
      "text/html": [
       "<div>\n",
       "<style scoped>\n",
       "    .dataframe tbody tr th:only-of-type {\n",
       "        vertical-align: middle;\n",
       "    }\n",
       "\n",
       "    .dataframe tbody tr th {\n",
       "        vertical-align: top;\n",
       "    }\n",
       "\n",
       "    .dataframe thead th {\n",
       "        text-align: right;\n",
       "    }\n",
       "</style>\n",
       "<table border=\"1\" class=\"dataframe\">\n",
       "  <thead>\n",
       "    <tr style=\"text-align: right;\">\n",
       "      <th></th>\n",
       "      <th>a</th>\n",
       "      <th>b</th>\n",
       "      <th>c</th>\n",
       "      <th>sum</th>\n",
       "      <th>cond</th>\n",
       "    </tr>\n",
       "  </thead>\n",
       "  <tbody>\n",
       "    <tr>\n",
       "      <th>2</th>\n",
       "      <td>0.5453422</td>\n",
       "      <td>0.7198144</td>\n",
       "      <td>0.112730205</td>\n",
       "      <td>1.3778868</td>\n",
       "      <td>True</td>\n",
       "    </tr>\n",
       "    <tr>\n",
       "      <th>0</th>\n",
       "      <td>0.8677343</td>\n",
       "      <td>0.60273</td>\n",
       "      <td>0.2300384</td>\n",
       "      <td>1.7005026</td>\n",
       "      <td>True</td>\n",
       "    </tr>\n",
       "    <tr>\n",
       "      <th>9</th>\n",
       "      <td>0.53187937</td>\n",
       "      <td>0.6489145</td>\n",
       "      <td>0.7102233</td>\n",
       "      <td>1.8910172</td>\n",
       "      <td>True</td>\n",
       "    </tr>\n",
       "    <tr>\n",
       "      <th>8</th>\n",
       "      <td>0.8949633</td>\n",
       "      <td>0.6723767</td>\n",
       "      <td>0.409566</td>\n",
       "      <td>1.9769061</td>\n",
       "      <td>True</td>\n",
       "    </tr>\n",
       "    <tr>\n",
       "      <th>3</th>\n",
       "      <td>0.5031156</td>\n",
       "      <td>0.72300833</td>\n",
       "      <td>0.79924816</td>\n",
       "      <td>2.025372</td>\n",
       "      <td>True</td>\n",
       "    </tr>\n",
       "    <tr>\n",
       "      <th>7</th>\n",
       "      <td>0.6867624</td>\n",
       "      <td>0.55057895</td>\n",
       "      <td>0.9403866</td>\n",
       "      <td>2.177728</td>\n",
       "      <td>True</td>\n",
       "    </tr>\n",
       "    <tr>\n",
       "      <th>4</th>\n",
       "      <td>0.7503402</td>\n",
       "      <td>0.74222994</td>\n",
       "      <td>0.69745505</td>\n",
       "      <td>2.1900253</td>\n",
       "      <td>True</td>\n",
       "    </tr>\n",
       "    <tr>\n",
       "      <th>5</th>\n",
       "      <td>0.7726116</td>\n",
       "      <td>0.6200946</td>\n",
       "      <td>0.8267546</td>\n",
       "      <td>2.2194607</td>\n",
       "      <td>True</td>\n",
       "    </tr>\n",
       "    <tr>\n",
       "      <th>1</th>\n",
       "      <td>0.5593931</td>\n",
       "      <td>0.9716894</td>\n",
       "      <td>0.74454385</td>\n",
       "      <td>2.2756264</td>\n",
       "      <td>True</td>\n",
       "    </tr>\n",
       "    <tr>\n",
       "      <th>6</th>\n",
       "      <td>0.62596</td>\n",
       "      <td>0.9498519</td>\n",
       "      <td>0.8652796</td>\n",
       "      <td>2.4410915</td>\n",
       "      <td>True</td>\n",
       "    </tr>\n",
       "  </tbody>\n",
       "</table>\n",
       "</div>"
      ],
      "text/plain": [
       "            a           b            c        sum  cond\n",
       "2   0.5453422   0.7198144  0.112730205  1.3778868  True\n",
       "0   0.8677343     0.60273    0.2300384  1.7005026  True\n",
       "9  0.53187937   0.6489145    0.7102233  1.8910172  True\n",
       "8   0.8949633   0.6723767     0.409566  1.9769061  True\n",
       "3   0.5031156  0.72300833   0.79924816   2.025372  True\n",
       "7   0.6867624  0.55057895    0.9403866   2.177728  True\n",
       "4   0.7503402  0.74222994   0.69745505  2.1900253  True\n",
       "5   0.7726116   0.6200946    0.8267546  2.2194607  True\n",
       "1   0.5593931   0.9716894   0.74454385  2.2756264  True\n",
       "6     0.62596   0.9498519    0.8652796  2.4410915  True"
      ]
     },
     "execution_count": 67,
     "metadata": {},
     "output_type": "execute_result"
    }
   ],
   "source": [
    "samples = sim3.rejection_sampling1(model, {}, model_cond, 300)\n",
    "df = sim3.make_dataFrame(samples)\n",
    "sim3.plot_results1(samples, \"sum\")\n",
    "df[:10].sort_values(\"sum\", ascending=True)"
   ]
  },
  {
   "cell_type": "markdown",
   "metadata": {},
   "source": [
    "so the `sum` values starting from 1 also."
   ]
  },
  {
   "cell_type": "code",
   "execution_count": null,
   "metadata": {
    "collapsed": true
   },
   "outputs": [],
   "source": []
  }
 ],
 "metadata": {
  "kernelspec": {
   "display_name": "Python [conda env:math]",
   "language": "python",
   "name": "conda-env-math-py"
  },
  "language_info": {
   "codemirror_mode": {
    "name": "ipython",
    "version": 3
   },
   "file_extension": ".py",
   "mimetype": "text/x-python",
   "name": "python",
   "nbconvert_exporter": "python",
   "pygments_lexer": "ipython3",
   "version": "3.6.2"
  }
 },
 "nbformat": 4,
 "nbformat_minor": 2
}
