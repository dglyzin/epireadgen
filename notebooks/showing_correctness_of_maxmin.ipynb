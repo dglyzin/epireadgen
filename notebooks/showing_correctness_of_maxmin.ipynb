{
 "cells": [
  {
   "cell_type": "code",
   "execution_count": 1,
   "metadata": {
    "collapsed": true
   },
   "outputs": [],
   "source": [
    "import os\n",
    "import sys\n",
    "import inspect\n",
    "\n",
    "# insert root dir into sys\n",
    "currentdir = os.path.dirname(os.path.abspath(inspect.getfile(inspect.currentframe())))\n",
    "root_dir = os.path.dirname(currentdir)\n",
    "# print(root_dir)\n",
    "\n",
    "if root_dir not in sys.path:\n",
    "     sys.path.insert(0, root_dir)"
   ]
  },
  {
   "cell_type": "markdown",
   "metadata": {},
   "source": [
    "#### Abstract:"
   ]
  },
  {
   "cell_type": "markdown",
   "metadata": {},
   "source": [
    "This file proves both the `scipy.optimize` and the `pytorch.autograd` maxmin implementations work correctly using next model for a test:"
   ]
  },
  {
   "cell_type": "markdown",
   "metadata": {},
   "source": [
    "1. Поиск седловой точки гиперболического парабалойда:<br>\n",
    "$loss(Ax, Ay) = \\frac{(Ax-a)^{2}}{2}-\\frac{(Ay-b)^{2}}{2}$<br>\n",
    "где Ax, Ay управление сторон A и B.<br>\n",
    " lossA = loss<br>\n",
    " lossB = -loss<br>\n",
    "Точное решение: Ax=a, Ay=b"
   ]
  },
  {
   "cell_type": "markdown",
   "metadata": {},
   "source": [
    "Scipy optimization:"
   ]
  },
  {
   "cell_type": "code",
   "execution_count": 2,
   "metadata": {
    "collapsed": true
   },
   "outputs": [],
   "source": [
    "import sim5_hw1_sciopt as sciopt"
   ]
  },
  {
   "cell_type": "code",
   "execution_count": 3,
   "metadata": {},
   "outputs": [
    {
     "name": "stdout",
     "output_type": "stream",
     "text": [
      "numpy.version: 1.18.5\n",
      "scipy.version: 1.4.1\n",
      "a, b: (tensor([0.3000]), tensor([0.7000]))\n",
      "rangesA: [slice(0, 0.6000000238418579, 0.01)]\n",
      "rangesB: [slice(0, 1.399999976158142, 0.01)]\n",
      "\n",
      "for given Ay= tensor([0.7000])\n",
      "result is:\n",
      "res_Ax:\n",
      "[0.3]\n",
      "fval:\n",
      "0.0\n",
      "loss: tensor(7.1054e-17, dtype=torch.float64)\n",
      "working time: 0.0642848014831543\n"
     ]
    }
   ],
   "source": [
    "sciopt.test_seddle_brute()"
   ]
  },
  {
   "cell_type": "markdown",
   "metadata": {},
   "source": [
    "Correct solution (0.3) for a given Ay (0.7) been found!"
   ]
  },
  {
   "cell_type": "markdown",
   "metadata": {},
   "source": [
    "Scipy maximin:"
   ]
  },
  {
   "cell_type": "code",
   "execution_count": 3,
   "metadata": {
    "collapsed": true
   },
   "outputs": [],
   "source": [
    "import sim5_hw1_scimaxmin as scimaxmin"
   ]
  },
  {
   "cell_type": "code",
   "execution_count": 4,
   "metadata": {},
   "outputs": [
    {
     "name": "stdout",
     "output_type": "stream",
     "text": [
      "a, b: (tensor([0.3000]), tensor([0.7000]))\n",
      "rangesA: [slice(0, 0.6000000238418579, 0.01)]\n",
      "rangesB: [slice(0, 1.399999976158142, 0.01)]\n",
      "\n",
      "init Ax, Ay:\n",
      "tensor([0.4378])\n",
      "tensor([1.0548])\n",
      "opt progress::  0 %\r\n",
      "done\n",
      "lossesA[-1]: -7.10542743701034e-17\n",
      "lossesB[-1]: -0.009498219937086105\n",
      "Ax: tensor([0.3000], dtype=torch.float64)\n",
      "Ay: tensor([0.7000], dtype=torch.float64)\n"
     ]
    }
   ],
   "source": [
    "scimaxmin.test_seddle_brute(1, dbg=False)"
   ]
  },
  {
   "cell_type": "markdown",
   "metadata": {},
   "source": [
    "In one shot solution been found!\n",
    "Notice: Поскольку игра не антагонистическая (lossA independend of lossB) hence both lossA and lossB are close to zero."
   ]
  },
  {
   "cell_type": "markdown",
   "metadata": {},
   "source": [
    "Pytorch.autograd maxmin:"
   ]
  },
  {
   "cell_type": "code",
   "execution_count": 2,
   "metadata": {
    "collapsed": true
   },
   "outputs": [],
   "source": [
    "import sim5_hw1 as sm1"
   ]
  },
  {
   "cell_type": "code",
   "execution_count": 3,
   "metadata": {},
   "outputs": [
    {
     "name": "stdout",
     "output_type": "stream",
     "text": [
      "opt progress::  0 %\r",
      "opt progress::  0 %\r",
      "opt progress::  0 %\r",
      "opt progress::  0 %\r",
      "opt progress::  0 %\r",
      "opt progress::  0 %\r",
      "opt progress::  0 %\r",
      "opt progress::  1 %\r",
      "opt progress::  1 %\r",
      "opt progress::  1 %\r",
      "opt progress::  1 %\r",
      "opt progress::  1 %\r",
      "opt progress::  1 %\r",
      "opt progress::  1 %\r",
      "opt progress::  2 %\r",
      "opt progress::  2 %\r",
      "opt progress::  2 %\r",
      "opt progress::  2 %\r",
      "opt progress::  2 %\r",
      "opt progress::  2 %\r",
      "opt progress::  2 %\r",
      "opt progress::  3 %\r",
      "opt progress::  3 %\r",
      "opt progress::  3 %\r",
      "opt progress::  3 %\r",
      "opt progress::  3 %\r",
      "opt progress::  3 %\r",
      "opt progress::  3 %\r",
      "opt progress::  4 %\r",
      "opt progress::  4 %\r",
      "opt progress::  4 %\r",
      "opt progress::  4 %\r",
      "opt progress::  4 %\r",
      "opt progress::  4 %\r",
      "opt progress::  4 %\r",
      "opt progress::  5 %\r",
      "opt progress::  5 %\r",
      "opt progress::  5 %\r",
      "opt progress::  5 %\r",
      "opt progress::  5 %\r",
      "opt progress::  5 %\r",
      "opt progress::  5 %\r",
      "opt progress::  6 %\r",
      "opt progress::  6 %\r",
      "opt progress::  6 %\r",
      "opt progress::  6 %\r",
      "opt progress::  6 %\r",
      "opt progress::  6 %\r",
      "opt progress::  6 %\r",
      "opt progress::  7 %\r",
      "opt progress::  7 %\r",
      "opt progress::  7 %\r",
      "opt progress::  7 %\r",
      "opt progress::  7 %\r",
      "opt progress::  7 %\r",
      "opt progress::  7 %\r",
      "opt progress::  8 %\r",
      "opt progress::  8 %\r"
     ]
    },
    {
     "name": "stderr",
     "output_type": "stream",
     "text": [
      "/home/valdecar/anaconda3/envs/math/lib/python3.6/site-packages/torch/autograd/__init__.py:132: UserWarning: CUDA initialization: The NVIDIA driver on your system is too old (found version 8000). Please update your GPU driver by downloading and installing a new version from the URL: http://www.nvidia.com/Download/index.aspx Alternatively, go to: https://pytorch.org to install a PyTorch version that has been compiled with your version of the CUDA driver. (Triggered internally at  /pytorch/c10/cuda/CUDAFunctions.cpp:100.)\n",
      "  allow_unreachable=True)  # allow_unreachable flag\n"
     ]
    },
    {
     "name": "stdout",
     "output_type": "stream",
     "text": [
      "opt progress:: █████████ 99 %\n",
      "done\n",
      "optimization results:\n",
      "lossesA[-1]: tensor(-2.1706e-08)\n",
      "lossesB[-1]: tensor(2.2404e-08)\n",
      "Ax: tensor(0.2999, requires_grad=True)\n",
      "Ay: tensor(0.6998, requires_grad=True)\n"
     ]
    },
    {
     "data": {
      "image/png": "[encoded data removed]",
      "text/plain": [
       "<matplotlib.figure.Figure at 0x7fe5e0b02da0>"
      ]
     },
     "metadata": {},
     "output_type": "display_data"
    },
    {
     "data": {
      "image/png": "[encoded data removed]",
      "text/plain": [
       "<matplotlib.figure.Figure at 0x7fe5d9f4cdd8>"
      ]
     },
     "metadata": {},
     "output_type": "display_data"
    }
   ],
   "source": [
    "sm1.test_maxmin_seddle(700, 1, 0.001, 0.001, switchB_used=True, dbg=False)"
   ]
  },
  {
   "cell_type": "markdown",
   "metadata": {},
   "source": [
    "Same result! Notice about losses"
   ]
  },
  {
   "cell_type": "markdown",
   "metadata": {},
   "source": [
    "##### Conclusion:"
   ]
  },
  {
   "cell_type": "markdown",
   "metadata": {},
   "source": [
    "Both scipy and pytorch implementations of maximin working correctly."
   ]
  },
  {
   "cell_type": "code",
   "execution_count": null,
   "metadata": {
    "collapsed": true
   },
   "outputs": [],
   "source": []
  }
 ],
 "metadata": {
  "kernelspec": {
   "display_name": "Python [conda env:math]",
   "language": "python",
   "name": "conda-env-math-py"
  },
  "language_info": {
   "codemirror_mode": {
    "name": "ipython",
    "version": 3
   },
   "file_extension": ".py",
   "mimetype": "text/x-python",
   "name": "python",
   "nbconvert_exporter": "python",
   "pygments_lexer": "ipython3",
   "version": "3.6.2"
  }
 },
 "nbformat": 4,
 "nbformat_minor": 2
}
