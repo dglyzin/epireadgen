{
 "cells": [
  {
   "cell_type": "code",
   "execution_count": 1,
   "metadata": {
    "collapsed": true
   },
   "outputs": [],
   "source": [
    "from math import exp, sqrt, pi\n",
    "import numpy as np\n",
    "import matplotlib.pyplot as plt\n",
    "from functools import reduce"
   ]
  },
  {
   "cell_type": "code",
   "execution_count": 2,
   "metadata": {
    "collapsed": true
   },
   "outputs": [],
   "source": [
    "import os\n",
    "import sys\n",
    "import inspect\n",
    "    \n",
    "# insert root dir into sys\n",
    "currentdir = os.path.dirname(os.path.abspath(inspect.getfile(inspect.currentframe())))\n",
    "root_dir = os.path.dirname(currentdir)\n",
    "# print(root_dir)\n",
    "\n",
    "if root_dir not in sys.path:\n",
    "     sys.path.insert(0, root_dir)"
   ]
  },
  {
   "cell_type": "code",
   "execution_count": 3,
   "metadata": {},
   "outputs": [],
   "source": [
    "from sim0 import Dist0, ARDist"
   ]
  },
  {
   "cell_type": "code",
   "execution_count": null,
   "metadata": {
    "collapsed": true
   },
   "outputs": [],
   "source": []
  },
  {
   "cell_type": "code",
   "execution_count": 4,
   "metadata": {},
   "outputs": [
    {
     "name": "stdout",
     "output_type": "stream",
     "text": [
      "1.3298075588832148\n",
      "2.6596151177664296\n",
      "[0.93807759 0.28688515 0.37173875]\n",
      "[-0.89407612 -0.50481762 -0.34020429]\n"
     ]
    },
    {
     "data": {
      "text/plain": [
       "1700"
      ]
     },
     "execution_count": 4,
     "metadata": {},
     "output_type": "execute_result"
    }
   ],
   "source": [
    "mu = 0\n",
    "sigma = 0.3\n",
    "low_lim, up_lim = (-1, 1)\n",
    "norm_density = lambda x: (1/(np.sqrt(2*pi)*sigma))*np.exp(-((x-mu)/sigma)**2/2)\n",
    "ar = ARDist(low_lim, up_lim, norm_density)\n",
    "# ar = ARDist(0, np.pi, f)\n",
    "print(ar.M)\n",
    "print(ar.C)\n",
    "print(ar.usampler(3))\n",
    "print(ar.hsampler(3))\n",
    "len(ar.sample_n(1700))"
   ]
  },
  {
   "cell_type": "code",
   "execution_count": 5,
   "metadata": {},
   "outputs": [
    {
     "name": "stdout",
     "output_type": "stream",
     "text": [
      "Using matplotlib backend: Qt5Agg\n"
     ]
    },
    {
     "data": {
      "text/plain": [
       "[<matplotlib.lines.Line2D at 0x7fc32f1d35c0>]"
      ]
     },
     "execution_count": 5,
     "metadata": {},
     "output_type": "execute_result"
    }
   ],
   "source": [
    "%matplotlib\n",
    "xs = ar.sample_n(17000)\n",
    "m1 = max(xs)\n",
    "# xs = ar.hsampler(17000)\n",
    "fig, ax = plt.subplots()\n",
    "\n",
    "v, b, p = ax.hist(xs, 70, # normed=True, # density=True, \n",
    "                stacked=True)\n",
    "xs1 = np.linspace(-1, 1, 17000)\n",
    "# xs1 = np.linspace(0, np.pi, 17000)\n",
    "ax.plot(xs1, (norm_density(xs1)/ar.M)*max(v))"
   ]
  },
  {
   "cell_type": "markdown",
   "metadata": {
    "collapsed": true
   },
   "source": [
    "##### Metropolise-Hastings alg"
   ]
  },
  {
   "cell_type": "code",
   "execution_count": 6,
   "metadata": {
    "collapsed": true
   },
   "outputs": [],
   "source": [
    "from sim0 import MH"
   ]
  },
  {
   "cell_type": "code",
   "execution_count": 7,
   "metadata": {},
   "outputs": [
    {
     "name": "stdout",
     "output_type": "stream",
     "text": [
      "2.279742379974159 5.793174297217863\n"
     ]
    }
   ],
   "source": [
    "# f = lambda x: np.abs(7*np.sin(x)+np.sin(4*x))\n",
    "f = lambda x: 7*np.sin(x)+np.sin(14*x)\n",
    "mh = MH(f)\n",
    "# result = mh.sample_n(30, 7)\n",
    "# xs = [mh.sample_n(30, 7) for i in range(300)]\n",
    "x = mh.sample_n(17, 2)\n",
    "print(x,f(x))"
   ]
  },
  {
   "cell_type": "code",
   "execution_count": 8,
   "metadata": {},
   "outputs": [
    {
     "name": "stdout",
     "output_type": "stream",
     "text": [
      "Using matplotlib backend: Qt5Agg\n"
     ]
    },
    {
     "data": {
      "text/plain": [
       "[<matplotlib.lines.Line2D at 0x7fc2f229ff28>]"
      ]
     },
     "execution_count": 8,
     "metadata": {},
     "output_type": "execute_result"
    }
   ],
   "source": [
    "%matplotlib\n",
    "plt.plot(mh.err)"
   ]
  },
  {
   "cell_type": "code",
   "execution_count": 9,
   "metadata": {},
   "outputs": [
    {
     "name": "stdout",
     "output_type": "stream",
     "text": [
      "Using matplotlib backend: Qt5Agg\n"
     ]
    }
   ],
   "source": [
    "%matplotlib\n",
    "# xs = ar.hsampler(17000)\n",
    "fig, ax = plt.subplots()\n",
    "\n",
    "v, b, p = ax.hist(mh.eps_sampler(3000), 70, # normed=True, # density=True, \n",
    "                stacked=True)\n"
   ]
  },
  {
   "cell_type": "markdown",
   "metadata": {},
   "source": [
    "##### Test of MH"
   ]
  },
  {
   "cell_type": "code",
   "execution_count": 10,
   "metadata": {},
   "outputs": [
    {
     "name": "stdout",
     "output_type": "stream",
     "text": [
      "Using matplotlib backend: Qt5Agg\n"
     ]
    },
    {
     "data": {
      "text/plain": [
       "[<matplotlib.lines.Line2D at 0x7fc2f22becc0>]"
      ]
     },
     "execution_count": 10,
     "metadata": {},
     "output_type": "execute_result"
    }
   ],
   "source": [
    "%matplotlib\n",
    "N = 3000\n",
    "xs = [mh.sample_n(270, 2) for i in range(N)]\n",
    "\n",
    "# xs = ar.hsampler(17000)\n",
    "fig, ax = plt.subplots()\n",
    "\n",
    "v, b, p = ax.hist(xs, 70, # normed=True, # density=True, \n",
    "                stacked=True)\n",
    "# xs1 = np.linspace(0, 20, N)\n",
    "xs1 = np.linspace(0, np.pi, N)\n",
    "m = max(f(b))\n",
    "ax.plot(b, (f(b)/m*max(v)))\n",
    "ax.plot(xs1, (f(xs1)/m)*max(v))"
   ]
  },
  {
   "cell_type": "markdown",
   "metadata": {},
   "source": [
    "invert error function"
   ]
  },
  {
   "cell_type": "code",
   "execution_count": 9,
   "metadata": {},
   "outputs": [
    {
     "data": {
      "text/plain": [
       "0.0008740629697903163"
      ]
     },
     "execution_count": 9,
     "metadata": {},
     "output_type": "execute_result"
    }
   ],
   "source": [
    "sdist0.f(0)*0.1"
   ]
  },
  {
   "cell_type": "code",
   "execution_count": 34,
   "metadata": {
    "collapsed": true
   },
   "outputs": [],
   "source": [
    "def c(k):\n",
    "    if k == 0:\n",
    "        return 1\n",
    "    \n",
    "    return(sum([c(m)*c(k-1-m)/((m+1)*(2*m+1)) for m in range(0, k)]))\n",
    "\n",
    "inv_erf = lambda z, n: reduce(lambda acc, k: acc + c(k)/(2*k+1)*(sqrt(pi)/2 * z)**(2*k+1),\n",
    "                 list(range(n)) , 0)"
   ]
  },
  {
   "cell_type": "code",
   "execution_count": null,
   "metadata": {
    "collapsed": true
   },
   "outputs": [],
   "source": []
  },
  {
   "cell_type": "code",
   "execution_count": 43,
   "metadata": {},
   "outputs": [
    {
     "name": "stdout",
     "output_type": "stream",
     "text": [
      "1.1666666666666667 1.1666666666666667\n",
      "1.4111111111111112 1.4111111111111112\n",
      "1.7337301587301588 1.7337301587301588\n",
      "1.6751692210014224\n"
     ]
    }
   ],
   "source": [
    "print(c(2), 7/6)\n",
    "print(c(3), 127/90)\n",
    "print(c(4), 4369/2520)\n",
    "print(inv_erf(1, 14))"
   ]
  },
  {
   "cell_type": "code",
   "execution_count": null,
   "metadata": {
    "collapsed": true
   },
   "outputs": [],
   "source": []
  }
 ],
 "metadata": {
  "kernelspec": {
   "display_name": "Python [conda env:math]",
   "language": "python",
   "name": "conda-env-math-py"
  },
  "language_info": {
   "codemirror_mode": {
    "name": "ipython",
    "version": 3
   },
   "file_extension": ".py",
   "mimetype": "text/x-python",
   "name": "python",
   "nbconvert_exporter": "python",
   "pygments_lexer": "ipython3",
   "version": "3.6.2"
  }
 },
 "nbformat": 4,
 "nbformat_minor": 2
}
