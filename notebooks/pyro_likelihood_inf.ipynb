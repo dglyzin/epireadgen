{
 "cells": [
  {
   "cell_type": "code",
   "execution_count": 3,
   "id": "2020d02d",
   "metadata": {},
   "outputs": [],
   "source": [
    "import numpy as np\n",
    "import torch\n",
    "import pyro\n",
    "import torch.distributions as dist\n",
    "import pyro.distributions as pdist\n",
    "import torch.nn.functional as F\n",
    "import matplotlib.pyplot as plt\n",
    "from pyro import poutine\n",
    "\n",
    "from pyro.infer import SVI, Trace_ELBO, TraceEnum_ELBO, config_enumerate, infer_discrete\n",
    "from pyro.infer import NUTS, MCMC\n",
    "from pyro.infer.autoguide import AutoDiagonalNormal\n",
    "from pyro import poutine\n",
    "from torch.distributions import constraints\n",
    "from pyro.ops.indexing import Vindex"
   ]
  },
  {
   "cell_type": "markdown",
   "id": "c0180051",
   "metadata": {},
   "source": [
    "### About Empirical:"
   ]
  },
  {
   "cell_type": "code",
   "execution_count": 4,
   "id": "78c118ba",
   "metadata": {},
   "outputs": [],
   "source": [
    "emp = pdist.Empirical(torch.tensor([0, 1, 0, 0]), torch.ones(4)*0.5)"
   ]
  },
  {
   "cell_type": "code",
   "execution_count": 5,
   "id": "eb2d6dae",
   "metadata": {},
   "outputs": [
    {
     "name": "stdout",
     "output_type": "stream",
     "text": [
      "site:  tensor(0)\n",
      "exp(emp.log_prob(site)):  tensor(0.7500)\n",
      "emp.sites: tensor([0, 1, 0, 0])\n"
     ]
    }
   ],
   "source": [
    "site = emp.sample()\n",
    "print(\"site: \", site)\n",
    "print(\"exp(emp.log_prob(site)): \", torch.exp(emp.log_prob(site)))\n",
    "print(\"emp.sites:\", emp.enumerate_support())"
   ]
  },
  {
   "cell_type": "markdown",
   "id": "b5d0c40a",
   "metadata": {},
   "source": [
    "### Likelihood inference"
   ]
  },
  {
   "cell_type": "markdown",
   "id": "32670bf9",
   "metadata": {},
   "source": [
    "Model, whose params want to infer: "
   ]
  },
  {
   "cell_type": "code",
   "execution_count": 6,
   "id": "351ea370",
   "metadata": {},
   "outputs": [],
   "source": [
    "def model5():\n",
    "    # transition:\n",
    "    # this will be infered (when no conditions given):\n",
    "    log = torch.ones(10)*(-3.)\n",
    "    log[0:3] = torch.ones(3)*(-1.)\n",
    "    log[2] = torch.ones(1)*(-0.1)\n",
    "\n",
    "    p_a = pyro.sample(\"p_a\", pdist.Empirical(torch.linspace(0, 1, 10),\n",
    "                                             log))\n",
    "    a = pyro.sample(\"a\", pdist.Binomial(2, p_a))\n",
    "    # a = pyro.sample(\"a\", pdist.Categorical(torch.tensor([0.33, 0.33, 0.33])))\n",
    "    p_b = [0.6, 0.3, 0.1]\n",
    "\n",
    "    d = pdist.Bernoulli(p_b[a.type(torch.long)])\n",
    "    \n",
    "    # log_p will still work correctly in this case because it\n",
    "    # use d.log_p, and d has probability p_b[a]\n",
    "    # so p(b=0, a=1) = p(b=0|a=1)*p(a=1) = 0.7*(2*p*(1-p))\n",
    "    # = 0.7*2*0.5*0.5 = 0.7*0.5 = 0.35\n",
    "    b = pyro.sample(\"b\", d)\n",
    "    \n",
    "    return b"
   ]
  },
  {
   "cell_type": "markdown",
   "id": "9a2eaefb",
   "metadata": {},
   "source": [
    "#### Core of likelihood weighting alg: "
   ]
  },
  {
   "cell_type": "code",
   "execution_count": 7,
   "id": "98a9f908",
   "metadata": {},
   "outputs": [],
   "source": [
    "def sequential_discrete_marginal(model, data, site_name=\"_RETURN\"):\n",
    "    '''\n",
    "    REF: http://pyro.ai/examples/effect_handlers.html#Example:-exact-inference-via-sequential-enumeration\n",
    "    '''\n",
    "    from six.moves import queue  # queue data structures\n",
    "    q = queue.Queue()  # Instantiate a first-in first-out queue\n",
    "    q.put(poutine.Trace())  # seed the queue with an empty trace\n",
    "\n",
    "    # as before, we fix the values of observed random variables with poutine.condition\n",
    "    # assuming data is a dictionary whose keys are names of sample sites in model\n",
    "    conditioned_model = poutine.condition(model, data=data)\n",
    "\n",
    "    # we wrap the conditioned model in a poutine.queue,\n",
    "    # which repeatedly pushes and pops partially completed executions from a Queue()\n",
    "    # to perform breadth-first enumeration over the set of values of all discrete sample sites in model\n",
    "    enum_model = poutine.queue(conditioned_model, queue=q)\n",
    "\n",
    "    # actually perform the enumeration by repeatedly tracing enum_model\n",
    "    # and accumulate samples and trace log-probabilities for postprocessing\n",
    "    samples, log_weights = [], []\n",
    "    while not q.empty():\n",
    "        trace = poutine.trace(enum_model).get_trace()\n",
    "        samples.append(trace.nodes[site_name][\"value\"])\n",
    "        log_weights.append(trace.log_prob_sum())\n",
    "        # print(dict([(name, trace.nodes[name]) for name in [\"a\", \"b\"]]))\n",
    "    '''\n",
    "    nsamples = []\n",
    "    nlogs = []\n",
    "    for idx, s in enumerate(samples):\n",
    "      if(s not in nsamples):\n",
    "        nsamples.append(s)\n",
    "        nlogs.append(torch.exp(log_weights[idx]))\n",
    "      else:\n",
    "        nlogs[nsamples.index(s)] += torch.exp(log_weights[idx])\n",
    "    '''\n",
    "    samples = torch.stack(samples, 0)\n",
    "    log_weights = torch.stack(log_weights, 0)\n",
    "    # print(\"samples:\")\n",
    "    #print(samples)\n",
    "    #print(\"log_weights:\")\n",
    "    #print(log_weights)\n",
    "    # print(\"nsamples:\")\n",
    "    # print(nsamples)\n",
    "    # print(\"nlogs:\")\n",
    "    #print(nlogs)\n",
    "    # print(\"log_wieghts:\")\n",
    "    # print(torch.exp(torch.tensor(log_weights)))  \n",
    "    # we take the samples and log-joints and turn them into a histogram:\n",
    "    # samples = torch.stack(nsamples, 0)\n",
    "    # log_weights = torch.log(torch.stack(nlogs, 0))\n",
    "    # print(\"samples:\")\n",
    "    # print(samples)\n",
    "    # return(trace.nodes[site_name][\"fn\"].enumerate_support(), pdist.util.logsumexp(log_weights, dim=0))\n",
    "    return(samples, log_weights)\n",
    "\n",
    "    # log_weights = log_weights - pdist.util.logsumexp(log_weights, dim=0)\n",
    "    \n",
    "    return(pdist.Empirical(samples, log_weights), log_weights)"
   ]
  },
  {
   "cell_type": "markdown",
   "id": "ccffc895",
   "metadata": {},
   "source": [
    "#### Inference:"
   ]
  },
  {
   "cell_type": "code",
   "execution_count": 9,
   "id": "c2fd0f6b",
   "metadata": {},
   "outputs": [
    {
     "name": "stdout",
     "output_type": "stream",
     "text": [
      "nsamles:\n",
      "[tensor(0.), tensor(0.1111), tensor(0.2222), tensor(0.3333), tensor(0.4444), tensor(0.5556), tensor(0.6667), tensor(0.7778), tensor(0.8889), tensor(1.)]\n",
      "nlogs:\n",
      "[tensor(0.1849), tensor(0.1849), tensor(0.4549), tensor(0.0250), tensor(0.0250), tensor(0.0250), tensor(0.0250), tensor(0.0250), tensor(0.0250), tensor(0.0250)]\n",
      "best:  tensor(0.2222)\n",
      "mean:  tensor(0.2384)\n"
     ]
    }
   ],
   "source": [
    "# emp = sequential_discrete_marginal(model4, {\"b\": data}, \"a\")\n",
    "# 3 for \"a\":\n",
    "lw = torch.zeros(60)\n",
    "emp = pdist.Binomial(2, 0.5)\n",
    "\n",
    "data = [1]\n",
    "# for d in torch.tensor([0.,1., 1., 1.]):\n",
    "# only one step required:\n",
    "for n in range(1):\n",
    "  for d in data[:1]:\n",
    "    # emp, log_weights = sequential_discrete_marginal(model4, emp, {\"b\": d}, \"a\")\n",
    "    # samples, log_weights = sequential_discrete_marginal(model5, {\"b\": d}, \"p_a\")\n",
    "    samples, log_weights = sequential_discrete_marginal(model5, {}, \"p_a\")\n",
    "    \n",
    "    \n",
    "    lw += log_weights\n",
    "    # print(log_weights)\n",
    "# P(a) = \\sum_{h}(P(a, h))\n",
    "lw= lw - pdist.util.logsumexp(lw, dim=0)\n",
    "# print(\"lw:\")\n",
    "# print(lw)\n",
    "# lw = -1.* lw/lw.sum()\n",
    "# lw = lw - pdist.util.logsumexp(lw, dim=0)\n",
    "# print(\"samples:\")\n",
    "# print(samples)\n",
    "# FOR factorization P(a) = \\sum_{h}(P(a, h)) too:\n",
    "nsamples = []\n",
    "nlogs = []\n",
    "for idx, s in enumerate(samples):\n",
    "  if(s not in nsamples):\n",
    "    nsamples.append(s)\n",
    "    nlogs.append(torch.exp(lw[idx]))\n",
    "  else:\n",
    "    nlogs[nsamples.index(s)] += torch.exp(lw[idx])\n",
    "print(\"nsamles:\")\n",
    "print(nsamples)\n",
    "print(\"nlogs:\")\n",
    "print(nlogs)\n",
    "print(\"best: \", nsamples[nlogs.index(max(nlogs))])\n",
    "# END FOR\n",
    "\n",
    "# print('results for \"a\":')\n",
    "# print(lw)\n",
    "# print(\"with observations:\")\n",
    "# print([0.,1., 1., 1.])\n",
    "emp = pdist.Empirical(samples, lw)\n",
    "print(\"mean: \",emp.mean)"
   ]
  },
  {
   "cell_type": "markdown",
   "id": "ae872cb3",
   "metadata": {},
   "source": [
    "#### Results, collected from `Empirical` and `nlogs` are same:"
   ]
  },
  {
   "cell_type": "code",
   "execution_count": 10,
   "id": "ce279b06",
   "metadata": {},
   "outputs": [
    {
     "name": "stdout",
     "output_type": "stream",
     "text": [
      "nlogs:\n",
      "[tensor(0.1849), tensor(0.1849), tensor(0.4549), tensor(0.0250), tensor(0.0250), tensor(0.0250), tensor(0.0250), tensor(0.0250), tensor(0.0250), tensor(0.0250)]\n"
     ]
    },
    {
     "data": {
      "text/plain": [
       "[<matplotlib.lines.Line2D at 0x7f3560cecc70>]"
      ]
     },
     "execution_count": 10,
     "metadata": {},
     "output_type": "execute_result"
    },
    {
     "data": {
      "image/png": "[encoded data removed]",
      "text/plain": [
       "<Figure size 432x288 with 1 Axes>"
      ]
     },
     "metadata": {
      "needs_background": "light"
     },
     "output_type": "display_data"
    }
   ],
   "source": [
    "print(\"nlogs:\")\n",
    "print(nlogs)\n",
    "plt.plot(torch.tensor(nlogs))"
   ]
  },
  {
   "cell_type": "code",
   "execution_count": null,
   "id": "dde526ce",
   "metadata": {},
   "outputs": [],
   "source": []
  }
 ],
 "metadata": {
  "kernelspec": {
   "display_name": "Python 3",
   "language": "python",
   "name": "python3"
  },
  "language_info": {
   "codemirror_mode": {
    "name": "ipython",
    "version": 3
   },
   "file_extension": ".py",
   "mimetype": "text/x-python",
   "name": "python",
   "nbconvert_exporter": "python",
   "pygments_lexer": "ipython3",
   "version": "3.8.8"
  }
 },
 "nbformat": 4,
 "nbformat_minor": 5
}
