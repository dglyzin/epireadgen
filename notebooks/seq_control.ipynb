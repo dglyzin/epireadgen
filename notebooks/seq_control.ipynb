{
 "cells": [
  {
   "cell_type": "markdown",
   "metadata": {},
   "source": [
    "### The general problem Def"
   ]
  },
  {
   "cell_type": "markdown",
   "metadata": {},
   "source": [
    "One have the process of the form:<br>\n",
    "$d x(t)=a(t, x(t), u(t, x[0, t])) d t+\\sigma(t, x(t), u(t, x[0, t])) d\\xi$\n",
    "<br>\n",
    "where \n",
    "<br> $\\xi(t)$ is a Wiener process\n",
    "<br> u(t, x[0,t]) control, where x[0,t] means interval"
   ]
  },
  {
   "cell_type": "markdown",
   "metadata": {},
   "source": [
    "And the goal func should looks like:<br>\n",
    "$J(u)=E[F(x(t))+\\int_{0}^{T}F_{1}(t, x(t), u) dt]$"
   ]
  },
  {
   "cell_type": "markdown",
   "metadata": {},
   "source": [
    "To solve this problem the Bellman eq introduced:\n",
    "<br>$V(t, x) = inf_{u}E[F(X_{t,x}(T, u))+\\int_{0}^{T}F_{1}(t, X_{t,x}(s, u), u) ds]$\n",
    "<br>with init condition:\n",
    "<br>$V(T, x) = F(X_{t,x}(T, u))=F(x)$"
   ]
  },
  {
   "cell_type": "markdown",
   "metadata": {},
   "source": [
    "To Solve this problem the Kolmogorov backward eq is used:\n",
    "<br>$inf_{u}[L_{u}(t,x)+F_{1}(t, x, u)]=0$\n",
    "<br>where:\n",
    "<br>$L_{u} = V_{t}(t, x)+V_{x}(t,x)a(t,x,u)+\\frac{1}{2} Tr[\\sigma(t,x,u)\\sigma^t(t,x,u)V_{x,x}(t,x)]$"
   ]
  },
  {
   "cell_type": "markdown",
   "metadata": {},
   "source": [
    "### The lin. quad. problem Def:"
   ]
  },
  {
   "cell_type": "markdown",
   "metadata": {},
   "source": [
    "In this case the process is defined as:\n",
    "<br>$d x(t)=[A(t)x(t)+f(t)+B(t)u] d t+\\sigma_{1}(t)x(t)d\\xi_1+\\sigma_{2}(t)u d\\xi_2+\\sigma(t)d \\xi(t)$\n",
    "<br>$J(u)=E[x^tN_1 x(T)+2 h_{1}^t x(T)+\\int_{0}^{T}(x^{t}(t)N_{2}(t)x(t)+u^{t}(t)N_{3}(t)u(t)+2 x^{t}N_{4}(t)u(t)+2 h_{2}^t x(t)+2 h_{3}^t u(t))dt]$"
   ]
  },
  {
   "cell_type": "markdown",
   "metadata": {},
   "source": [
    "And One looking for a solution of the form:\n",
    "<br> (*)   $V(t,x)=x^{t}P(t)x+2 G^{t}(t)x+g(t)$"
   ]
  },
  {
   "cell_type": "markdown",
   "metadata": {},
   "source": [
    "### The testing example:"
   ]
  },
  {
   "cell_type": "markdown",
   "metadata": {},
   "source": [
    "For the test consider the process of the form:\n",
    "<br>$\\frac{d x}{t}=y$\n",
    "<br>$\\frac{d y}{t}=(-k_{2}-k_{1}y+b u(t))dt+\\sigma \\xi$\n",
    "<br> with the goal func\n",
    "<br>\n",
    "$J(u) = E[\\alpha x^{2}(T)+\\int_{0}^{T} u^2 dt] \\rightarrow inf$"
   ]
  },
  {
   "cell_type": "markdown",
   "metadata": {},
   "source": [
    "Applying (*) One have equations to solve:\n",
    "<br>$\\frac{d p_{1 1}}{t}+p_{2 1}(-k2-\\frac{(b^2)}{2}(p_{1 2}+p{2 1})+\\frac{(b^2)}{4}(p{1 2}+p_{2 1})^2)=0$\n",
    "<br>$ \\frac{d (p_{2 1}+p_{1 2})}{t}+2p_{1 1}+p_{2 1}(-k1-p_{2 2}b^2)+2 p_{2 2}(-k2-(p12+p21)\\frac{(b^2)}{2})+b^2(p_{1 2}+p_{2 1})p_{2 2}$\n",
    "<br>$\\frac{p_{2 1}}{t}+p_{1 2}+2 p_{2 2}(-k1-p_{2 2}b^2)+b^2=0$\n",
    "<br> for P(t) and then:\n",
    "<br>$2 \\frac{d G_{1}}{t}-2 b G_{2}+2 G_{2}(-k2-\\frac{b^2}{2}(p_{1 2}+p_{2 1})+b^2 p_{2 2}G_{2}=0)$\n",
    "<br>$\\frac{d G_{2}}{t}+G_{1}-b^2 p_{2 2}G_{2}+G_{2}(-k1-b^2 p_{2 2})+ b^{2}p_{2 2} G_{2}/4=0$\n",
    "<br> for G(t) and finely:\n",
    "$\\frac{d g_{2}}{t}-b^{2}G_{2}^2+\\sigma/2 2 p_{2 2}$\n",
    "<br>for g(t)"
   ]
  },
  {
   "cell_type": "code",
   "execution_count": null,
   "metadata": {
    "collapsed": true
   },
   "outputs": [],
   "source": []
  }
 ],
 "metadata": {
  "kernelspec": {
   "display_name": "Python [conda env:math]",
   "language": "python",
   "name": "conda-env-math-py"
  },
  "language_info": {
   "codemirror_mode": {
    "name": "ipython",
    "version": 3
   },
   "file_extension": ".py",
   "mimetype": "text/x-python",
   "name": "python",
   "nbconvert_exporter": "python",
   "pygments_lexer": "ipython3",
   "version": "3.6.2"
  }
 },
 "nbformat": 4,
 "nbformat_minor": 2
}
