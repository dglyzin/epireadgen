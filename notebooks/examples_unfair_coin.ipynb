{
 "cells": [
  {
   "cell_type": "code",
   "execution_count": 37,
   "metadata": {
    "collapsed": true
   },
   "outputs": [],
   "source": [
    "import torch\n",
    "import pyro\n",
    "import pyro.distributions as dist\n",
    "from pyro.ops.indexing import Vindex\n",
    "from pyro import poutine\n",
    "import matplotlib.pyplot as plt\n",
    "import torch.distributions.constraints as constraints\n",
    "from torch.distributions import transform_to\n",
    "from pyro.infer import MCMC, NUTS\n",
    "from pyro.poutine.messenger import Messenger\n"
   ]
  },
  {
   "cell_type": "markdown",
   "metadata": {},
   "source": [
    "### Index:\n",
    "\n",
    "0. [**Definitions**](#Definitions:)\n",
    "    How pyro learn the model parameters in the guide by comparing both with use of the evidence lower bound (elbo).  \n",
    "\n",
    "1. [**Conditionaly-independet-elbo**](#Conditionaly-independet-elbo::)<br>\n",
    "    Interpretation of batch in pyro (what the plate and it log means)\n",
    "    \n",
    "2. [**First example with hso**](#hso0:)<br>\n",
    "    The *hierarchical sparse observable* first example here\n"
   ]
  },
  {
   "cell_type": "markdown",
   "metadata": {},
   "source": [
    "### Definitions:\n",
    "([1]- http://pyro.ai/examples/svi_part_i.html)\n",
    "\n",
    "The model has the **observable** x and latent random variables z and parameters $\\theta$\n",
    "and the goal is to maximize the log evidence $log \\ p_{\\theta}(x)$ i.e. to find $\\theta_{max} = argmax_{\\theta} \\ log \\ p_{\\theta}(x)$ \n",
    "where $p_{\\theta}(x)= log \\int p_{\\theta}(x, z) d z$,\n",
    "with use of the guide.\n",
    "\n",
    "Since it is generaly hard to solve this problem, and since they also want to find the posterior:\n",
    "<br>$p_{\\theta_{max}}(z|\\ x)=\\frac{p_{\\theta_max}(x, z)}{\\int p_{\\theta_{max}}(x, z) d z}$\n",
    "\n",
    "so for solving this problem the guide used i.e. the model $q_{\\phi}(z)$ with some parameters $\\phi$ as approximation for the $\\theta$.\n",
    "\n",
    "Then, the *\"goal will be to find the (not necessarily unique) probability distribution in that space that is the best possible approximation to the posterior distribution.\" [1]*\n",
    "\n",
    "\n",
    "This done by use of the elbo:\n",
    "<br>$elbo = E_{q_{\\phi}(z)}[log p_{\\theta}(x, z)-log q_{\\phi}(z)]$\n",
    "<br>And then use the fact that the elbo is a lower bound of the log evidence i.e.:\n",
    "<br>$log \\ p_{theta}(x)>elbo$\n",
    "<br>and so *\" if we take (stochastic) gradient steps to maximize the ELBO, we will also be pushing the log evidence higher (in expectation)\" [1]*"
   ]
  },
  {
   "cell_type": "markdown",
   "metadata": {},
   "source": [
    "### Conditionaly independet `elbo`:\n",
    "(REF: http://pyro.ai/examples/svi_part_ii.html#The-Goal:-Scaling-SVI-to-Large-Datasets)"
   ]
  },
  {
   "cell_type": "markdown",
   "metadata": {},
   "source": [
    "For example, in the case that the observations are conditionally independent given the latents, the log likelihood **term** in the ELBO (i.e. in $E_{q_{\\phi}(z)}[term]$ or rather $E{q_{\\phi}(z)}[term(p)-term(q)]$) can be approximated with\n",
    "    $\\sum_{1,...,N}log \\ p(x_{i}|\\ z) \\approx N/M\\sum_{i\\in I_{M}} log \\ p(x_{i}|\\ z)$ \n",
    "where $I_{M}$ is a mini-batch of indexes of size M with M < N\n",
    "so in the code like:\n"
   ]
  },
  {
   "cell_type": "code",
   "execution_count": 2,
   "metadata": {},
   "outputs": [
    {
     "name": "stdout",
     "output_type": "stream",
     "text": [
      "box tensor([0.2761, 0.2731, 0.2889])\n",
      "log inside plate: tensor([1.6094, 1.6094, 1.6094])\n"
     ]
    },
    {
     "data": {
      "text/plain": [
       "tensor(4.8283)"
      ]
     },
     "execution_count": 2,
     "metadata": {},
     "output_type": "execute_result"
    }
   ],
   "source": [
    "pyro.clear_param_store()\n",
    "def model_test():\n",
    "    with pyro.plate(\"data_loop\", size=3):\n",
    "        box = pyro.sample(\"box\", dist.Uniform(0.1, 0.3))\n",
    "        print(\"box\", box)\n",
    "        print(\"log inside plate:\", dist.Uniform(0.1, 0.3).log_prob(box))\n",
    "trace = poutine.trace(model_test).get_trace()\n",
    "trace.log_prob_sum()"
   ]
  },
  {
   "cell_type": "markdown",
   "metadata": {},
   "source": [
    "will return only one dim value (tensor(16.0944)) and print many dim box and its log.\n"
   ]
  },
  {
   "cell_type": "markdown",
   "metadata": {},
   "source": [
    "### Some dist:"
   ]
  },
  {
   "cell_type": "code",
   "execution_count": 178,
   "metadata": {},
   "outputs": [
    {
     "name": "stderr",
     "output_type": "stream",
     "text": [
      "/home/valdecar/anaconda3/envs/math/lib/python3.6/site-packages/torch/distributions/distribution.py:134: UserWarning: sample_n will be deprecated. Use .sample((n,)) instead\n",
      "  warnings.warn('sample_n will be deprecated. Use .sample((n,)) instead', UserWarning)\n"
     ]
    },
    {
     "data": {
      "image/png": "[encoded data removed]",
      "text/plain": [
       "<matplotlib.figure.Figure at 0x7fce716a2400>"
      ]
     },
     "metadata": {},
     "output_type": "display_data"
    }
   ],
   "source": [
    "plt.hist(dist.Beta(5, 5).sample_n(1000))\n",
    "plt.show()"
   ]
  },
  {
   "cell_type": "code",
   "execution_count": 180,
   "metadata": {},
   "outputs": [
    {
     "name": "stderr",
     "output_type": "stream",
     "text": [
      "/home/valdecar/anaconda3/envs/math/lib/python3.6/site-packages/torch/distributions/distribution.py:134: UserWarning: sample_n will be deprecated. Use .sample((n,)) instead\n",
      "  warnings.warn('sample_n will be deprecated. Use .sample((n,)) instead', UserWarning)\n"
     ]
    },
    {
     "data": {
      "image/png": "[encoded data removed]",
      "text/plain": [
       "<matplotlib.figure.Figure at 0x7fce71644320>"
      ]
     },
     "metadata": {},
     "output_type": "display_data"
    }
   ],
   "source": [
    "plt.hist(dist.Beta(5, 1).sample_n(1000))\n",
    "plt.show()"
   ]
  },
  {
   "cell_type": "code",
   "execution_count": 183,
   "metadata": {},
   "outputs": [
    {
     "name": "stderr",
     "output_type": "stream",
     "text": [
      "/home/valdecar/anaconda3/envs/math/lib/python3.6/site-packages/torch/distributions/distribution.py:134: UserWarning: sample_n will be deprecated. Use .sample((n,)) instead\n",
      "  warnings.warn('sample_n will be deprecated. Use .sample((n,)) instead', UserWarning)\n"
     ]
    },
    {
     "data": {
      "image/png": "[encoded data removed]",
      "text/plain": [
       "<matplotlib.figure.Figure at 0x7fce7170e8d0>"
      ]
     },
     "metadata": {},
     "output_type": "display_data"
    }
   ],
   "source": [
    "plt.hist(dist.Beta(1, 5).sample_n(1000))\n",
    "plt.show()"
   ]
  },
  {
   "cell_type": "markdown",
   "metadata": {},
   "source": [
    "### Global params:\n",
    "Now, if we introduce the params $\\lambda_{i}$ here, they will be independent, according to\n",
    "<br>$p(x, z, \\beta)=p(\\beta) \\prod_{i=1...N}p(x_{i}|z_{i})p(z_{i}|\\beta)$\n",
    "<br>for the model and:\n",
    "<br>$q(z, \\beta)=q(\\beta) \\prod_{i=1...N}q(z_{i}|\\beta,\\lambda_{i})$\n",
    "<br>for the quide. There is also the param $\\beta$ which is a global one."
   ]
  },
  {
   "cell_type": "code",
   "execution_count": 153,
   "metadata": {
    "collapsed": true
   },
   "outputs": [],
   "source": [
    "z_alpha_orig = 0.1\n",
    "beta_beta_orig = 0.9\n",
    "\n",
    "def model_test1(obs=None, size=3, dbg=True):\n",
    "    if dbg:\n",
    "        print(\"\\nfrom model test1\\n\")\n",
    "    beta = pyro.sample(\"beta\", dist.Uniform(0.3, beta_beta_orig))\n",
    "    if dbg:\n",
    "        print(\"beta:\", beta)\n",
    "    with pyro.plate(\"data_loop\", size=size) as ind:\n",
    "        zdist = dist.Uniform(z_alpha_orig, beta)\n",
    "            \n",
    "        z_i = pyro.sample(\"z_i\", zdist)\n",
    "        if dbg:\n",
    "            print(\"z_i\", z_i)\n",
    "            print(\"zdist.log_prob(z_i):\", zdist.log_prob(z_i))\n",
    "        if obs is not None:\n",
    "            x_i = pyro.sample(\"x_i\", dist.Bernoulli(z_i), obs=obs.index_select(0, ind))\n",
    "        else:\n",
    "            x_i = pyro.sample(\"x_i\", dist.Bernoulli(z_i))\n",
    "    return x_i\n",
    "\n",
    "def guide_test1(obs=None, size=3, dbg=True):\n",
    "    '''beta is a global variable while lambda_i is local one.\n",
    "    b is the high bound of the betta and restricted in interval (0.3, 0.9)\n",
    "        beta restricted in interval (0.3, b)\n",
    "    while l_i is the low bound of the lambda_i and restricted in interval (0.1, 0.3)\n",
    "        lambda_i restricted in interval (l_i, 0.3)\n",
    "        \n",
    "    both lambda_i and beta used as parameters of the z varialbe'''\n",
    "    \n",
    "    if dbg:\n",
    "        print(\"\\nfrom guide test1\\n\")\n",
    "    b = pyro.param(\"b\", torch.tensor(0.8), constraint=constraints.interval(0.3, 0.9))\n",
    "    beta_dist = dist.Uniform(0.3, b)\n",
    "    beta = pyro.sample(\"beta\", beta_dist)\n",
    "    if dbg:\n",
    "        print(\"beta\", beta)\n",
    "    with pyro.plate(\"data_loop\", size=size):\n",
    "        l_i = pyro.param(\"l_i\", torch.tensor(0.2), constraint=constraints.interval(0.1, 0.3))\n",
    "        lambda_i_dist = dist.Uniform(l_i, 0.3)\n",
    "        lambda_i = pyro.sample(\"lambda_i\", lambda_i_dist)\n",
    "        if dbg:\n",
    "             print(\"lambda_i\", lambda_i)\n",
    "        # zdist = dist.Uniform(0.1, beta)\n",
    "        zdist = dist.Uniform(lambda_i, beta)\n",
    "        z_i = pyro.sample(\"z_i\", zdist)\n",
    "        if dbg:\n",
    "            print(\"z_i\", z_i)\n",
    "            print(\"zdist.log_prob(z_i):\", zdist.log_prob(z_i))"
   ]
  },
  {
   "cell_type": "markdown",
   "metadata": {},
   "source": [
    "##### Check for the `log_prob_sum` is not  `-inf`"
   ]
  },
  {
   "cell_type": "code",
   "execution_count": 171,
   "metadata": {},
   "outputs": [
    {
     "name": "stdout",
     "output_type": "stream",
     "text": [
      "\n",
      "from guide test1\n",
      "\n",
      "beta tensor(0.3750, grad_fn=<AddBackward0>)\n",
      "lambda_i tensor([0.2707, 0.2312, 0.2601], grad_fn=<AddBackward0>)\n",
      "z_i tensor([0.3491, 0.2445, 0.2899], grad_fn=<AddBackward0>)\n",
      "zdist.log_prob(z_i): tensor([2.2606, 1.9391, 2.1633], grad_fn=<SubBackward0>)\n",
      "\n",
      "from model test1\n",
      "\n",
      "beta: tensor(0.3750, grad_fn=<AddBackward0>)\n",
      "z_i tensor([0.3491, 0.2445, 0.2899], grad_fn=<AddBackward0>)\n",
      "zdist.log_prob(z_i): tensor([1.2909, 1.2909, 1.2909], grad_fn=<SubBackward0>)\n",
      "\n",
      "from replayed model:\n",
      "\n",
      "beta:  tensor(0.3750, grad_fn=<AddBackward0>)\n",
      "z_i:  tensor([0.3491, 0.2445, 0.2899], grad_fn=<AddBackward0>)\n",
      "\n",
      "from quide model:\n",
      "\n",
      "beta:  tensor(0.3750, grad_fn=<AddBackward0>)\n"
     ]
    },
    {
     "data": {
      "text/plain": [
       "tensor(3.3314, grad_fn=<AddBackward0>)"
      ]
     },
     "execution_count": 171,
     "metadata": {},
     "output_type": "execute_result"
    }
   ],
   "source": [
    "pyro.clear_param_store()\n",
    "guide_trace1 = poutine.trace(guide_test1).get_trace()\n",
    "replayed_model1 = poutine.replay(model_test1, trace=guide_trace1)\n",
    "rmodel_trace1 = poutine.trace(replayed_model1).get_trace()\n",
    "\n",
    "print(\"\\nfrom replayed model:\\n\")\n",
    "print(\"beta: \", rmodel_trace1.nodes[\"beta\"][\"value\"])\n",
    "print(\"z_i: \", rmodel_trace1.nodes[\"z_i\"][\"value\"])\n",
    "\n",
    "print(\"\\nfrom quide model:\\n\")\n",
    "print(\"beta: \", guide_trace1.nodes[\"beta\"][\"value\"])\n",
    "# print(\"z_i: \", guide_trace1.nodes[\"z_i\"][\"value\"])\n",
    "rmodel_trace1.log_prob_sum()"
   ]
  },
  {
   "cell_type": "code",
   "execution_count": 107,
   "metadata": {
    "collapsed": true
   },
   "outputs": [],
   "source": [
    "obs = model_test1(None, 100, dbg=False)"
   ]
  },
  {
   "cell_type": "markdown",
   "metadata": {},
   "source": [
    "All what been sampled in pyro `plate` will be sum up to one dim in the `log_prob_sum`:"
   ]
  },
  {
   "cell_type": "code",
   "execution_count": 163,
   "metadata": {},
   "outputs": [
    {
     "name": "stdout",
     "output_type": "stream",
     "text": [
      "\n",
      "from model test1\n",
      "\n",
      "beta: tensor(0.7651)\n",
      "z_i tensor([0.5843, 0.4550, 0.5983, 0.2682, 0.4394, 0.7256, 0.5950, 0.5728, 0.6850,\n",
      "        0.5809])\n",
      "zdist.log_prob(z_i): tensor([0.4078, 0.4078, 0.4078, 0.4078, 0.4078, 0.4078, 0.4078, 0.4078, 0.4078,\n",
      "        0.4078])\n"
     ]
    },
    {
     "data": {
      "text/plain": [
       "tensor(-3.6258)"
      ]
     },
     "execution_count": 163,
     "metadata": {},
     "output_type": "execute_result"
    }
   ],
   "source": [
    "pyro.clear_param_store()\n",
    "obs = model_test1(None, 10, dbg=False)\n",
    "trace = poutine.trace(model_test1).get_trace(obs, 10)\n",
    "trace.log_prob_sum()"
   ]
  },
  {
   "cell_type": "markdown",
   "metadata": {},
   "source": [
    "This sum is equal to<br>\n",
    "$log \\ p_{\\theta}(x, z)-log \\ q_{\\phi}(z)$<br>\n"
   ]
  },
  {
   "cell_type": "markdown",
   "metadata": {},
   "source": [
    "it will be used in calculation of the `elbo` by the code:\n",
    "    "
   ]
  },
  {
   "cell_type": "code",
   "execution_count": 59,
   "metadata": {
    "collapsed": true
   },
   "outputs": [
    {
     "data": {
      "text/plain": [
       "'\\n        elbo = 0.0\\n        for model_trace, guide_trace in self._get_traces(model, guide, args, kwargs):\\n            elbo_particle = torch_item(model_trace.log_prob_sum()) - torch_item(guide_trace.log_prob_sum())\\n            elbo += elbo_particle / self.num_particles\\n'"
      ]
     },
     "execution_count": 59,
     "metadata": {},
     "output_type": "execute_result"
    }
   ],
   "source": [
    "'''\n",
    "        elbo = 0.0\n",
    "        for model_trace, guide_trace in self._get_traces(model, guide, args, kwargs):\n",
    "            elbo_particle = torch_item(model_trace.log_prob_sum()) - torch_item(guide_trace.log_prob_sum())\n",
    "            elbo += elbo_particle / self.num_particles\n",
    "'''\n",
    "# REF: `loss` method of the `Trace_ELBO` in `pyro/infer/trace_elbo.py`"
   ]
  },
  {
   "cell_type": "code",
   "execution_count": 172,
   "metadata": {
    "collapsed": true
   },
   "outputs": [],
   "source": [
    "def train(model, guide, obs, num_steps=500, a_name=\"l_i\"):\n",
    "    # setup the optimizer:\n",
    "    adam_params = {\"lr\": 0.05, \"betas\": (0.9, 0.999)}\n",
    "    optimizer = pyro.optim.Adam(adam_params)\n",
    "\n",
    "    loss = pyro.infer.Trace_ELBO()\n",
    "    # optimizer.zero_grad()\n",
    "    pyro.clear_param_store()\n",
    "\n",
    "    svi = pyro.infer.SVI(model=model,\n",
    "                         guide=guide,\n",
    "                         # guide=coin_parametrized_guide,\n",
    "                         optim=optimizer,\n",
    "                         loss=loss)\n",
    "\n",
    "\n",
    "    losses, a,b  = [], [], []\n",
    "    # num_steps = 500  # 2500\n",
    "    for t in range(num_steps):\n",
    "        # import pdb; pdb.set_trace()\n",
    "        losses.append(svi.step(obs, size=len(obs), dbg=False))\n",
    "        a.append(pyro.param(a_name).item())\n",
    "        b.append(pyro.param(\"b\").item())\n",
    "        # print(pyro.param(\"a\").grad)\n",
    "    return losses, a, b"
   ]
  },
  {
   "cell_type": "markdown",
   "metadata": {},
   "source": [
    "### Learning:\n"
   ]
  },
  {
   "cell_type": "code",
   "execution_count": 173,
   "metadata": {},
   "outputs": [
    {
     "name": "stderr",
     "output_type": "stream",
     "text": [
      "/home/valdecar/anaconda3/envs/math/lib/python3.6/site-packages/torch/autograd/__init__.py:132: UserWarning: CUDA initialization: The NVIDIA driver on your system is too old (found version 8000). Please update your GPU driver by downloading and installing a new version from the URL: http://www.nvidia.com/Download/index.aspx Alternatively, go to: https://pytorch.org to install a PyTorch version that has been compiled with your version of the CUDA driver. (Triggered internally at  /pytorch/c10/cuda/CUDAFunctions.cpp:100.)\n",
      "  allow_unreachable=True)  # allow_unreachable flag\n"
     ]
    },
    {
     "name": "stdout",
     "output_type": "stream",
     "text": [
      "100\n",
      "a:  0.1099330335855484\n",
      "b:  0.4000000059604645\n",
      "a =  0.1099330335855484\n",
      "b =  0.4000000059604645\n",
      "\n",
      "originals:\n",
      "z_alpha_orig:  0.1\n",
      "beta_beta_orig:  0.9\n"
     ]
    },
    {
     "data": {
      "image/png": "[encoded data removed]",
      "text/plain": [
       "<matplotlib.figure.Figure at 0x7fce789c6ba8>"
      ]
     },
     "metadata": {},
     "output_type": "display_data"
    }
   ],
   "source": [
    "pyro.clear_param_store()\n",
    "obs = model_test1(None, 1000, dbg=False)\n",
    "pyro.clear_param_store()\n",
    "losses, a, b = train(model_test1, guide_test1, obs, num_steps=100)\n",
    "print(len(b))\n",
    "# is't last Nan?:\n",
    "print(\"a: \", a[-1])\n",
    "print(\"b: \", b[-1])\n",
    "# losses\n",
    "plt.plot(losses)\n",
    "plt.title(\"ELBO\")\n",
    "plt.xlabel(\"steps\")\n",
    "plt.ylabel(\"losses\");\n",
    "print('a = ',pyro.param(\"l_i\").item())\n",
    "print('b = ',pyro.param(\"b\").item())\n",
    "print(\"\\noriginals:\")\n",
    "print(\"z_alpha_orig: \", z_alpha_orig)\n",
    "print(\"beta_beta_orig: \", beta_beta_orig)\n",
    "\n",
    "plt.show()\n",
    "# print(\"losses:\", loss)"
   ]
  },
  {
   "cell_type": "markdown",
   "metadata": {},
   "source": [
    "### The same model but with iteration:"
   ]
  },
  {
   "cell_type": "code",
   "execution_count": 119,
   "metadata": {
    "collapsed": true
   },
   "outputs": [],
   "source": [
    "z_alpha_orig = 0.1\n",
    "beta_beta_orig = 0.9\n",
    "\n",
    "\n",
    "def model_test2(obs=None, size=3, dbg=True):\n",
    "                \n",
    "    if dbg:\n",
    "        print(\"\\nfrom model test2\\n\")\n",
    "    beta = pyro.sample(\"beta\", dist.Uniform(0.3, beta_beta_orig))\n",
    "\n",
    "    if dbg:\n",
    "        print(\"beta:\", beta)\n",
    "    xs = []\n",
    "    for i in pyro.plate(\"data_loop\", size=size):\n",
    "        zdist = dist.Uniform(z_alpha_orig, beta)\n",
    "        z_i = pyro.sample(\"z_%s\"%str(i), zdist)\n",
    "        if dbg:\n",
    "            print(\"z_%s\"%str(i), z_i)\n",
    "            print(\"zdist.log_prob(z_%s):\"%str(i), zdist.log_prob(z_i))\n",
    "        if obs is not None:\n",
    "            x_i = pyro.sample(\"x_%s\" % str(i), dist.Bernoulli(z_i), obs=obs[i])\n",
    "        else:\n",
    "            x_i = pyro.sample(\"x_%s\" % str(i), dist.Bernoulli(z_i))\n",
    "            xs.append(x_i)\n",
    "    return xs\n",
    "\n",
    "         \n",
    "def guide_test2(obs=None, size=3, dbg=True):\n",
    "    '''beta is a global variable while lambda_i is local one.\n",
    "    b is the high bound of the betta and restricted in interval (0.3, 0.9)\n",
    "        beta restricted in interval (0.3, b)\n",
    "    while l_i is the low bound of the lambda_i and restricted in interval (0.1, 0.3)\n",
    "        lambda_i restricted in interval (l_i, 0.3)\n",
    "        \n",
    "    both lambda_i and beta used as parameters of the z varialbe'''\n",
    "    \n",
    "    if dbg:\n",
    "        print(\"\\nfrom guide test2\\n\")\n",
    " \n",
    "    b = pyro.param(\"b\", torch.tensor(0.8), constraint=constraints.interval(0.3, 0.9))\n",
    "    beta_dist = dist.Uniform(0.3, b)\n",
    "    beta = pyro.sample(\"beta\", beta_dist)\n",
    "    if dbg:\n",
    "        print(\"beta\", beta)\n",
    "\n",
    "    for i in pyro.plate(\"data_loop\", size=size):\n",
    "        l_i = pyro.param(\"l_%s\"%str(i), torch.tensor(0.2),\n",
    "                         constraint=constraints.interval(0.1, 0.3))\n",
    "        lambda_i_dist = dist.Uniform(l_i, 0.3)\n",
    "        lambda_i = pyro.sample(\"lambda_%s\"%str(i), lambda_i_dist)\n",
    "        if dbg:\n",
    "            print(\"lambda_i\", lambda_i)\n",
    "    \n",
    "        zdist = dist.Uniform(lambda_i, beta)\n",
    "        z_i = pyro.sample(\"z_%s\"%str(i), zdist)\n",
    "        if dbg:\n",
    "            print(\"z_i\", z_i)\n",
    "            print(\"zdist.log_prob(z_i):\", zdist.log_prob(z_i))\n",
    "     "
   ]
  },
  {
   "cell_type": "markdown",
   "metadata": {},
   "source": [
    "##### Check for the `log_prob_sum` is not  `-inf`"
   ]
  },
  {
   "cell_type": "code",
   "execution_count": 120,
   "metadata": {},
   "outputs": [
    {
     "name": "stdout",
     "output_type": "stream",
     "text": [
      "\n",
      "from guide test2\n",
      "\n",
      "beta tensor(0.7022, grad_fn=<AddBackward0>)\n",
      "lambda_i tensor(0.2441, grad_fn=<AddBackward0>)\n",
      "z_i tensor(0.3685, grad_fn=<AddBackward0>)\n",
      "zdist.log_prob(z_i): tensor(0.7808, grad_fn=<SubBackward0>)\n",
      "lambda_i tensor(0.2563, grad_fn=<AddBackward0>)\n",
      "z_i tensor(0.6694, grad_fn=<AddBackward0>)\n",
      "zdist.log_prob(z_i): tensor(0.8076, grad_fn=<SubBackward0>)\n",
      "lambda_i tensor(0.2923, grad_fn=<AddBackward0>)\n",
      "z_i tensor(0.5695, grad_fn=<AddBackward0>)\n",
      "zdist.log_prob(z_i): tensor(0.8918, grad_fn=<SubBackward0>)\n",
      "\n",
      "from model test2\n",
      "\n",
      "beta: tensor(0.7022, grad_fn=<AddBackward0>)\n",
      "z_0 tensor(0.3685, grad_fn=<AddBackward0>)\n",
      "zdist.log_prob(z_0): tensor(0.5072, grad_fn=<SubBackward0>)\n",
      "z_1 tensor(0.6694, grad_fn=<AddBackward0>)\n",
      "zdist.log_prob(z_1): tensor(0.5072, grad_fn=<SubBackward0>)\n",
      "z_2 tensor(0.5695, grad_fn=<AddBackward0>)\n",
      "zdist.log_prob(z_2): tensor(0.5072, grad_fn=<SubBackward0>)\n",
      "\n",
      "from replayed model:\n",
      "\n",
      "beta:  tensor(0.7022, grad_fn=<AddBackward0>)\n",
      "z_2:  tensor(0.5695, grad_fn=<AddBackward0>)\n",
      "\n",
      "from quide model:\n",
      "\n",
      "beta:  tensor(0.7022, grad_fn=<AddBackward0>)\n",
      "z_2:  tensor(0.5695, grad_fn=<AddBackward0>)\n"
     ]
    },
    {
     "data": {
      "text/plain": [
       "tensor(0.0696, grad_fn=<AddBackward0>)"
      ]
     },
     "execution_count": 120,
     "metadata": {},
     "output_type": "execute_result"
    }
   ],
   "source": [
    "pyro.clear_param_store()\n",
    "guide_trace2 = poutine.trace(guide_test2).get_trace()\n",
    "replayed_model2 = poutine.replay(model_test2, trace=guide_trace2)\n",
    "rmodel_trace2 = poutine.trace(replayed_model2).get_trace()\n",
    "\n",
    "print(\"\\nfrom replayed model:\\n\")\n",
    "print(\"beta: \", rmodel_trace2.nodes[\"beta\"][\"value\"])\n",
    "print(\"z_2: \", rmodel_trace2.nodes[\"z_2\"][\"value\"])\n",
    "\n",
    "print(\"\\nfrom quide model:\\n\")\n",
    "print(\"beta: \", guide_trace2.nodes[\"beta\"][\"value\"])\n",
    "print(\"z_2: \", guide_trace2.nodes[\"z_2\"][\"value\"])\n",
    "rmodel_trace2.log_prob_sum()"
   ]
  },
  {
   "cell_type": "code",
   "execution_count": null,
   "metadata": {
    "collapsed": true
   },
   "outputs": [],
   "source": []
  },
  {
   "cell_type": "markdown",
   "metadata": {},
   "source": [
    "### Learning:\n",
    "(much slower)"
   ]
  },
  {
   "cell_type": "code",
   "execution_count": 124,
   "metadata": {},
   "outputs": [
    {
     "name": "stdout",
     "output_type": "stream",
     "text": [
      "100\n",
      "a:  0.10931509733200073\n",
      "b:  0.8847571015357971\n",
      "a =  0.10931509733200073\n",
      "b =  0.8847571015357971\n",
      "\n",
      "originals:\n",
      "z_alpha_orig:  0.1\n",
      "beta_beta_orig:  0.9\n"
     ]
    },
    {
     "data": {
      "image/png": "[encoded data removed]",
      "text/plain": [
       "<matplotlib.figure.Figure at 0x7f06150b7f28>"
      ]
     },
     "metadata": {},
     "output_type": "display_data"
    }
   ],
   "source": [
    "pyro.clear_param_store()\n",
    "obs = model_test2(None, 100, dbg=False)\n",
    "pyro.clear_param_store()\n",
    "losses, a, b = train(model_test2, guide_test2, obs, num_steps=100,a_name=\"l_2\")\n",
    "print(len(b))\n",
    "# is't last Nan?:\n",
    "print(\"a: \", a[-1])\n",
    "print(\"b: \", b[-1])\n",
    "# losses\n",
    "plt.plot(losses)\n",
    "plt.title(\"ELBO\")\n",
    "plt.xlabel(\"steps\")\n",
    "plt.ylabel(\"losses\");\n",
    "print('a = ',pyro.param(\"l_2\").item())\n",
    "print('b = ',pyro.param(\"b\").item())\n",
    "print(\"\\noriginals:\")\n",
    "print(\"z_alpha_orig: \", z_alpha_orig)\n",
    "print(\"beta_beta_orig: \", beta_beta_orig)\n",
    "\n",
    "plt.show()\n",
    "# print(\"losses:\", loss)"
   ]
  },
  {
   "cell_type": "code",
   "execution_count": 125,
   "metadata": {
    "collapsed": true
   },
   "outputs": [
    {
     "name": "stdout",
     "output_type": "stream",
     "text": [
      "\n",
      "from guide test2\n",
      "\n",
      "beta tensor(0.5189, grad_fn=<AddBackward0>)\n",
      "lambda_i tensor(0.1139, grad_fn=<AddBackward0>)\n",
      "z_i tensor(0.2074, grad_fn=<AddBackward0>)\n",
      "zdist.log_prob(z_i): tensor(0.9040, grad_fn=<SubBackward0>)\n",
      "lambda_i tensor(0.2986, grad_fn=<AddBackward0>)\n",
      "z_i tensor(0.3474, grad_fn=<AddBackward0>)\n",
      "zdist.log_prob(z_i): tensor(1.5127, grad_fn=<SubBackward0>)\n",
      "lambda_i tensor(0.1954, grad_fn=<AddBackward0>)\n",
      "z_i tensor(0.2649, grad_fn=<AddBackward0>)\n",
      "zdist.log_prob(z_i): tensor(1.1286, grad_fn=<SubBackward0>)\n"
     ]
    }
   ],
   "source": [
    "guide_trace2 = poutine.trace(guide_test2).get_trace()\n",
    "replayed_model2 = poutine.replay(model_test1, trace=guide_trace2)"
   ]
  },
  {
   "cell_type": "markdown",
   "metadata": {},
   "source": [
    "### hso0:"
   ]
  },
  {
   "cell_type": "markdown",
   "metadata": {},
   "source": [
    "##### The condition:\n",
    "(and also obs gen, if obs is not given)"
   ]
  },
  {
   "cell_type": "code",
   "execution_count": 3,
   "metadata": {
    "collapsed": true
   },
   "outputs": [],
   "source": [
    "box_param_a = 1\n",
    "box_param_b = 5\n",
    "# data = torch.zeros(10)\n",
    "# data[0:6] = torch.ones(6)\n",
    "\n",
    "# condition0\n",
    "def conditioned_coin_obs(obs_flips, obs_coins, size=170, dbg=True):\n",
    "    # print(\"conditioned guess:\",guess)\n",
    "    # coin_param_dist = dist.Uniform(0.1, 0.9)\n",
    "    # coin_param = coin_param_dist.sample()\n",
    "    # print(\"coin param: \", coin_param)\n",
    "    if dbg:\n",
    "       print(\"\\nfrom conditioned_coin_obs\\n\")\n",
    "    \n",
    "    coins=[]\n",
    "    flips=[]\n",
    "    # bug here with Uniform(0, 1)\n",
    "    # coin = pyro.sample(\"coin\", dist.Uniform(0, 2))\n",
    "    # print(\"conditioned: coin: \", coin)\n",
    "    # sample 10 times:\n",
    "    with pyro.plate(\"data_loop\", size=size) as ind:\n",
    "        # no matter what, this value will be\n",
    "        # replaced by the guide (get_trace(guide).nodes[\"coin\"][\"value\"])\n",
    "        box_dist = dist.Beta(box_param_a, box_param_b)\n",
    "        box = pyro.sample(\"box\", box_dist)\n",
    "\n",
    "        if dbg:\n",
    "            print(\"box\", box)\n",
    "            print(\"log box\", box_dist.log_prob(box))\n",
    "            # print(\"box_dist.batch_shape\", box_dist.batch_shape)\n",
    "            # print(\"coin_dist.batch_shape\", coin_dist.batch_shape)\n",
    "          \n",
    "        coin_dist = dist.Beta(5, 10.*box)\n",
    "        \n",
    "        if obs_coins is not None:\n",
    "            coin = pyro.sample(\"coin\", coin_dist,\n",
    "                               obs=obs_coins.index_select(0, ind))\n",
    "        else:\n",
    "            coin = pyro.sample(\"coin\", coin_dist)\n",
    "            coins.append(coin)\n",
    "            if dbg:\n",
    "                print(\"coin:\", coin)\n",
    "                print(\"coin log_prob:\", coin_dist.log_prob(coin))\n",
    "        \n",
    "        flip_dist = dist.Bernoulli(probs=coin)\n",
    "       \n",
    "        if obs_flips is not None:\n",
    "            flip = pyro.sample(\"flip\", flip_dist,\n",
    "                               obs=obs_flips.index_select(0, ind))\n",
    "        else:\n",
    "            flip = pyro.sample(\"flip\", flip_dist)\n",
    "            flips.append(flip)\n",
    "            if dbg:\n",
    "                print(\"flip:\", flip)\n",
    "                print(\"flip log_prob:\", flip_dist.log_prob(flip))\n",
    "        \n",
    "    return(torch.cat(flips, 0) if flips != [] else None,\n",
    "           torch.cat(coins, 0) if coins != [] else None)"
   ]
  },
  {
   "cell_type": "code",
   "execution_count": 4,
   "metadata": {},
   "outputs": [
    {
     "name": "stdout",
     "output_type": "stream",
     "text": [
      "\n",
      "from conditioned_coin_obs\n",
      "\n",
      "box tensor([0.2867, 0.0834, 0.0900])\n",
      "log box tensor([0.2579, 1.2609, 1.2323])\n",
      "coin: tensor([0.6465, 0.9725, 0.9768])\n",
      "coin log_prob: tensor([0.8201, 1.6927, 1.6559])\n",
      "flip: tensor([1., 1., 1.])\n",
      "flip log_prob: tensor([-0.4362, -0.0279, -0.0235])\n",
      "obs_coins: tensor([0.6465, 0.9725, 0.9768])\n",
      "obs_flips: tensor([1., 1., 1.])\n"
     ]
    }
   ],
   "source": [
    "# data = torch.tensor([coin_model0(1) for i in range(10)])\n",
    "# data\n",
    "pyro.clear_param_store()\n",
    "obs_flips, obs_coins = conditioned_coin_obs(None, None, size=3)\n",
    "print(\"obs_coins:\", obs_coins)\n",
    "print(\"obs_flips:\", obs_flips)"
   ]
  },
  {
   "cell_type": "markdown",
   "metadata": {},
   "source": [
    "##### bug with log_prob"
   ]
  },
  {
   "cell_type": "code",
   "execution_count": 203,
   "metadata": {},
   "outputs": [
    {
     "name": "stdout",
     "output_type": "stream",
     "text": [
      "\n",
      "from conditioned_coin_obs\n",
      "\n",
      "box tensor([0.1819, 0.3065, 0.0913])\n",
      "log box tensor([0.8063, 0.1456, 1.2266])\n",
      "coin: tensor([0.7412, 0.5874, 0.9694])\n",
      "coin log_prob: tensor([0.8253, 0.7681, 1.5845])\n",
      "flip: tensor([1., 1., 1.])\n",
      "flip log_prob: tensor([-0.2995, -0.5320, -0.0311])\n",
      "obs_flips: tensor([1., 1., 1.])\n",
      "obs_coins: tensor([0.7412, 0.5874, 0.9694])\n",
      "\n",
      "from conditioned_coin_obs\n",
      "\n",
      "box tensor([0.1378, 0.7135, 0.1237])\n",
      "log box tensor([ 1.0166, -3.3904,  1.0813])\n",
      "log_prob_sum() tensor(-0.0538)\n"
     ]
    }
   ],
   "source": [
    "pyro.clear_param_store()\n",
    "obs_flips, obs_coins = conditioned_coin_obs(None, None, size=3)\n",
    "# trace = poutine.trace(conditioned_coin_obs).get_trace(None, None, size=3)\n",
    "print(\"obs_flips:\", obs_flips)\n",
    "print(\"obs_coins:\", obs_coins)\n",
    "trace = poutine.trace(conditioned_coin_obs).get_trace(obs_flips, obs_coins, size=3)\n",
    "print(\"log_prob_sum()\", trace.log_prob_sum())\n",
    "# print(\"\\nnode box\", trace.nodes['box'])\n",
    "# print(\"\\nnode coin\", trace.nodes['coin'])\n",
    "# print(\"\\nnode flip\", trace.nodes['flip'])\n",
    "# print(\"coin dist.low:\", trace.nodes['coin']['fn'].low)\n",
    "# print(\"coin dist.high:\", trace.nodes['coin']['fn'].high)\n"
   ]
  },
  {
   "cell_type": "markdown",
   "metadata": {},
   "source": [
    "#### Some `pyro.plate` working:"
   ]
  },
  {
   "cell_type": "code",
   "execution_count": 195,
   "metadata": {},
   "outputs": [
    {
     "name": "stdout",
     "output_type": "stream",
     "text": [
      "box tensor([[0.1581, 0.2835, 0.1318],\n",
      "        [0.1816, 0.1526, 0.2539],\n",
      "        [0.1411, 0.1976, 0.1280]])\n",
      "tensor([[1.6094, 1.6094, 1.6094],\n",
      "        [1.6094, 1.6094, 1.6094],\n",
      "        [1.6094, 1.6094, 1.6094]])\n"
     ]
    }
   ],
   "source": [
    "box = pyro.sample(\"box\", dist.Uniform(0.1*torch.ones((3,3)), 0.3*torch.ones((3,3))))\n",
    "print(\"box\", box)\n",
    "print(dist.Uniform(0.1, 0.3).log_prob(box))"
   ]
  },
  {
   "cell_type": "code",
   "execution_count": 196,
   "metadata": {},
   "outputs": [
    {
     "name": "stdout",
     "output_type": "stream",
     "text": [
      "box tensor([0.2390, 0.2883, 0.2892, 0.1182, 0.1680, 0.1401, 0.1665, 0.2393, 0.1177,\n",
      "        0.2820])\n",
      "log inside plate: tensor([1.6094, 1.6094, 1.6094, 1.6094, 1.6094, 1.6094, 1.6094, 1.6094, 1.6094,\n",
      "        1.6094])\n",
      "log outside plate: tensor([1.6094, 1.6094, 1.6094, 1.6094, 1.6094, 1.6094, 1.6094, 1.6094, 1.6094,\n",
      "        1.6094])\n"
     ]
    }
   ],
   "source": [
    "with pyro.plate(\"data_loop\", size=10):\n",
    "    box = pyro.sample(\"box\", dist.Uniform(0.1, 0.3))\n",
    "    print(\"box\", box)\n",
    "    print(\"log inside plate:\", dist.Uniform(0.1, 0.3).log_prob(box))\n",
    "print(\"log outside plate:\", dist.Uniform(0.1, 0.3).log_prob(box))\n"
   ]
  },
  {
   "cell_type": "code",
   "execution_count": 16,
   "metadata": {},
   "outputs": [
    {
     "name": "stdout",
     "output_type": "stream",
     "text": [
      "box_dist.batch_shape torch.Size([])\n",
      "coin_dist.batch_shape torch.Size([30])\n"
     ]
    },
    {
     "data": {
      "text/plain": [
       "tensor([0., 0., 0., 0., 0., 0., 0., 0., 0., 0., 1., 1., 0., 0., 1., 0., 1., 0.,\n",
       "        0., 0., 1., 1., 0., 0., 0., 0., 1., 0., 0., 0.])"
      ]
     },
     "execution_count": 16,
     "metadata": {},
     "output_type": "execute_result"
    }
   ],
   "source": [
    "pyro.clear_param_store()\n",
    "conditioned_coin_obs(obs_coin_flips, obs_coins, size=30)"
   ]
  },
  {
   "cell_type": "markdown",
   "metadata": {},
   "source": [
    "### guide:"
   ]
  },
  {
   "cell_type": "code",
   "execution_count": 5,
   "metadata": {
    "collapsed": true
   },
   "outputs": [],
   "source": [
    "def coin_parametrized_guide(obs_flips, obs_coins=None, size=None, dbg=True):\n",
    "   \n",
    "    aa = pyro.param(\"a\", torch.tensor(3),\n",
    "                    constraint=constraints.interval(1, 10))\n",
    "    bb = pyro.param(\"b\", torch.tensor(3),\n",
    "                    constraint=constraints.interval(1, 10))\n",
    "    # print(\"guide a:\", aa)\n",
    "    with pyro.plate(\"data_loop\", size=size):\n",
    "        res = pyro.sample(\"box\", dist.Beta(aa, bb))\n",
    "    # print(\"guide: res\", res.shape)\n",
    "    return res"
   ]
  },
  {
   "cell_type": "markdown",
   "metadata": {},
   "source": [
    "##### Check for the `log_prob_sum` is not  `-inf`"
   ]
  },
  {
   "cell_type": "code",
   "execution_count": 211,
   "metadata": {},
   "outputs": [
    {
     "name": "stdout",
     "output_type": "stream",
     "text": [
      "\n",
      "from conditioned_coin_obs\n",
      "\n",
      "box tensor([0.1829, 0.0340, 0.0816])\n",
      "log box tensor([0.8014, 1.4709, 1.2690])\n",
      "coin: tensor([0.7290, 0.9905, 0.8481])\n",
      "coin log_prob: tensor([0.7991, 2.5982, 0.8494])\n",
      "flip: tensor([1., 1., 1.])\n",
      "flip log_prob: tensor([-0.3161, -0.0095, -0.1647])\n",
      "\n",
      "from conditioned_coin_obs\n",
      "\n",
      "box tensor([0.2770, 0.2443, 0.1909], grad_fn=<SelectBackward>)\n",
      "log box tensor([0.3119, 0.4891, 0.7621], grad_fn=<SubBackward0>)\n",
      "\n",
      "from replayed model:\n",
      "\n",
      "beta:  tensor([0.2770, 0.2443, 0.1909], grad_fn=<SelectBackward>)\n",
      "coin:  tensor([0.7290, 0.9905, 0.8481])\n",
      "flip:  tensor([1., 1., 1.])\n",
      "\n",
      "from quide model:\n",
      "\n"
     ]
    },
    {
     "data": {
      "text/plain": [
       "tensor(0.0246, grad_fn=<AddBackward0>)"
      ]
     },
     "execution_count": 211,
     "metadata": {},
     "output_type": "execute_result"
    }
   ],
   "source": [
    "obs_flips, obs_coins = conditioned_coin_obs(None, None, size=3)\n",
    "pyro.clear_param_store()\n",
    "guide_trace_coin = poutine.trace(coin_parametrized_guide).get_trace(obs_flips, obs_coins, size=3)\n",
    "replayed_model_coin = poutine.replay(conditioned_coin_obs, trace=guide_trace_coin)\n",
    "rmodel_trace_coin = poutine.trace(replayed_model_coin).get_trace(obs_flips, obs_coins, size=3)\n",
    "\n",
    "print(\"\\nfrom replayed model:\\n\")\n",
    "print(\"beta: \", rmodel_trace_coin.nodes[\"box\"][\"value\"])\n",
    "print(\"coin: \", rmodel_trace_coin.nodes[\"coin\"][\"value\"])\n",
    "print(\"flip: \", rmodel_trace_coin.nodes[\"flip\"][\"value\"])\n",
    "\n",
    "print(\"\\nfrom quide model:\\n\")\n",
    "\n",
    "rmodel_trace_coin.log_prob_sum()"
   ]
  },
  {
   "cell_type": "markdown",
   "metadata": {},
   "source": [
    "### Learning"
   ]
  },
  {
   "cell_type": "code",
   "execution_count": 248,
   "metadata": {
    "collapsed": true
   },
   "outputs": [],
   "source": [
    "def train(model, guide, obs_flips, obs_coins, num_steps=500, size=3, optimizer=None):\n",
    "    # setup the optimizer:\n",
    "    \n",
    "    loss = pyro.infer.Trace_ELBO()\n",
    "    # optimizer.zero_grad()\n",
    "    pyro.clear_param_store()\n",
    "\n",
    "    svi = pyro.infer.SVI(model=model,\n",
    "                         guide=guide,\n",
    "                         # guide=coin_parametrized_guide,\n",
    "                         optim=optimizer,\n",
    "                         loss=loss)\n",
    "\n",
    "    \n",
    "    losses, a,b  = [], [], []\n",
    "    # num_steps = 500  # 2500\n",
    "    for t in range(num_steps):\n",
    "        # import pdb; pdb.set_trace()\n",
    "        losses.append(svi.step(obs_flips, obs_coins, size=size, dbg=False))\n",
    "        a.append(pyro.param(\"a\").item())\n",
    "        b.append(pyro.param(\"b\").item())\n",
    "        # print(pyro.param(\"a\").grad)\n",
    "    return losses, a, b"
   ]
  },
  {
   "cell_type": "code",
   "execution_count": 251,
   "metadata": {
    "scrolled": false
   },
   "outputs": [
    {
     "name": "stdout",
     "output_type": "stream",
     "text": [
      "1000\n",
      "a0:  1.0012699365615845\n",
      "b0:  9.962065696716309\n",
      "1000\n",
      "a1:  2.424182415008545\n",
      "b1:  9.609771728515625\n",
      "box_param_a:  1\n",
      "box_param_b:  5\n"
     ]
    },
    {
     "data": {
      "image/png": "[encoded data removed]",
      "text/plain": [
       "<matplotlib.figure.Figure at 0x7fce717b2a90>"
      ]
     },
     "metadata": {},
     "output_type": "display_data"
    }
   ],
   "source": [
    "pyro.clear_param_store()\n",
    "batch_size=3\n",
    "steps = 1000\n",
    "obs_flips, obs_coins = conditioned_coin_obs(None, None, batch_size, dbg=False)\n",
    "\n",
    "adam_params = {\"lr\": 0.1, \"betas\": (0.9, 0.999)}\n",
    "optimizer_adam = pyro.optim.Adam(adam_params)\n",
    "optim_sgd = pyro.optim.SGD({\"lr\": 0.1, \"momentum\": 0.1})\n",
    "\n",
    "pyro.clear_param_store()\n",
    "losses0, a0, b0 = train(conditioned_coin_obs, coin_parametrized_guide,\n",
    "                        obs_flips, None,\n",
    "                        num_steps=steps, size=batch_size,\n",
    "                        optimizer=optimizer_adam)\n",
    "print(len(b0))\n",
    "# is't last Nan?:\n",
    "print(\"a0: \", a0[-1])\n",
    "print(\"b0: \", b0[-1])\n",
    "\n",
    "pyro.clear_param_store()\n",
    "losses1, a1, b1 = train(conditioned_coin_obs, coin_parametrized_guide,\n",
    "                        obs_flips, obs_coins,\n",
    "                        num_steps=steps, size=batch_size,\n",
    "                        optimizer=optimizer_adam)\n",
    "print(len(b1))\n",
    "# is't last Nan?:\n",
    "print(\"a1: \", a1[-1])\n",
    "print(\"b1: \", b1[-1])\n",
    "\n",
    "\n",
    "# losses\n",
    "fix, axs = plt.subplots(1, 2)\n",
    "titles = [\"flips only\", \"flips and coins\"]\n",
    "losses = [losses0, losses1]\n",
    "for i, ax in enumerate(axs.flat):\n",
    "    ax.plot(losses[i])\n",
    "    ax.set_title(titles[i])\n",
    "    plt.xlabel(\"steps\")\n",
    "    plt.ylabel(\"losses\");\n",
    "    \n",
    "print(\"box_param_a: \", box_param_a)\n",
    "print(\"box_param_b: \", box_param_b)\n",
    "plt.show()\n",
    "# print(\"losses:\", loss)"
   ]
  },
  {
   "cell_type": "markdown",
   "metadata": {},
   "source": [
    "Result:\n",
    "only slight difference between certainty (smaller deviation if hso used)"
   ]
  },
  {
   "cell_type": "markdown",
   "metadata": {},
   "source": [
    "### MCMC"
   ]
  },
  {
   "cell_type": "code",
   "execution_count": 90,
   "metadata": {},
   "outputs": [],
   "source": [
    "box_param_a = 1\n",
    "box_param_b = 5\n",
    "# data = torch.zeros(10)\n",
    "# data[0:6] = torch.ones(6)\n",
    "\n",
    "# condition0\n",
    "def conditioned_coin_obs_mcmc(obs_flips, obs_coins, a_errs, b_errs,\n",
    "                              a_mean_errs, b_mean_errs, size=170, dbg=True):\n",
    "    '''This condition is different from original\n",
    "    in having aa and bb as samples. Since We do not use the guide\n",
    "    here, need to tell mcmc to sample these as well'''\n",
    "    \n",
    "    # print(\"conditioned guess:\",guess)\n",
    "    # coin_param_dist = dist.Uniform(0.1, 0.9)\n",
    "    # coin_param = coin_param_dist.sample()\n",
    "    # print(\"coin param: \", coin_param)\n",
    "    if dbg:\n",
    "       print(\"\\nfrom conditioned_coin_obs\\n\")\n",
    "    \n",
    "    aa = pyro.sample(\"a\", dist.Uniform(0, 5))\n",
    "    bb = pyro.sample(\"b\", dist.Uniform(aa, 10))\n",
    "    # print(\"guide a:\", aa)\n",
    "    a_errs.append(torch.abs(aa-box_param_a))\n",
    "    b_errs.append(torch.abs(bb-box_param_b))\n",
    "    if len(a_errs)%10==0:\n",
    "        a_mean_errs.append(torch.mean(torch.tensor(a_errs)))\n",
    "    if len(b_errs)%10==0:\n",
    "        b_mean_errs.append(torch.mean(torch.tensor(b_errs)))\n",
    "    # pyro.param(\"a_err\", torch.abs(aa-box_param_a), torch.zeros(1))\n",
    "    # pyro.param(\"b_err\", torch.abs(bb-box_param_b), torch.zeros(1))\n",
    "    \n",
    "    \n",
    "    coins=[]\n",
    "    flips=[]\n",
    "    # bug here with Uniform(0, 1)\n",
    "    # coin = pyro.sample(\"coin\", dist.Uniform(0, 2))\n",
    "    # print(\"conditioned: coin: \", coin)\n",
    "    # sample 10 times:\n",
    "    with pyro.plate(\"data_loop\", size=size) as ind:\n",
    "        # no matter what, this value will be\n",
    "        # replaced by the guide (get_trace(guide).nodes[\"coin\"][\"value\"])\n",
    "        box_dist = dist.Beta(aa, bb)\n",
    "        box = pyro.sample(\"box\", box_dist)\n",
    "\n",
    "        if dbg:\n",
    "            print(\"box\", box)\n",
    "            print(\"log box\", box_dist.log_prob(box))\n",
    "            # print(\"box_dist.batch_shape\", box_dist.batch_shape)\n",
    "            # print(\"coin_dist.batch_shape\", coin_dist.batch_shape)\n",
    "          \n",
    "        coin_dist = dist.Beta(5, 10.*box)\n",
    "        \n",
    "        if obs_coins is not None:\n",
    "            coin = pyro.sample(\"coin\", coin_dist,\n",
    "                               obs=obs_coins.index_select(0, ind))\n",
    "        else:\n",
    "            coin = pyro.sample(\"coin\", coin_dist)\n",
    "            coins.append(coin)\n",
    "            if dbg:\n",
    "                print(\"coin:\", coin)\n",
    "                print(\"coin log_prob:\", coin_dist.log_prob(coin))\n",
    "        \n",
    "        flip_dist = dist.Bernoulli(probs=coin)\n",
    "       \n",
    "        if obs_flips is not None:\n",
    "            flip = pyro.sample(\"flip\", flip_dist,\n",
    "                               obs=obs_flips.index_select(0, ind))\n",
    "        else:\n",
    "            flip = pyro.sample(\"flip\", flip_dist)\n",
    "            flips.append(flip)\n",
    "            if dbg:\n",
    "                print(\"flip:\", flip)\n",
    "                print(\"flip log_prob:\", flip_dist.log_prob(flip))\n",
    "        \n",
    "    return(torch.cat(flips, 0) if flips != [] else None,\n",
    "           torch.cat(coins, 0) if coins != [] else None)"
   ]
  },
  {
   "cell_type": "code",
   "execution_count": 91,
   "metadata": {},
   "outputs": [],
   "source": [
    "class ResultCollectorMessenger(\n",
    "        Messenger):\n",
    "    def __init__(self, *args, **kwargs):\n",
    "        self.a_errs = []\n",
    "        self.b_errs = []\n",
    "        \n",
    "        Messenger.__init__(self, *args, **kwargs)\n",
    "    \n",
    "    def _pyro_post_param(self, msg):\n",
    "        print(\"msg[name]\", msg[\"name\"])\n",
    "        if msg[\"name\"] == \"a_err\":\n",
    "            self.a_errs.append(msg[\"value\"])\n",
    "        if msg[\"name\"] == \"b_err\":\n",
    "            self.b_errs.append(msg[\"value\"])\n",
    "    "
   ]
  },
  {
   "cell_type": "code",
   "execution_count": 92,
   "metadata": {},
   "outputs": [],
   "source": [
    "def train(steps, obs_flips, obs_coins):\n",
    "    nuts_kernel = NUTS(conditioned_coin_obs_mcmc)\n",
    "    mcmc = MCMC(\n",
    "            nuts_kernel,\n",
    "            num_samples=steps,\n",
    "            warmup_steps=1,\n",
    "            num_chains=1,)\n",
    "\n",
    "    # with ResultCollectorMessenger() as res:\n",
    "    a_errs = []\n",
    "    b_errs = []\n",
    "    a_mean_errs = []\n",
    "    b_mean_errs = []\n",
    "    mcmc.run(obs_flips, None, a_errs, b_errs, a_mean_errs, b_mean_errs,\n",
    "             size=len(obs_flips), dbg=False)\n",
    "    print(mcmc.summary())\n",
    "    return(mcmc, a_mean_errs, b_mean_errs)\n"
   ]
  },
  {
   "cell_type": "markdown",
   "metadata": {},
   "source": [
    "Flips only:\n",
    "(try several times if err is nan in the table)"
   ]
  },
  {
   "cell_type": "code",
   "execution_count": 94,
   "metadata": {},
   "outputs": [
    {
     "name": "stderr",
     "output_type": "stream",
     "text": [
      "Sample: 100%|██████████| 1001/1001 [02:31,  6.59it/s, step size=5.00e-01, acc. prob=0.672]"
     ]
    },
    {
     "name": "stdout",
     "output_type": "stream",
     "text": [
      "\n",
      "                mean       std    median      5.0%     95.0%     n_eff     r_hat\n",
      "         a      3.23      1.04      3.33      1.61      4.82    184.19      1.00\n",
      "         b      7.08      1.62      7.09      4.24      9.33    379.18      1.00\n",
      "    box[0]      0.28      0.16      0.26      0.01      0.52    327.72      1.00\n",
      "    box[1]      0.29      0.15      0.28      0.04      0.51    475.27      1.00\n",
      "    box[2]      0.29      0.16      0.27      0.03      0.51    359.84      1.00\n",
      "    box[3]      0.30      0.16      0.28      0.03      0.53    503.62      1.00\n",
      "    box[4]      0.35      0.16      0.33      0.09      0.60    594.23      1.00\n",
      "    box[5]      0.36      0.16      0.35      0.14      0.65    624.51      1.00\n",
      "    box[6]      0.29      0.16      0.27      0.04      0.52    425.16      1.00\n",
      "    box[7]      0.35      0.15      0.33      0.09      0.59    827.09      1.00\n",
      "    box[8]      0.36      0.16      0.34      0.12      0.63    529.58      1.00\n",
      "    box[9]      0.29      0.15      0.27      0.05      0.53    603.77      1.00\n",
      "   coin[0]      0.70      0.19      0.72      0.44      1.00    395.36      1.00\n",
      "   coin[1]      0.69      0.17      0.70      0.45      1.00    667.57      1.00\n",
      "   coin[2]      0.70      0.19      0.71      0.42      1.00    478.88      1.00\n",
      "   coin[3]      0.69      0.18      0.71      0.43      1.00    509.29      1.00\n",
      "   coin[4]      0.54      0.18      0.53      0.24      0.84    899.55      1.00\n",
      "   coin[5]      0.54      0.16      0.54      0.29      0.82   1078.76      1.00\n",
      "   coin[6]      0.70      0.19      0.72      0.43      1.00    587.82      1.01\n",
      "   coin[7]      0.54      0.18      0.54      0.22      0.81   1154.31      1.00\n",
      "   coin[8]      0.54      0.18      0.53      0.24      0.83    960.36      1.00\n",
      "   coin[9]      0.69      0.18      0.70      0.46      1.00    706.07      1.00\n",
      "\n",
      "Number of divergences: 58\n",
      "None\n"
     ]
    },
    {
     "name": "stderr",
     "output_type": "stream",
     "text": [
      "\n"
     ]
    }
   ],
   "source": [
    "pyro.clear_param_store()\n",
    "obs_flips, obs_coins = conditioned_coin_obs(None, None, size=10, dbg=False)\n",
    "pyro.clear_param_store()\n",
    "mcmc, a_mean_errs, b_mean_errs = train(1000, obs_flips, None)"
   ]
  },
  {
   "cell_type": "code",
   "execution_count": null,
   "metadata": {},
   "outputs": [],
   "source": []
  },
  {
   "cell_type": "markdown",
   "metadata": {},
   "source": [
    "Flips and coins"
   ]
  },
  {
   "cell_type": "code",
   "execution_count": 106,
   "metadata": {},
   "outputs": [
    {
     "name": "stderr",
     "output_type": "stream",
     "text": [
      "Sample: 100%|██████████| 1001/1001 [05:29,  3.03it/s, step size=2.50e-01, acc. prob=0.905]"
     ]
    },
    {
     "name": "stdout",
     "output_type": "stream",
     "text": [
      "\n",
      "                mean       std    median      5.0%     95.0%     n_eff     r_hat\n",
      "         a      2.91      1.13      2.84      1.12      4.64    158.76      1.01\n",
      "         b      6.54      1.93      6.66      3.72      9.85    288.06      1.00\n",
      "    box[0]      0.29      0.17      0.26      0.03      0.54    242.16      1.00\n",
      "    box[1]      0.28      0.16      0.26      0.02      0.53    246.29      1.00\n",
      "    box[2]      0.29      0.17      0.27      0.02      0.52    274.52      1.00\n",
      "    box[3]      0.36      0.17      0.34      0.09      0.64    338.68      1.00\n",
      "    box[4]      0.28      0.16      0.25      0.02      0.51    281.52      1.00\n",
      "    box[5]      0.30      0.17      0.26      0.04      0.55    201.05      1.00\n",
      "    box[6]      0.35      0.17      0.34      0.06      0.60    346.09      1.00\n",
      "    box[7]      0.29      0.17      0.27      0.02      0.55    201.10      1.00\n",
      "    box[8]      0.29      0.17      0.26      0.02      0.54    230.71      1.00\n",
      "    box[9]      0.36      0.18      0.34      0.06      0.63    305.21      1.00\n",
      "   coin[0]      0.69      0.19      0.71      0.41      1.00    285.01      1.00\n",
      "   coin[1]      0.71      0.18      0.73      0.46      1.00    375.66      1.00\n",
      "   coin[2]      0.70      0.19      0.72      0.44      1.00    393.48      1.00\n",
      "   coin[3]      0.53      0.18      0.53      0.20      0.79    597.14      1.00\n",
      "   coin[4]      0.71      0.19      0.73      0.46      1.00    304.60      1.00\n",
      "   coin[5]      0.69      0.18      0.70      0.42      1.00    404.35      1.00\n",
      "   coin[6]      0.54      0.18      0.53      0.24      0.83    453.29      1.00\n",
      "   coin[7]      0.69      0.20      0.71      0.42      1.00    221.70      1.00\n",
      "   coin[8]      0.69      0.18      0.70      0.43      1.00    293.20      1.00\n",
      "   coin[9]      0.54      0.18      0.53      0.24      0.83    598.05      1.00\n",
      "\n",
      "Number of divergences: 183\n",
      "None\n"
     ]
    },
    {
     "name": "stderr",
     "output_type": "stream",
     "text": [
      "\n"
     ]
    }
   ],
   "source": [
    "pyro.clear_param_store()\n",
    "obs_flips, obs_coins = conditioned_coin_obs(None, None, size=10, dbg=False)\n",
    "pyro.clear_param_store()\n",
    "mcmc1, a_mean_errs1, b_mean_errs1 = train(1000, obs_flips, obs_coins)"
   ]
  },
  {
   "cell_type": "markdown",
   "metadata": {},
   "source": [
    "Errors:"
   ]
  },
  {
   "cell_type": "code",
   "execution_count": 107,
   "metadata": {},
   "outputs": [
    {
     "data": {
      "image/png": "[encoded data removed]",
      "text/plain": [
       "<matplotlib.figure.Figure at 0x7f0fb1c94ba8>"
      ]
     },
     "metadata": {},
     "output_type": "display_data"
    }
   ],
   "source": [
    "fix, axs = plt.subplots(2, 2)\n",
    "\n",
    "axs.flat[0].plot(a_mean_errs)\n",
    "axs.flat[0].set_title(\"flips only err a\")\n",
    "plt.xlabel(\"steps\")\n",
    "plt.ylabel(\"err\");\n",
    "\n",
    "axs.flat[1].plot(b_mean_errs)\n",
    "axs.flat[1].set_title(\"flips only err b\")\n",
    "plt.xlabel(\"steps\")\n",
    "plt.ylabel(\"err\");\n",
    "\n",
    "axs.flat[2].plot(a_mean_errs1)\n",
    "axs.flat[2].set_title(\"flips and coins err a\")\n",
    "plt.xlabel(\"steps\")\n",
    "plt.ylabel(\"err\");\n",
    "\n",
    "axs.flat[3].plot(b_mean_errs1)\n",
    "axs.flat[3].set_title(\"flips and coins err b\")\n",
    "\n",
    "plt.xlabel(\"steps\")\n",
    "plt.ylabel(\"err\");\n",
    "plt.show()\n"
   ]
  },
  {
   "cell_type": "markdown",
   "metadata": {},
   "source": [
    "Learned params"
   ]
  },
  {
   "cell_type": "code",
   "execution_count": 110,
   "metadata": {},
   "outputs": [
    {
     "name": "stdout",
     "output_type": "stream",
     "text": [
      "flips only mean a, b: (tensor(3.2511), tensor(7.0608))\n",
      "flips and coins mean a, b: (tensor(2.9042), tensor(6.5357))\n"
     ]
    },
    {
     "data": {
      "image/png": "[encoded data removed]",
      "text/plain": [
       "<matplotlib.figure.Figure at 0x7f0fb0965eb8>"
      ]
     },
     "metadata": {},
     "output_type": "display_data"
    }
   ],
   "source": [
    "learned_params = mcmc.get_samples(1000)\n",
    "a, b = torch.mean(learned_params['a']), torch.mean(learned_params[\"b\"])\n",
    "print(\"flips only mean a, b:\", (a, b))\n",
    "fix, axs = plt.subplots(2, 2)\n",
    "\n",
    "axs.flat[0].hist(learned_params['a'])\n",
    "axs.flat[0].set_title(\"flips only a\")\n",
    "axs.flat[1].hist(learned_params['b'])\n",
    "axs.flat[1].set_title(\"flips only b\")\n",
    "\n",
    "learned_params1 = mcmc1.get_samples(1000)\n",
    "a1, b1 = torch.mean(learned_params1['a']), torch.mean(learned_params1[\"b\"])\n",
    "print(\"flips and coins mean a, b:\", (a1, b1))\n",
    "\n",
    "axs.flat[2].hist(learned_params1['a'])\n",
    "axs.flat[2].set_title(\"flips and coins a\")\n",
    "axs.flat[3].hist(learned_params1['b'])\n",
    "axs.flat[3].set_title(\"flips and coins b\")\n",
    "\n",
    "plt.xlabel(\"steps\")\n",
    "plt.ylabel(\"val\");\n",
    "plt.show()\n"
   ]
  },
  {
   "cell_type": "code",
   "execution_count": 35,
   "metadata": {},
   "outputs": [
    {
     "name": "stderr",
     "output_type": "stream",
     "text": [
      "Sample: 100%|██████████| 31/31 [00:04,  7.52it/s, step size=2.50e-01, acc. prob=0.804]\n"
     ]
    },
    {
     "data": {
      "text/plain": [
       "{'a': OrderedDict([('n_eff', tensor(12.4988)), ('r_hat', tensor(1.0629))]),\n",
       " 'acceptance rate': {'chain 0': 0.9},\n",
       " 'b': OrderedDict([('n_eff', tensor(12.4975)), ('r_hat', tensor(1.0061))]),\n",
       " 'box': OrderedDict([('n_eff', tensor([22.2128, 10.5437, 12.3828])),\n",
       "              ('r_hat', tensor([0.9681, 1.0462, 1.0605]))]),\n",
       " 'coin': OrderedDict([('n_eff', tensor([17.8065, 15.7111, 40.1744])),\n",
       "              ('r_hat', tensor([1.0270, 1.0304, 1.0602]))]),\n",
       " 'divergences': {'chain 0': [1,\n",
       "   4,\n",
       "   5,\n",
       "   8,\n",
       "   9,\n",
       "   10,\n",
       "   11,\n",
       "   12,\n",
       "   13,\n",
       "   14,\n",
       "   16,\n",
       "   19,\n",
       "   21,\n",
       "   22,\n",
       "   23,\n",
       "   24,\n",
       "   25,\n",
       "   29]}}"
      ]
     },
     "execution_count": 35,
     "metadata": {},
     "output_type": "execute_result"
    }
   ],
   "source": [
    "mcmc.run(obs_flips, None, size=3, dbg=False)\n",
    "# mcmc.get_samples(3)\n",
    "mcmc.diagnostics()"
   ]
  },
  {
   "cell_type": "code",
   "execution_count": null,
   "metadata": {
    "collapsed": true
   },
   "outputs": [],
   "source": [
    "def train_mcmc(model, obs_flips, obs_coins, num_steps=500, size=3):\n",
    "    # setup the optimizer:\n",
    "    \n",
    "    loss = pyro.infer.Trace_ELBO()\n",
    "    # optimizer.zero_grad()\n",
    "    pyro.clear_param_store()\n",
    "\n",
    "    nuts_kernel = NUTS(model)\n",
    "    mcmc = MCMC(\n",
    "        nuts_kernel,\n",
    "        num_samples=num_samples,\n",
    "        warmup_steps=warmup_steps,\n",
    "        num_chains=num_chains,\n",
    "    )\n",
    "    mcmc.run(model, obs_flips, None, size=size)\n",
    "    mcmc.summary(prob=0.5)\n",
    "    \n",
    "    losses, a,b  = [], [], []\n",
    "    \n",
    "    return losses, a, b\n"
   ]
  },
  {
   "cell_type": "code",
   "execution_count": 40,
   "metadata": {
    "collapsed": true
   },
   "outputs": [],
   "source": [
    "def coin_parametrized_guide1(obs_flips, obs_coins=None, size=None):\n",
    "   \n",
    "    # bug here with interval(0, 1)\n",
    "    aa = pyro.param(\"a\", torch.tensor(0.4),\n",
    "                    constraint=constraints.interval(0, 0.9))\n",
    "    bb = pyro.param(\"b\", torch.tensor(0.6),\n",
    "                    constraint=constraints.interval(0, 0.9))\n",
    "    # print(\"guide a:\", aa)\n",
    "    \n",
    "    '''\n",
    "    alpha_q = pyro.param(\"alpha_q\", torch.tensor(15.0),\n",
    "                         constraint=constraints.positive)\n",
    "    beta_q = pyro.param(\"beta_q\", torch.tensor(15.0),\n",
    "                        constraint=constraints.positive)\n",
    "    '''\n",
    "    # print(\"guide alpha_q:\", alpha_q)\n",
    "    # print(\"guide beta_q:\", beta_q)\n",
    "    \n",
    "    res = pyro.sample(\"coin\", dist.Uniform(aa, bb))\n",
    "    # print(\"guide: coin\", res)\n",
    "    return res\n",
    "    # return pyro.sample(\"coin\", dist.Beta(alpha_q, beta_q))"
   ]
  },
  {
   "cell_type": "code",
   "execution_count": 76,
   "metadata": {},
   "outputs": [
    {
     "data": {
      "text/plain": [
       "tensor([0.2286, 0.1531, 0.1919, 0.1603, 0.3439, 0.2400, 0.1886, 0.1302, 0.2936,\n",
       "        0.2177, 0.2725, 0.1576, 0.1611, 0.2333, 0.3100, 0.3090, 0.1396, 0.1547,\n",
       "        0.3365, 0.1380, 0.1743, 0.3339, 0.1514, 0.3918, 0.1318, 0.2860, 0.2373,\n",
       "        0.2668, 0.3320, 0.1960, 0.3642], grad_fn=<AddBackward0>)"
      ]
     },
     "execution_count": 76,
     "metadata": {},
     "output_type": "execute_result"
    }
   ],
   "source": [
    "coin_parametrized_guide(obs_coin_flips, obs_coins=None, size=31)"
   ]
  },
  {
   "cell_type": "code",
   "execution_count": 77,
   "metadata": {
    "collapsed": true
   },
   "outputs": [],
   "source": [
    "import matplotlib.pyplot as plt\n",
    "# coin_parametrized_guide1(data)"
   ]
  },
  {
   "cell_type": "code",
   "execution_count": null,
   "metadata": {
    "collapsed": true
   },
   "outputs": [],
   "source": []
  },
  {
   "cell_type": "code",
   "execution_count": 78,
   "metadata": {
    "collapsed": true
   },
   "outputs": [],
   "source": [
    "def train(obs_flips, obs_coins=None, size=170, num_steps=500):\n",
    "    guess = 8.5\n",
    "    LEARNING_RATE = 1.0e-7\n",
    "    \n",
    "    # setup the optimizer:\n",
    "    adam_params = {\"lr\": 0.05, \"betas\": (0.9, 0.999)}\n",
    "    optimizer = pyro.optim.Adam(adam_params)\n",
    "\n",
    "    # adam_params = {\"lr\": 0.00000000000005, \"betas\": (0.998, 0.999)}\n",
    "    # optimizer = pyro.optim.Adam(adam_args)\n",
    "\n",
    "    # adam_args = {\"lr\": LEARNING_RATE}\n",
    "    # optimizer = pyro.optim.Adam(adam_args)\n",
    "    # optimizer = pyro.optim.Adam({\"lr\": 0.00000000001, \"betas\": (0.95, 0.999)})\n",
    "    # optimizer=pyro.optim.SGD({\"lr\": 0.01,\n",
    "    #                         \"momentum\":0.9})\n",
    "\n",
    "    # setup the loss:\n",
    "    # loss = pyro.infer.CSIS()\n",
    "    # loss = pyro.infer.TraceEnum_ELBO()\n",
    "    loss = pyro.infer.Trace_ELBO()\n",
    "    # optimizer.zero_grad()\n",
    "    pyro.clear_param_store()\n",
    "\n",
    "\n",
    "    svi = pyro.infer.SVI(model=conditioned_coin_obs,\n",
    "                         guide=coin_parametrized_guide,\n",
    "                         # guide=coin_parametrized_guide,\n",
    "                         optim=optimizer,\n",
    "                         loss=loss)\n",
    "\n",
    "\n",
    "    losses, a,b  = [], [], []\n",
    "    # num_steps = 500  # 2500\n",
    "    for t in range(num_steps):\n",
    "        # import pdb; pdb.set_trace()\n",
    "        losses.append(svi.step(obs_flips, obs_coins, size=size))\n",
    "        # a.append(pyro.param(\"a\").item())\n",
    "        b.append(pyro.param(\"b\").item())\n",
    "        # print(pyro.param(\"a\").grad)\n",
    "    return losses, a, b"
   ]
  },
  {
   "cell_type": "markdown",
   "metadata": {},
   "source": [
    "Preparing data:"
   ]
  },
  {
   "cell_type": "code",
   "execution_count": 94,
   "metadata": {
    "collapsed": true
   },
   "outputs": [],
   "source": [
    "# data = torch.tensor([coin_model0(1) for i in range(10)])\n",
    "# data\n",
    "size = 100\n",
    "num_steps = 100 # 700\n",
    "obs_coins, obs_coin_flips = coin_model0(size=num_steps)\n",
    "# obs_coin_flips\n",
    "# obs_coins"
   ]
  },
  {
   "cell_type": "markdown",
   "metadata": {},
   "source": [
    "Only one lavel obs available "
   ]
  },
  {
   "cell_type": "code",
   "execution_count": 96,
   "metadata": {},
   "outputs": [
    {
     "name": "stdout",
     "output_type": "stream",
     "text": [
      "100\n",
      "b:  0.5310731530189514\n",
      "b =  0.5310731530189514\n"
     ]
    },
    {
     "data": {
      "image/png": "[encoded data removed]",
      "text/plain": [
       "<matplotlib.figure.Figure at 0x7f2983e10588>"
      ]
     },
     "metadata": {},
     "output_type": "display_data"
    },
    {
     "name": "stdout",
     "output_type": "stream",
     "text": [
      "losses: [inf, inf, inf, inf, inf, inf, inf, inf, inf, inf, inf, inf, inf, inf, inf, inf, inf, inf, inf, inf, inf, inf, inf, inf, inf, inf, inf, inf, inf, inf, inf, inf, inf, inf, inf, inf, inf, inf, inf, inf, inf, inf, inf, inf, inf, inf, inf, inf, inf, inf, inf, inf, inf, inf, inf, inf, inf, inf, inf, inf, inf, inf, inf, inf, inf, inf, inf, inf, inf, inf, inf, inf, inf, inf, inf, inf, inf, inf, inf, inf, inf, inf, inf, inf, inf, inf, inf, inf, inf, inf, inf, inf, inf, inf, inf, inf, inf, inf, inf, inf]\n"
     ]
    }
   ],
   "source": [
    "losses0, a0, b0 = train(obs_coin_flips, size=size, num_steps=num_steps) \n",
    "print(len(b0))\n",
    "# is't last Nan?:\n",
    "# print(\"a: \", a0[-1])\n",
    "print(\"b: \", b0[-1])\n",
    "# losses\n",
    "plt.plot(losses0)\n",
    "plt.title(\"ELBO\")\n",
    "plt.xlabel(\"step\")\n",
    "plt.ylabel(\"loss\");\n",
    "print('b = ',pyro.param(\"b\").item())\n",
    "plt.show()\n",
    "print(\"losses:\", losses0)"
   ]
  },
  {
   "cell_type": "code",
   "execution_count": 16,
   "metadata": {},
   "outputs": [
    {
     "name": "stdout",
     "output_type": "stream",
     "text": [
      "0\n",
      "b:  0.7958372235298157\n",
      "b =  0.7958372235298157\n"
     ]
    },
    {
     "data": {
      "image/png": "[encoded data removed]",
      "text/plain": [
       "<matplotlib.figure.Figure at 0x7f298a2fd470>"
      ]
     },
     "metadata": {},
     "output_type": "display_data"
    }
   ],
   "source": [
    "losses1, a1, b1 = train(obs_coin_flips, obs_coins=obs_coins, size=size, num_steps=num_steps) \n",
    "print(len(a1))\n",
    "# is't last Nan?:\n",
    "# print(\"a: \", a1[-1])\n",
    "print(\"b: \", b1[-1])\n",
    "# losses\n",
    "plt.plot(losses1)\n",
    "plt.title(\"ELBO\")\n",
    "plt.xlabel(\"step\")\n",
    "plt.ylabel(\"loss\");\n",
    "print('b = ',pyro.param(\"b\").item())\n",
    "plt.show()"
   ]
  },
  {
   "cell_type": "code",
   "execution_count": 79,
   "metadata": {
    "collapsed": true
   },
   "outputs": [],
   "source": [
    "def model1(obs, n):\n",
    "    # p_a = torch.tensor(0.7)\n",
    "    p_a = torch.tensor([7, 3, 10])\n",
    "    p_b = torch.tensor([0.1, 0.3, 0.6])\n",
    "                     \n",
    "    with pyro.plate(\"plate1\", n):\n",
    "        a = pyro.sample(\"a\", dist.Categorical(p_a))\n",
    "        # a = pyro.sample(\"a\", dist.Binomial(2, p_a))\n",
    "        print(\"a\")\n",
    "        print(a)\n",
    "        idx = Vindex(p_b)[a.type(torch.long)]\n",
    "        d = dist.Bernoulli(idx)\n",
    "        print(\"idx\")\n",
    "        print(idx)\n",
    "        # log_p will still work correctly in this case because it\n",
    "        # use d.log_p, and d has probability p_b[a]\n",
    "        # so p(b=0, a=1) = p(b=0|a=1)*p(a=1) = 0.7*(2*p*(1-p))\n",
    "        # = 0.7*2*0.5*0.5 = 0.7*0.5 = 0.35\n",
    "        b = pyro.sample(\"b\", d)\n",
    "    \n",
    "    # cdist = pdist.\n",
    "    return b\n"
   ]
  },
  {
   "cell_type": "code",
   "execution_count": 80,
   "metadata": {},
   "outputs": [
    {
     "name": "stdout",
     "output_type": "stream",
     "text": [
      "a\n",
      "tensor([2, 1, 0, 0, 2, 0, 2])\n",
      "idx\n",
      "tensor([0.6000, 0.3000, 0.1000, 0.1000, 0.6000, 0.1000, 0.6000])\n"
     ]
    },
    {
     "data": {
      "text/plain": [
       "tensor([0., 1., 0., 0., 0., 0., 1.])"
      ]
     },
     "execution_count": 80,
     "metadata": {},
     "output_type": "execute_result"
    }
   ],
   "source": [
    "model1(None, 7)"
   ]
  },
  {
   "cell_type": "code",
   "execution_count": 14,
   "metadata": {},
   "outputs": [
    {
     "data": {
      "image/png": "[encoded data removed]",
      "text/plain": [
       "<matplotlib.figure.Figure at 0x7f58341e4dd8>"
      ]
     },
     "metadata": {},
     "output_type": "display_data"
    }
   ],
   "source": [
    "plt.subplot(1,2,1)\n",
    "# plt.plot([0,num_steps],[9.14,9.14], 'k:')\n",
    "plt.plot(a)\n",
    "plt.xlabel(\"step\")\n",
    "plt.ylabel('a')\n",
    "\n",
    "plt.subplot(1,2,2)\n",
    "plt.ylabel('b')\n",
    "# plt.plot([0,num_steps],[0.6,0.6], 'k:')\n",
    "plt.plot(b)\n",
    "plt.tight_layout()\n",
    "plt.show()"
   ]
  },
  {
   "cell_type": "code",
   "execution_count": 139,
   "metadata": {},
   "outputs": [
    {
     "data": {
      "text/plain": [
       "tensor(0.7340, grad_fn=<AddBackward0>)"
      ]
     },
     "execution_count": 139,
     "metadata": {},
     "output_type": "execute_result"
    }
   ],
   "source": [
    "p\n"
   ]
  },
  {
   "cell_type": "code",
   "execution_count": 136,
   "metadata": {},
   "outputs": [
    {
     "name": "stdout",
     "output_type": "stream",
     "text": [
      "0.7339773774147034\n",
      "0.7339773774147034\n",
      "0.7339773774147034\n"
     ]
    }
   ],
   "source": [
    "p = pyro.param('a')\n",
    "print(p.item())\n",
    "p.unbind?\n",
    "\n",
    "print(a.item())\n",
    "print(p.item())\n"
   ]
  },
  {
   "cell_type": "markdown",
   "metadata": {},
   "source": [
    "##### Appendix:"
   ]
  },
  {
   "cell_type": "code",
   "execution_count": 17,
   "metadata": {},
   "outputs": [
    {
     "name": "stdout",
     "output_type": "stream",
     "text": [
      "coin\n",
      "ScoreParts(log_prob=tensor(-0.5108, grad_fn=<NegBackward>), score_function=tensor(-0.5108, grad_fn=<NegBackward>), entropy_term=0)\n"
     ]
    }
   ],
   "source": [
    "loss = pyro.infer.Trace_ELBO()\n",
    "model_trace, guide_trace = loss._get_trace(conditioned_coin_obs,\n",
    "                                           coin_parametrized_guide,\n",
    "                                           [data],{})\n",
    "model_trace.nodes.items()\n",
    "for name, site in guide_trace.nodes.items():\n",
    "    if site[\"type\"] == \"sample\":\n",
    "        print(name)\n",
    "        print(site['score_parts'])\n"
   ]
  },
  {
   "cell_type": "code",
   "execution_count": 18,
   "metadata": {
    "collapsed": true
   },
   "outputs": [],
   "source": [
    "import pyro.poutine as poutine"
   ]
  },
  {
   "cell_type": "code",
   "execution_count": 19,
   "metadata": {},
   "outputs": [
    {
     "ename": "ValueError",
     "evalue": "Error while computing log_prob at site 'flip':\nInput arguments must all be instances of numbers.Number or torch.tensor.\nTrace Shapes:     \n Param Sites:     \nSample Sites:     \n    coin dist    |\n        value    |\n     log_prob    |\n    flip dist 10 |\n        value    |",
     "output_type": "error",
     "traceback": [
      "\u001b[0;31m---------------------------------------------------------------------------\u001b[0m",
      "\u001b[0;31mValueError\u001b[0m                                Traceback (most recent call last)",
      "\u001b[0;32m~/anaconda3/envs/math/lib/python3.6/site-packages/pyro/poutine/trace_struct.py\u001b[0m in \u001b[0;36mcompute_log_prob\u001b[0;34m(self, site_filter)\u001b[0m\n\u001b[1;32m    219\u001b[0m \u001b[0;34m\u001b[0m\u001b[0m\n\u001b[0;32m--> 220\u001b[0;31m                         \u001b[0mlog_p\u001b[0m \u001b[0;34m=\u001b[0m \u001b[0msite\u001b[0m\u001b[0;34m[\u001b[0m\u001b[0;34m\"fn\"\u001b[0m\u001b[0;34m]\u001b[0m\u001b[0;34m.\u001b[0m\u001b[0mlog_prob\u001b[0m\u001b[0;34m(\u001b[0m\u001b[0msite\u001b[0m\u001b[0;34m[\u001b[0m\u001b[0;34m\"value\"\u001b[0m\u001b[0;34m]\u001b[0m\u001b[0;34m,\u001b[0m \u001b[0;34m*\u001b[0m\u001b[0msite\u001b[0m\u001b[0;34m[\u001b[0m\u001b[0;34m\"args\"\u001b[0m\u001b[0;34m]\u001b[0m\u001b[0;34m,\u001b[0m \u001b[0;34m**\u001b[0m\u001b[0msite\u001b[0m\u001b[0;34m[\u001b[0m\u001b[0;34m\"kwargs\"\u001b[0m\u001b[0;34m]\u001b[0m\u001b[0;34m)\u001b[0m\u001b[0;34m\u001b[0m\u001b[0m\n\u001b[0m\u001b[1;32m    221\u001b[0m                         \u001b[0;31m# print(\"log_p:\", log_p)\u001b[0m\u001b[0;34m\u001b[0m\u001b[0;34m\u001b[0m\u001b[0m\n",
      "\u001b[0;32m~/anaconda3/envs/math/lib/python3.6/site-packages/torch/distributions/bernoulli.py\u001b[0m in \u001b[0;36mlog_prob\u001b[0;34m(self, value)\u001b[0m\n\u001b[1;32m     93\u001b[0m             \u001b[0mself\u001b[0m\u001b[0;34m.\u001b[0m\u001b[0m_validate_sample\u001b[0m\u001b[0;34m(\u001b[0m\u001b[0mvalue\u001b[0m\u001b[0;34m)\u001b[0m\u001b[0;34m\u001b[0m\u001b[0m\n\u001b[0;32m---> 94\u001b[0;31m         \u001b[0mlogits\u001b[0m\u001b[0;34m,\u001b[0m \u001b[0mvalue\u001b[0m \u001b[0;34m=\u001b[0m \u001b[0mbroadcast_all\u001b[0m\u001b[0;34m(\u001b[0m\u001b[0mself\u001b[0m\u001b[0;34m.\u001b[0m\u001b[0mlogits\u001b[0m\u001b[0;34m,\u001b[0m \u001b[0mvalue\u001b[0m\u001b[0;34m)\u001b[0m\u001b[0;34m\u001b[0m\u001b[0m\n\u001b[0m\u001b[1;32m     95\u001b[0m         \u001b[0;32mreturn\u001b[0m \u001b[0;34m-\u001b[0m\u001b[0mbinary_cross_entropy_with_logits\u001b[0m\u001b[0;34m(\u001b[0m\u001b[0mlogits\u001b[0m\u001b[0;34m,\u001b[0m \u001b[0mvalue\u001b[0m\u001b[0;34m,\u001b[0m \u001b[0mreduction\u001b[0m\u001b[0;34m=\u001b[0m\u001b[0;34m'none'\u001b[0m\u001b[0;34m)\u001b[0m\u001b[0;34m\u001b[0m\u001b[0m\n",
      "\u001b[0;32m~/anaconda3/envs/math/lib/python3.6/site-packages/torch/distributions/utils.py\u001b[0m in \u001b[0;36mbroadcast_all\u001b[0;34m(*values)\u001b[0m\n\u001b[1;32m     23\u001b[0m     \u001b[0;32mif\u001b[0m \u001b[0;32mnot\u001b[0m \u001b[0mall\u001b[0m\u001b[0;34m(\u001b[0m\u001b[0misinstance\u001b[0m\u001b[0;34m(\u001b[0m\u001b[0mv\u001b[0m\u001b[0;34m,\u001b[0m \u001b[0mtorch\u001b[0m\u001b[0;34m.\u001b[0m\u001b[0mTensor\u001b[0m\u001b[0;34m)\u001b[0m \u001b[0;32mor\u001b[0m \u001b[0misinstance\u001b[0m\u001b[0;34m(\u001b[0m\u001b[0mv\u001b[0m\u001b[0;34m,\u001b[0m \u001b[0mNumber\u001b[0m\u001b[0;34m)\u001b[0m \u001b[0;32mfor\u001b[0m \u001b[0mv\u001b[0m \u001b[0;32min\u001b[0m \u001b[0mvalues\u001b[0m\u001b[0;34m)\u001b[0m\u001b[0;34m:\u001b[0m\u001b[0;34m\u001b[0m\u001b[0m\n\u001b[0;32m---> 24\u001b[0;31m         \u001b[0;32mraise\u001b[0m \u001b[0mValueError\u001b[0m\u001b[0;34m(\u001b[0m\u001b[0;34m'Input arguments must all be instances of numbers.Number or torch.tensor.'\u001b[0m\u001b[0;34m)\u001b[0m\u001b[0;34m\u001b[0m\u001b[0m\n\u001b[0m\u001b[1;32m     25\u001b[0m     \u001b[0;32mif\u001b[0m \u001b[0;32mnot\u001b[0m \u001b[0mall\u001b[0m\u001b[0;34m(\u001b[0m\u001b[0;34m[\u001b[0m\u001b[0misinstance\u001b[0m\u001b[0;34m(\u001b[0m\u001b[0mv\u001b[0m\u001b[0;34m,\u001b[0m \u001b[0mtorch\u001b[0m\u001b[0;34m.\u001b[0m\u001b[0mTensor\u001b[0m\u001b[0;34m)\u001b[0m \u001b[0;32mfor\u001b[0m \u001b[0mv\u001b[0m \u001b[0;32min\u001b[0m \u001b[0mvalues\u001b[0m\u001b[0;34m]\u001b[0m\u001b[0;34m)\u001b[0m\u001b[0;34m:\u001b[0m\u001b[0;34m\u001b[0m\u001b[0m\n",
      "\u001b[0;31mValueError\u001b[0m: Input arguments must all be instances of numbers.Number or torch.tensor.",
      "\nDuring handling of the above exception, another exception occurred:\n",
      "\u001b[0;31mValueError\u001b[0m                                Traceback (most recent call last)",
      "\u001b[0;32m<ipython-input-19-01a02fbd8861>\u001b[0m in \u001b[0;36m<module>\u001b[0;34m()\u001b[0m\n\u001b[1;32m      1\u001b[0m \u001b[0;32mwith\u001b[0m \u001b[0mpoutine\u001b[0m\u001b[0;34m.\u001b[0m\u001b[0mtrace\u001b[0m\u001b[0;34m(\u001b[0m\u001b[0mparam_only\u001b[0m\u001b[0;34m=\u001b[0m\u001b[0;32mTrue\u001b[0m\u001b[0;34m)\u001b[0m \u001b[0;32mas\u001b[0m \u001b[0mparam_capture\u001b[0m\u001b[0;34m:\u001b[0m\u001b[0;34m\u001b[0m\u001b[0m\n\u001b[1;32m      2\u001b[0m \u001b[0;34m\u001b[0m\u001b[0m\n\u001b[0;32m----> 3\u001b[0;31m     \u001b[0mloss\u001b[0m\u001b[0;34m.\u001b[0m\u001b[0mloss_and_grads\u001b[0m\u001b[0;34m(\u001b[0m\u001b[0mconditioned_coin_obs\u001b[0m\u001b[0;34m,\u001b[0m \u001b[0mcoin_parametrized_guide\u001b[0m\u001b[0;34m,\u001b[0m\u001b[0;34m[\u001b[0m\u001b[0mdata\u001b[0m\u001b[0;34m]\u001b[0m\u001b[0;34m)\u001b[0m\u001b[0;34m\u001b[0m\u001b[0m\n\u001b[0m\u001b[1;32m      4\u001b[0m params = set(site[\"value\"].unconstrained()\n\u001b[1;32m      5\u001b[0m              for site in param_capture.trace.nodes.values())\n",
      "\u001b[0;32m~/anaconda3/envs/math/lib/python3.6/site-packages/pyro/infer/trace_elbo.py\u001b[0m in \u001b[0;36mloss_and_grads\u001b[0;34m(self, model, guide, *args, **kwargs)\u001b[0m\n\u001b[1;32m    124\u001b[0m         \u001b[0mloss\u001b[0m \u001b[0;34m=\u001b[0m \u001b[0;36m0.0\u001b[0m\u001b[0;34m\u001b[0m\u001b[0m\n\u001b[1;32m    125\u001b[0m         \u001b[0;31m# grab a trace from the generator\u001b[0m\u001b[0;34m\u001b[0m\u001b[0;34m\u001b[0m\u001b[0m\n\u001b[0;32m--> 126\u001b[0;31m         \u001b[0;32mfor\u001b[0m \u001b[0mmodel_trace\u001b[0m\u001b[0;34m,\u001b[0m \u001b[0mguide_trace\u001b[0m \u001b[0;32min\u001b[0m \u001b[0mself\u001b[0m\u001b[0;34m.\u001b[0m\u001b[0m_get_traces\u001b[0m\u001b[0;34m(\u001b[0m\u001b[0mmodel\u001b[0m\u001b[0;34m,\u001b[0m \u001b[0mguide\u001b[0m\u001b[0;34m,\u001b[0m \u001b[0margs\u001b[0m\u001b[0;34m,\u001b[0m \u001b[0mkwargs\u001b[0m\u001b[0;34m)\u001b[0m\u001b[0;34m:\u001b[0m\u001b[0;34m\u001b[0m\u001b[0m\n\u001b[0m\u001b[1;32m    127\u001b[0m             \u001b[0mloss_particle\u001b[0m\u001b[0;34m,\u001b[0m \u001b[0msurrogate_loss_particle\u001b[0m \u001b[0;34m=\u001b[0m \u001b[0mself\u001b[0m\u001b[0;34m.\u001b[0m\u001b[0m_differentiable_loss_particle\u001b[0m\u001b[0;34m(\u001b[0m\u001b[0mmodel_trace\u001b[0m\u001b[0;34m,\u001b[0m \u001b[0mguide_trace\u001b[0m\u001b[0;34m)\u001b[0m\u001b[0;34m\u001b[0m\u001b[0m\n\u001b[1;32m    128\u001b[0m             \u001b[0mloss\u001b[0m \u001b[0;34m+=\u001b[0m \u001b[0mloss_particle\u001b[0m \u001b[0;34m/\u001b[0m \u001b[0mself\u001b[0m\u001b[0;34m.\u001b[0m\u001b[0mnum_particles\u001b[0m\u001b[0;34m\u001b[0m\u001b[0m\n",
      "\u001b[0;32m~/anaconda3/envs/math/lib/python3.6/site-packages/pyro/infer/elbo.py\u001b[0m in \u001b[0;36m_get_traces\u001b[0;34m(self, model, guide, args, kwargs)\u001b[0m\n\u001b[1;32m    168\u001b[0m         \u001b[0;32melse\u001b[0m\u001b[0;34m:\u001b[0m\u001b[0;34m\u001b[0m\u001b[0m\n\u001b[1;32m    169\u001b[0m             \u001b[0;32mfor\u001b[0m \u001b[0mi\u001b[0m \u001b[0;32min\u001b[0m \u001b[0mrange\u001b[0m\u001b[0;34m(\u001b[0m\u001b[0mself\u001b[0m\u001b[0;34m.\u001b[0m\u001b[0mnum_particles\u001b[0m\u001b[0;34m)\u001b[0m\u001b[0;34m:\u001b[0m\u001b[0;34m\u001b[0m\u001b[0m\n\u001b[0;32m--> 170\u001b[0;31m                 \u001b[0;32myield\u001b[0m \u001b[0mself\u001b[0m\u001b[0;34m.\u001b[0m\u001b[0m_get_trace\u001b[0m\u001b[0;34m(\u001b[0m\u001b[0mmodel\u001b[0m\u001b[0;34m,\u001b[0m \u001b[0mguide\u001b[0m\u001b[0;34m,\u001b[0m \u001b[0margs\u001b[0m\u001b[0;34m,\u001b[0m \u001b[0mkwargs\u001b[0m\u001b[0;34m)\u001b[0m\u001b[0;34m\u001b[0m\u001b[0m\n\u001b[0m",
      "\u001b[0;32m~/anaconda3/envs/math/lib/python3.6/site-packages/pyro/infer/trace_elbo.py\u001b[0m in \u001b[0;36m_get_trace\u001b[0;34m(self, model, guide, args, kwargs)\u001b[0m\n\u001b[1;32m     51\u001b[0m         \"\"\"\n\u001b[1;32m     52\u001b[0m         model_trace, guide_trace = get_importance_trace(\n\u001b[0;32m---> 53\u001b[0;31m             \"flat\", self.max_plate_nesting, model, guide, args, kwargs)\n\u001b[0m\u001b[1;32m     54\u001b[0m         \u001b[0;32mif\u001b[0m \u001b[0mis_validation_enabled\u001b[0m\u001b[0;34m(\u001b[0m\u001b[0;34m)\u001b[0m\u001b[0;34m:\u001b[0m\u001b[0;34m\u001b[0m\u001b[0m\n\u001b[1;32m     55\u001b[0m             \u001b[0mcheck_if_enumerated\u001b[0m\u001b[0;34m(\u001b[0m\u001b[0mguide_trace\u001b[0m\u001b[0;34m)\u001b[0m\u001b[0;34m\u001b[0m\u001b[0m\n",
      "\u001b[0;32m~/anaconda3/envs/math/lib/python3.6/site-packages/pyro/infer/enum.py\u001b[0m in \u001b[0;36mget_importance_trace\u001b[0;34m(graph_type, max_plate_nesting, model, guide, args, kwargs, detach)\u001b[0m\n\u001b[1;32m     53\u001b[0m     \u001b[0mmodel_trace\u001b[0m \u001b[0;34m=\u001b[0m \u001b[0mprune_subsample_sites\u001b[0m\u001b[0;34m(\u001b[0m\u001b[0mmodel_trace\u001b[0m\u001b[0;34m)\u001b[0m\u001b[0;34m\u001b[0m\u001b[0m\n\u001b[1;32m     54\u001b[0m     \u001b[0;31m# import pdb; pdb.set_trace()\u001b[0m\u001b[0;34m\u001b[0m\u001b[0;34m\u001b[0m\u001b[0m\n\u001b[0;32m---> 55\u001b[0;31m     \u001b[0mmodel_trace\u001b[0m\u001b[0;34m.\u001b[0m\u001b[0mcompute_log_prob\u001b[0m\u001b[0;34m(\u001b[0m\u001b[0;34m)\u001b[0m\u001b[0;34m\u001b[0m\u001b[0m\n\u001b[0m\u001b[1;32m     56\u001b[0m     \u001b[0mguide_trace\u001b[0m\u001b[0;34m.\u001b[0m\u001b[0mcompute_score_parts\u001b[0m\u001b[0;34m(\u001b[0m\u001b[0;34m)\u001b[0m\u001b[0;34m\u001b[0m\u001b[0m\n\u001b[1;32m     57\u001b[0m     \u001b[0;32mif\u001b[0m \u001b[0mis_validation_enabled\u001b[0m\u001b[0;34m(\u001b[0m\u001b[0;34m)\u001b[0m\u001b[0;34m:\u001b[0m\u001b[0;34m\u001b[0m\u001b[0m\n",
      "\u001b[0;32m~/anaconda3/envs/math/lib/python3.6/site-packages/pyro/poutine/trace_struct.py\u001b[0m in \u001b[0;36mcompute_log_prob\u001b[0;34m(self, site_filter)\u001b[0m\n\u001b[1;32m    224\u001b[0m                         \u001b[0mshapes\u001b[0m \u001b[0;34m=\u001b[0m \u001b[0mself\u001b[0m\u001b[0;34m.\u001b[0m\u001b[0mformat_shapes\u001b[0m\u001b[0;34m(\u001b[0m\u001b[0mlast_site\u001b[0m\u001b[0;34m=\u001b[0m\u001b[0msite\u001b[0m\u001b[0;34m[\u001b[0m\u001b[0;34m\"name\"\u001b[0m\u001b[0;34m]\u001b[0m\u001b[0;34m)\u001b[0m\u001b[0;34m\u001b[0m\u001b[0m\n\u001b[1;32m    225\u001b[0m                         raise ValueError(\"Error while computing log_prob at site '{}':\\n{}\\n{}\"\n\u001b[0;32m--> 226\u001b[0;31m                                          .format(name, exc_value, shapes)).with_traceback(traceback)\n\u001b[0m\u001b[1;32m    227\u001b[0m                     \u001b[0msite\u001b[0m\u001b[0;34m[\u001b[0m\u001b[0;34m\"unscaled_log_prob\"\u001b[0m\u001b[0;34m]\u001b[0m \u001b[0;34m=\u001b[0m \u001b[0mlog_p\u001b[0m\u001b[0;34m\u001b[0m\u001b[0m\n\u001b[1;32m    228\u001b[0m                     \u001b[0mlog_p\u001b[0m \u001b[0;34m=\u001b[0m \u001b[0mscale_and_mask\u001b[0m\u001b[0;34m(\u001b[0m\u001b[0mlog_p\u001b[0m\u001b[0;34m,\u001b[0m \u001b[0msite\u001b[0m\u001b[0;34m[\u001b[0m\u001b[0;34m\"scale\"\u001b[0m\u001b[0;34m]\u001b[0m\u001b[0;34m,\u001b[0m \u001b[0msite\u001b[0m\u001b[0;34m[\u001b[0m\u001b[0;34m\"mask\"\u001b[0m\u001b[0;34m]\u001b[0m\u001b[0;34m)\u001b[0m\u001b[0;34m\u001b[0m\u001b[0m\n",
      "\u001b[0;32m~/anaconda3/envs/math/lib/python3.6/site-packages/pyro/poutine/trace_struct.py\u001b[0m in \u001b[0;36mcompute_log_prob\u001b[0;34m(self, site_filter)\u001b[0m\n\u001b[1;32m    218\u001b[0m                         \u001b[0;31m# print(\"site['value']: \", site[\"value\"])\u001b[0m\u001b[0;34m\u001b[0m\u001b[0;34m\u001b[0m\u001b[0m\n\u001b[1;32m    219\u001b[0m \u001b[0;34m\u001b[0m\u001b[0m\n\u001b[0;32m--> 220\u001b[0;31m                         \u001b[0mlog_p\u001b[0m \u001b[0;34m=\u001b[0m \u001b[0msite\u001b[0m\u001b[0;34m[\u001b[0m\u001b[0;34m\"fn\"\u001b[0m\u001b[0;34m]\u001b[0m\u001b[0;34m.\u001b[0m\u001b[0mlog_prob\u001b[0m\u001b[0;34m(\u001b[0m\u001b[0msite\u001b[0m\u001b[0;34m[\u001b[0m\u001b[0;34m\"value\"\u001b[0m\u001b[0;34m]\u001b[0m\u001b[0;34m,\u001b[0m \u001b[0;34m*\u001b[0m\u001b[0msite\u001b[0m\u001b[0;34m[\u001b[0m\u001b[0;34m\"args\"\u001b[0m\u001b[0;34m]\u001b[0m\u001b[0;34m,\u001b[0m \u001b[0;34m**\u001b[0m\u001b[0msite\u001b[0m\u001b[0;34m[\u001b[0m\u001b[0;34m\"kwargs\"\u001b[0m\u001b[0;34m]\u001b[0m\u001b[0;34m)\u001b[0m\u001b[0;34m\u001b[0m\u001b[0m\n\u001b[0m\u001b[1;32m    221\u001b[0m                         \u001b[0;31m# print(\"log_p:\", log_p)\u001b[0m\u001b[0;34m\u001b[0m\u001b[0;34m\u001b[0m\u001b[0m\n\u001b[1;32m    222\u001b[0m                     \u001b[0;32mexcept\u001b[0m \u001b[0mValueError\u001b[0m\u001b[0;34m:\u001b[0m\u001b[0;34m\u001b[0m\u001b[0m\n",
      "\u001b[0;32m~/anaconda3/envs/math/lib/python3.6/site-packages/torch/distributions/bernoulli.py\u001b[0m in \u001b[0;36mlog_prob\u001b[0;34m(self, value)\u001b[0m\n\u001b[1;32m     92\u001b[0m         \u001b[0;32mif\u001b[0m \u001b[0mself\u001b[0m\u001b[0;34m.\u001b[0m\u001b[0m_validate_args\u001b[0m\u001b[0;34m:\u001b[0m\u001b[0;34m\u001b[0m\u001b[0m\n\u001b[1;32m     93\u001b[0m             \u001b[0mself\u001b[0m\u001b[0;34m.\u001b[0m\u001b[0m_validate_sample\u001b[0m\u001b[0;34m(\u001b[0m\u001b[0mvalue\u001b[0m\u001b[0;34m)\u001b[0m\u001b[0;34m\u001b[0m\u001b[0m\n\u001b[0;32m---> 94\u001b[0;31m         \u001b[0mlogits\u001b[0m\u001b[0;34m,\u001b[0m \u001b[0mvalue\u001b[0m \u001b[0;34m=\u001b[0m \u001b[0mbroadcast_all\u001b[0m\u001b[0;34m(\u001b[0m\u001b[0mself\u001b[0m\u001b[0;34m.\u001b[0m\u001b[0mlogits\u001b[0m\u001b[0;34m,\u001b[0m \u001b[0mvalue\u001b[0m\u001b[0;34m)\u001b[0m\u001b[0;34m\u001b[0m\u001b[0m\n\u001b[0m\u001b[1;32m     95\u001b[0m         \u001b[0;32mreturn\u001b[0m \u001b[0;34m-\u001b[0m\u001b[0mbinary_cross_entropy_with_logits\u001b[0m\u001b[0;34m(\u001b[0m\u001b[0mlogits\u001b[0m\u001b[0;34m,\u001b[0m \u001b[0mvalue\u001b[0m\u001b[0;34m,\u001b[0m \u001b[0mreduction\u001b[0m\u001b[0;34m=\u001b[0m\u001b[0;34m'none'\u001b[0m\u001b[0;34m)\u001b[0m\u001b[0;34m\u001b[0m\u001b[0m\n\u001b[1;32m     96\u001b[0m \u001b[0;34m\u001b[0m\u001b[0m\n",
      "\u001b[0;32m~/anaconda3/envs/math/lib/python3.6/site-packages/torch/distributions/utils.py\u001b[0m in \u001b[0;36mbroadcast_all\u001b[0;34m(*values)\u001b[0m\n\u001b[1;32m     22\u001b[0m     \"\"\"\n\u001b[1;32m     23\u001b[0m     \u001b[0;32mif\u001b[0m \u001b[0;32mnot\u001b[0m \u001b[0mall\u001b[0m\u001b[0;34m(\u001b[0m\u001b[0misinstance\u001b[0m\u001b[0;34m(\u001b[0m\u001b[0mv\u001b[0m\u001b[0;34m,\u001b[0m \u001b[0mtorch\u001b[0m\u001b[0;34m.\u001b[0m\u001b[0mTensor\u001b[0m\u001b[0;34m)\u001b[0m \u001b[0;32mor\u001b[0m \u001b[0misinstance\u001b[0m\u001b[0;34m(\u001b[0m\u001b[0mv\u001b[0m\u001b[0;34m,\u001b[0m \u001b[0mNumber\u001b[0m\u001b[0;34m)\u001b[0m \u001b[0;32mfor\u001b[0m \u001b[0mv\u001b[0m \u001b[0;32min\u001b[0m \u001b[0mvalues\u001b[0m\u001b[0;34m)\u001b[0m\u001b[0;34m:\u001b[0m\u001b[0;34m\u001b[0m\u001b[0m\n\u001b[0;32m---> 24\u001b[0;31m         \u001b[0;32mraise\u001b[0m \u001b[0mValueError\u001b[0m\u001b[0;34m(\u001b[0m\u001b[0;34m'Input arguments must all be instances of numbers.Number or torch.tensor.'\u001b[0m\u001b[0;34m)\u001b[0m\u001b[0;34m\u001b[0m\u001b[0m\n\u001b[0m\u001b[1;32m     25\u001b[0m     \u001b[0;32mif\u001b[0m \u001b[0;32mnot\u001b[0m \u001b[0mall\u001b[0m\u001b[0;34m(\u001b[0m\u001b[0;34m[\u001b[0m\u001b[0misinstance\u001b[0m\u001b[0;34m(\u001b[0m\u001b[0mv\u001b[0m\u001b[0;34m,\u001b[0m \u001b[0mtorch\u001b[0m\u001b[0;34m.\u001b[0m\u001b[0mTensor\u001b[0m\u001b[0;34m)\u001b[0m \u001b[0;32mfor\u001b[0m \u001b[0mv\u001b[0m \u001b[0;32min\u001b[0m \u001b[0mvalues\u001b[0m\u001b[0;34m]\u001b[0m\u001b[0;34m)\u001b[0m\u001b[0;34m:\u001b[0m\u001b[0;34m\u001b[0m\u001b[0m\n\u001b[1;32m     26\u001b[0m         \u001b[0moptions\u001b[0m \u001b[0;34m=\u001b[0m \u001b[0mdict\u001b[0m\u001b[0;34m(\u001b[0m\u001b[0mdtype\u001b[0m\u001b[0;34m=\u001b[0m\u001b[0mtorch\u001b[0m\u001b[0;34m.\u001b[0m\u001b[0mget_default_dtype\u001b[0m\u001b[0;34m(\u001b[0m\u001b[0;34m)\u001b[0m\u001b[0;34m)\u001b[0m\u001b[0;34m\u001b[0m\u001b[0m\n",
      "\u001b[0;31mValueError\u001b[0m: Error while computing log_prob at site 'flip':\nInput arguments must all be instances of numbers.Number or torch.tensor.\nTrace Shapes:     \n Param Sites:     \nSample Sites:     \n    coin dist    |\n        value    |\n     log_prob    |\n    flip dist 10 |\n        value    |"
     ]
    }
   ],
   "source": [
    "# strange behaviour of values (bug?):\n",
    "with poutine.trace(param_only=True) as param_capture:\n",
    "    \n",
    "    loss.loss_and_grads(conditioned_coin_obs, coin_parametrized_guide,[data])\n",
    "params = set(site[\"value\"].unconstrained()\n",
    "             for site in param_capture.trace.nodes.values())\n",
    "\n",
    "params"
   ]
  },
  {
   "cell_type": "code",
   "execution_count": 21,
   "metadata": {},
   "outputs": [
    {
     "ename": "ValueError",
     "evalue": "can't optimize a non-leaf Tensor",
     "output_type": "error",
     "traceback": [
      "\u001b[0;31m---------------------------------------------------------------------------\u001b[0m",
      "\u001b[0;31mValueError\u001b[0m                                Traceback (most recent call last)",
      "\u001b[0;32m<ipython-input-21-81afbc22604e>\u001b[0m in \u001b[0;36m<module>\u001b[0;34m()\u001b[0m\n\u001b[1;32m      2\u001b[0m \u001b[0madam_params\u001b[0m \u001b[0;34m=\u001b[0m \u001b[0;34m{\u001b[0m\u001b[0;34m\"lr\"\u001b[0m\u001b[0;34m:\u001b[0m \u001b[0;36m0.0005\u001b[0m\u001b[0;34m,\u001b[0m \u001b[0;34m\"betas\"\u001b[0m\u001b[0;34m:\u001b[0m \u001b[0;34m(\u001b[0m\u001b[0;36m0.9\u001b[0m\u001b[0;34m,\u001b[0m \u001b[0;36m0.999\u001b[0m\u001b[0;34m)\u001b[0m\u001b[0;34m}\u001b[0m\u001b[0;34m\u001b[0m\u001b[0m\n\u001b[1;32m      3\u001b[0m \u001b[0moptimizer\u001b[0m \u001b[0;34m=\u001b[0m \u001b[0mpyro\u001b[0m\u001b[0;34m.\u001b[0m\u001b[0moptim\u001b[0m\u001b[0;34m.\u001b[0m\u001b[0mAdam\u001b[0m\u001b[0;34m(\u001b[0m\u001b[0madam_params\u001b[0m\u001b[0;34m)\u001b[0m\u001b[0;34m\u001b[0m\u001b[0m\n\u001b[0;32m----> 4\u001b[0;31m \u001b[0moptimizer\u001b[0m\u001b[0;34m(\u001b[0m\u001b[0;34m[\u001b[0m\u001b[0mpyro\u001b[0m\u001b[0;34m.\u001b[0m\u001b[0mparam\u001b[0m\u001b[0;34m(\u001b[0m\u001b[0;34m'a'\u001b[0m\u001b[0;34m)\u001b[0m\u001b[0;34m]\u001b[0m\u001b[0;34m)\u001b[0m\u001b[0;34m\u001b[0m\u001b[0m\n\u001b[0m",
      "\u001b[0;32m~/anaconda3/envs/math/lib/python3.6/site-packages/pyro/optim/optim.py\u001b[0m in \u001b[0;36m__call__\u001b[0;34m(self, params, *args, **kwargs)\u001b[0m\n\u001b[1;32m     59\u001b[0m             \u001b[0;32mif\u001b[0m \u001b[0mp\u001b[0m \u001b[0;32mnot\u001b[0m \u001b[0;32min\u001b[0m \u001b[0mself\u001b[0m\u001b[0;34m.\u001b[0m\u001b[0moptim_objs\u001b[0m\u001b[0;34m:\u001b[0m\u001b[0;34m\u001b[0m\u001b[0m\n\u001b[1;32m     60\u001b[0m                 \u001b[0;31m# create a single optim object for that param\u001b[0m\u001b[0;34m\u001b[0m\u001b[0;34m\u001b[0m\u001b[0m\n\u001b[0;32m---> 61\u001b[0;31m                 \u001b[0mself\u001b[0m\u001b[0;34m.\u001b[0m\u001b[0moptim_objs\u001b[0m\u001b[0;34m[\u001b[0m\u001b[0mp\u001b[0m\u001b[0;34m]\u001b[0m \u001b[0;34m=\u001b[0m \u001b[0mself\u001b[0m\u001b[0;34m.\u001b[0m\u001b[0m_get_optim\u001b[0m\u001b[0;34m(\u001b[0m\u001b[0mp\u001b[0m\u001b[0;34m)\u001b[0m\u001b[0;34m\u001b[0m\u001b[0m\n\u001b[0m\u001b[1;32m     62\u001b[0m                 \u001b[0;31m# create a gradient clipping function if specified\u001b[0m\u001b[0;34m\u001b[0m\u001b[0;34m\u001b[0m\u001b[0m\n\u001b[1;32m     63\u001b[0m                 \u001b[0mself\u001b[0m\u001b[0;34m.\u001b[0m\u001b[0mgrad_clip\u001b[0m\u001b[0;34m[\u001b[0m\u001b[0mp\u001b[0m\u001b[0;34m]\u001b[0m \u001b[0;34m=\u001b[0m \u001b[0mself\u001b[0m\u001b[0;34m.\u001b[0m\u001b[0m_get_grad_clip\u001b[0m\u001b[0;34m(\u001b[0m\u001b[0mp\u001b[0m\u001b[0;34m)\u001b[0m\u001b[0;34m\u001b[0m\u001b[0m\n",
      "\u001b[0;32m~/anaconda3/envs/math/lib/python3.6/site-packages/pyro/optim/optim.py\u001b[0m in \u001b[0;36m_get_optim\u001b[0;34m(self, param)\u001b[0m\n\u001b[1;32m    118\u001b[0m \u001b[0;34m\u001b[0m\u001b[0m\n\u001b[1;32m    119\u001b[0m     \u001b[0;32mdef\u001b[0m \u001b[0m_get_optim\u001b[0m\u001b[0;34m(\u001b[0m\u001b[0mself\u001b[0m\u001b[0;34m,\u001b[0m \u001b[0mparam\u001b[0m\u001b[0;34m)\u001b[0m\u001b[0;34m:\u001b[0m\u001b[0;34m\u001b[0m\u001b[0m\n\u001b[0;32m--> 120\u001b[0;31m         \u001b[0;32mreturn\u001b[0m \u001b[0mself\u001b[0m\u001b[0;34m.\u001b[0m\u001b[0mpt_optim_constructor\u001b[0m\u001b[0;34m(\u001b[0m\u001b[0;34m[\u001b[0m\u001b[0mparam\u001b[0m\u001b[0;34m]\u001b[0m\u001b[0;34m,\u001b[0m \u001b[0;34m**\u001b[0m\u001b[0mself\u001b[0m\u001b[0;34m.\u001b[0m\u001b[0m_get_optim_args\u001b[0m\u001b[0;34m(\u001b[0m\u001b[0mparam\u001b[0m\u001b[0;34m)\u001b[0m\u001b[0;34m)\u001b[0m\u001b[0;34m\u001b[0m\u001b[0m\n\u001b[0m\u001b[1;32m    121\u001b[0m \u001b[0;34m\u001b[0m\u001b[0m\n\u001b[1;32m    122\u001b[0m     \u001b[0;31m# helper to fetch the optim args if callable (only used internally)\u001b[0m\u001b[0;34m\u001b[0m\u001b[0;34m\u001b[0m\u001b[0m\n",
      "\u001b[0;32m~/anaconda3/envs/math/lib/python3.6/site-packages/torch/optim/adam.py\u001b[0m in \u001b[0;36m__init__\u001b[0;34m(self, params, lr, betas, eps, weight_decay, amsgrad)\u001b[0m\n\u001b[1;32m     42\u001b[0m         defaults = dict(lr=lr, betas=betas, eps=eps,\n\u001b[1;32m     43\u001b[0m                         weight_decay=weight_decay, amsgrad=amsgrad)\n\u001b[0;32m---> 44\u001b[0;31m         \u001b[0msuper\u001b[0m\u001b[0;34m(\u001b[0m\u001b[0mAdam\u001b[0m\u001b[0;34m,\u001b[0m \u001b[0mself\u001b[0m\u001b[0;34m)\u001b[0m\u001b[0;34m.\u001b[0m\u001b[0m__init__\u001b[0m\u001b[0;34m(\u001b[0m\u001b[0mparams\u001b[0m\u001b[0;34m,\u001b[0m \u001b[0mdefaults\u001b[0m\u001b[0;34m)\u001b[0m\u001b[0;34m\u001b[0m\u001b[0m\n\u001b[0m\u001b[1;32m     45\u001b[0m \u001b[0;34m\u001b[0m\u001b[0m\n\u001b[1;32m     46\u001b[0m     \u001b[0;32mdef\u001b[0m \u001b[0m__setstate__\u001b[0m\u001b[0;34m(\u001b[0m\u001b[0mself\u001b[0m\u001b[0;34m,\u001b[0m \u001b[0mstate\u001b[0m\u001b[0;34m)\u001b[0m\u001b[0;34m:\u001b[0m\u001b[0;34m\u001b[0m\u001b[0m\n",
      "\u001b[0;32m~/anaconda3/envs/math/lib/python3.6/site-packages/torch/optim/optimizer.py\u001b[0m in \u001b[0;36m__init__\u001b[0;34m(self, params, defaults)\u001b[0m\n\u001b[1;32m     49\u001b[0m \u001b[0;34m\u001b[0m\u001b[0m\n\u001b[1;32m     50\u001b[0m         \u001b[0;32mfor\u001b[0m \u001b[0mparam_group\u001b[0m \u001b[0;32min\u001b[0m \u001b[0mparam_groups\u001b[0m\u001b[0;34m:\u001b[0m\u001b[0;34m\u001b[0m\u001b[0m\n\u001b[0;32m---> 51\u001b[0;31m             \u001b[0mself\u001b[0m\u001b[0;34m.\u001b[0m\u001b[0madd_param_group\u001b[0m\u001b[0;34m(\u001b[0m\u001b[0mparam_group\u001b[0m\u001b[0;34m)\u001b[0m\u001b[0;34m\u001b[0m\u001b[0m\n\u001b[0m\u001b[1;32m     52\u001b[0m \u001b[0;34m\u001b[0m\u001b[0m\n\u001b[1;32m     53\u001b[0m     \u001b[0;32mdef\u001b[0m \u001b[0m__getstate__\u001b[0m\u001b[0;34m(\u001b[0m\u001b[0mself\u001b[0m\u001b[0;34m)\u001b[0m\u001b[0;34m:\u001b[0m\u001b[0;34m\u001b[0m\u001b[0m\n",
      "\u001b[0;32m~/anaconda3/envs/math/lib/python3.6/site-packages/torch/optim/optimizer.py\u001b[0m in \u001b[0;36madd_param_group\u001b[0;34m(self, param_group)\u001b[0m\n\u001b[1;32m    211\u001b[0m                                 \"but one of the params is \" + torch.typename(param))\n\u001b[1;32m    212\u001b[0m             \u001b[0;32mif\u001b[0m \u001b[0;32mnot\u001b[0m \u001b[0mparam\u001b[0m\u001b[0;34m.\u001b[0m\u001b[0mis_leaf\u001b[0m\u001b[0;34m:\u001b[0m\u001b[0;34m\u001b[0m\u001b[0m\n\u001b[0;32m--> 213\u001b[0;31m                 \u001b[0;32mraise\u001b[0m \u001b[0mValueError\u001b[0m\u001b[0;34m(\u001b[0m\u001b[0;34m\"can't optimize a non-leaf Tensor\"\u001b[0m\u001b[0;34m)\u001b[0m\u001b[0;34m\u001b[0m\u001b[0m\n\u001b[0m\u001b[1;32m    214\u001b[0m \u001b[0;34m\u001b[0m\u001b[0m\n\u001b[1;32m    215\u001b[0m         \u001b[0;32mfor\u001b[0m \u001b[0mname\u001b[0m\u001b[0;34m,\u001b[0m \u001b[0mdefault\u001b[0m \u001b[0;32min\u001b[0m \u001b[0mself\u001b[0m\u001b[0;34m.\u001b[0m\u001b[0mdefaults\u001b[0m\u001b[0;34m.\u001b[0m\u001b[0mitems\u001b[0m\u001b[0;34m(\u001b[0m\u001b[0;34m)\u001b[0m\u001b[0;34m:\u001b[0m\u001b[0;34m\u001b[0m\u001b[0m\n",
      "\u001b[0;31mValueError\u001b[0m: can't optimize a non-leaf Tensor"
     ]
    }
   ],
   "source": [
    "# leaf tensor?:\n",
    "adam_params = {\"lr\": 0.0005, \"betas\": (0.9, 0.999)}\n",
    "optimizer = pyro.optim.Adam(adam_params)\n",
    "optimizer([pyro.param('a')])"
   ]
  },
  {
   "cell_type": "code",
   "execution_count": null,
   "metadata": {
    "collapsed": true
   },
   "outputs": [],
   "source": []
  }
 ],
 "metadata": {
  "kernelspec": {
   "display_name": "Python [conda env:math]",
   "language": "python",
   "name": "conda-env-math-py"
  },
  "language_info": {
   "codemirror_mode": {
    "name": "ipython",
    "version": 3
   },
   "file_extension": ".py",
   "mimetype": "text/x-python",
   "name": "python",
   "nbconvert_exporter": "python",
   "pygments_lexer": "ipython3",
   "version": "3.6.2"
  }
 },
 "nbformat": 4,
 "nbformat_minor": 2
}
