{
 "cells": [
  {
   "cell_type": "code",
   "execution_count": 1,
   "metadata": {
    "collapsed": true
   },
   "outputs": [],
   "source": [
    "import torch\n",
    "import pyro\n",
    "import pyro.distributions as dist\n",
    "from torch.distributions import constraints\n",
    "import numpy as np\n",
    "from pyro.poutine.runtime import _PYRO_PARAM_STORE"
   ]
  },
  {
   "cell_type": "code",
   "execution_count": 2,
   "metadata": {
    "collapsed": true
   },
   "outputs": [],
   "source": [
    "# model\n",
    "def scale(guess):\n",
    "    weight = pyro.sample(\"weight\", dist.Normal(guess, 1.0))\n",
    "    return pyro.sample(\"measurement\", dist.Normal(weight, 0.75))\n"
   ]
  },
  {
   "cell_type": "code",
   "execution_count": 3,
   "metadata": {},
   "outputs": [
    {
     "data": {
      "text/plain": [
       "tensor(2.8259)"
      ]
     },
     "execution_count": 3,
     "metadata": {},
     "output_type": "execute_result"
    }
   ],
   "source": [
    "scale(torch.tensor(3.3))"
   ]
  },
  {
   "cell_type": "markdown",
   "metadata": {},
   "source": [
    "##### for condition\n",
    "This function is only looks at the weight satisfying `measurement==9.5`:"
   ]
  },
  {
   "cell_type": "code",
   "execution_count": 4,
   "metadata": {
    "collapsed": true
   },
   "outputs": [],
   "source": [
    "# condition0\n",
    "def conditioned_scale_obs(guess):  # equivalent to conditioned_scale above\n",
    "    # print(\"conditioned guess:\", guess)\n",
    "    weight = pyro.sample(\"weight\", dist.Normal(guess, 1.))\n",
    "     # here we condition on measurement == 9.5\n",
    "    return pyro.sample(\"measurement\", dist.Normal(weight, 0.75), obs=9.5)"
   ]
  },
  {
   "cell_type": "markdown",
   "metadata": {},
   "source": [
    "##### for guide\n",
    "i.e. approximation for weight's posterior distribution `quides = q(z=weight) ~ p(z=weight|x=mesurment)` (will be with use of ELBO):"
   ]
  },
  {
   "cell_type": "code",
   "execution_count": 26,
   "metadata": {
    "collapsed": true
   },
   "outputs": [],
   "source": [
    "# guide0\n",
    "from torch.distributions import constraints\n",
    "\n",
    "def scale_parametrized_guide(guess):\n",
    "    \n",
    "    a = pyro.param(\"a\", torch.tensor(guess))\n",
    "    b = pyro.param(\"b\", torch.tensor(1.), constraint=constraints.positive)\n",
    "    print(\"_PYRO_PARAM_STORE.b.unconstrained:\")\n",
    "    print(_PYRO_PARAM_STORE._params['b'])\n",
    "    print(\"_PYRO_PARAM_STORE.b.constrained:\")\n",
    "    print(_PYRO_PARAM_STORE['b']) \n",
    "    \n",
    "    # print(\"guide a:\", a)\n",
    "    return pyro.sample(\"weight\", dist.Normal(a, torch.abs(b)))"
   ]
  },
  {
   "cell_type": "code",
   "execution_count": 27,
   "metadata": {},
   "outputs": [
    {
     "name": "stdout",
     "output_type": "stream",
     "text": [
      "_PYRO_PARAM_STORE.b.unconstrained:\n",
      "tensor(-0.0033, requires_grad=True)\n",
      "_PYRO_PARAM_STORE.b.constrained:\n",
      "tensor(0.9967, grad_fn=<AddBackward0>)\n"
     ]
    },
    {
     "name": "stderr",
     "output_type": "stream",
     "text": [
      "/home/valdecar/anaconda3/envs/math/lib/python3.6/site-packages/ipykernel/__main__.py:6: UserWarning: To copy construct from a tensor, it is recommended to use sourceTensor.clone().detach() or sourceTensor.clone().detach().requires_grad_(True), rather than torch.tensor(sourceTensor).\n"
     ]
    },
    {
     "data": {
      "text/plain": [
       "tensor(7.4316, grad_fn=<AddBackward0>)"
      ]
     },
     "execution_count": 27,
     "metadata": {},
     "output_type": "execute_result"
    }
   ],
   "source": [
    "scale_parametrized_guide(torch.tensor(2.2))"
   ]
  },
  {
   "cell_type": "markdown",
   "metadata": {},
   "source": [
    "##### for params"
   ]
  },
  {
   "cell_type": "code",
   "execution_count": 19,
   "metadata": {},
   "outputs": [
    {
     "name": "stdout",
     "output_type": "stream",
     "text": [
      "dict_keys(['a', 'b'])\n"
     ]
    }
   ],
   "source": [
    "print(pyro.get_param_store().keys())"
   ]
  },
  {
   "cell_type": "code",
   "execution_count": 20,
   "metadata": {
    "collapsed": true
   },
   "outputs": [],
   "source": [
    "pyro.clear_param_store()"
   ]
  },
  {
   "cell_type": "code",
   "execution_count": 21,
   "metadata": {},
   "outputs": [
    {
     "name": "stdout",
     "output_type": "stream",
     "text": [
      "dict_keys([])\n"
     ]
    }
   ],
   "source": [
    "print(pyro.get_param_store().keys())"
   ]
  },
  {
   "cell_type": "markdown",
   "metadata": {},
   "source": [
    "##### for inference\n",
    "Take such params (`a` and `b`) so they can produce `weight` (using `scale_parametrized_guide`) which satisfy condition (i.e. `conditioned_scale_ops`) (condition used as model). So we knew about `p(x|z)` and will try to find `p(z|x)`:\n",
    "<br>\n",
    "${\\rm ELBO} \\equiv \\mathbb{E}_{q_{\\phi}({\\bf z})} \\left [\n",
    "\\log p_{\\theta}({\\bf x}|{\\bf z}) p_{\\theta}({\\bf z}) - \\log q_{\\phi}({\\bf z})\n",
    "\\right]$"
   ]
  },
  {
   "cell_type": "code",
   "execution_count": 24,
   "metadata": {},
   "outputs": [
    {
     "name": "stdout",
     "output_type": "stream",
     "text": [
      "{'a': tensor(8.5000, requires_grad=True), 'b': tensor(0., requires_grad=True)}\n",
      "tensor(1.0013, grad_fn=<AddBackward0>)\n",
      "{'a': tensor(8.5011, requires_grad=True), 'b': tensor(0.0013, requires_grad=True)}\n",
      "tensor(1.0022, grad_fn=<AddBackward0>)\n",
      "{'a': tensor(8.5009, requires_grad=True), 'b': tensor(0.0022, requires_grad=True)}\n",
      "tensor(0.9996, grad_fn=<AddBackward0>)\n",
      "{'a': tensor(8.4984, requires_grad=True), 'b': tensor(-0.0004, requires_grad=True)}\n",
      "tensor(0.9967, grad_fn=<AddBackward0>)\n"
     ]
    }
   ],
   "source": [
    "guess = 8.5\n",
    "\n",
    "pyro.clear_param_store()\n",
    "svi = pyro.infer.SVI(model=conditioned_scale_obs,\n",
    "                     guide=scale_parametrized_guide,\n",
    "                     optim=pyro.optim.SGD({\"lr\": 0.001, \"momentum\":0.1}),\n",
    "                     loss=pyro.infer.Trace_ELBO())\n",
    "\n",
    "\n",
    "losses, a,b  = [], [], []\n",
    "num_steps = 4 # 250  # 2500\n",
    "for t in range(num_steps):\n",
    "    losses.append(svi.step(guess))\n",
    "    a.append(pyro.param(\"a\").item())\n",
    "    b.append(pyro.param(\"b\").item())\n",
    "    print(pyro.param(\"b\"))"
   ]
  },
  {
   "cell_type": "code",
   "execution_count": 14,
   "metadata": {},
   "outputs": [
    {
     "name": "stdout",
     "output_type": "stream",
     "text": [
      "2\n",
      "8.500568389892578\n"
     ]
    }
   ],
   "source": [
    "print(len(a))\n",
    "print(a[-1])"
   ]
  },
  {
   "cell_type": "markdown",
   "metadata": {},
   "source": [
    "##### results:"
   ]
  },
  {
   "cell_type": "code",
   "execution_count": 11,
   "metadata": {
    "collapsed": true
   },
   "outputs": [],
   "source": [
    "import matplotlib.pyplot as plt\n"
   ]
  },
  {
   "cell_type": "code",
   "execution_count": 13,
   "metadata": {},
   "outputs": [
    {
     "name": "stdout",
     "output_type": "stream",
     "text": [
      "a =  8.830985069274902\n",
      "b =  0.72945237159729\n"
     ]
    },
    {
     "data": {
      "image/png": "[encoded data removed]",
      "text/plain": [
       "<matplotlib.figure.Figure at 0x7ff4e727e400>"
      ]
     },
     "metadata": {},
     "output_type": "display_data"
    }
   ],
   "source": [
    "plt.plot(losses)\n",
    "plt.title(\"ELBO\")\n",
    "plt.xlabel(\"step\")\n",
    "plt.ylabel(\"loss\");\n",
    "print('a = ',pyro.param(\"a\").item())\n",
    "print('b = ', pyro.param(\"b\").item())\n",
    "plt.show()"
   ]
  },
  {
   "cell_type": "code",
   "execution_count": 14,
   "metadata": {},
   "outputs": [
    {
     "data": {
      "image/png": "[encoded data removed]",
      "text/plain": [
       "<matplotlib.figure.Figure at 0x7ff4e4faeef0>"
      ]
     },
     "metadata": {},
     "output_type": "display_data"
    }
   ],
   "source": [
    "plt.subplot(1,2,1)\n",
    "plt.plot([0,num_steps],[9.14,9.14], 'k:')\n",
    "plt.plot(a)\n",
    "plt.ylabel('a')\n",
    "\n",
    "plt.subplot(1,2,2)\n",
    "plt.ylabel('b')\n",
    "plt.plot([0,num_steps],[0.6,0.6], 'k:')\n",
    "plt.plot(b)\n",
    "plt.tight_layout()\n",
    "plt.show()"
   ]
  },
  {
   "cell_type": "code",
   "execution_count": 11,
   "metadata": {
    "collapsed": true
   },
   "outputs": [],
   "source": [
    "data = torch.zeros(10)\n",
    "data[0:6] = torch.ones(6)\n",
    "\n",
    "\n",
    "# for vectorized, sampled, independed:\n",
    "def model13():\n",
    "    alpha0 = torch.tensor(10.0)\n",
    "    beta0 = torch.tensor(10.0)\n",
    "\n",
    "    f = pyro.sample(\"latent_fairness\", dist.Beta(alpha0, beta0)) \n",
    "\n",
    "    # vectorized, sampled, independent:\n",
    "    with pyro.plate(\"data_loop\", size=10, subsample_size=5) as ind:\n",
    "        dd = dist.Bernoulli(f).expand([5])\n",
    "        print(\"dd.batch_shape:\")\n",
    "        print(dd.batch_shape)\n",
    "        print(\"dd.event_shape:\")\n",
    "        print(dd.event_shape)\n",
    "        print(\"ind:\")\n",
    "        print(ind)\n",
    "        a = pyro.sample(\"obs\", dd, obs=data.index_select(0, ind))\n",
    "        print(\"a:\")\n",
    "        print(a)\n"
   ]
  },
  {
   "cell_type": "code",
   "execution_count": 16,
   "metadata": {},
   "outputs": [
    {
     "name": "stdout",
     "output_type": "stream",
     "text": [
      "dd.batch_shape:\n",
      "torch.Size([5])\n",
      "dd.event_shape:\n",
      "torch.Size([])\n",
      "ind:\n",
      "tensor([3, 7, 5, 9, 6])\n",
      "a:\n",
      "tensor([1., 0., 1., 0., 0.])\n"
     ]
    }
   ],
   "source": [
    "model13()"
   ]
  },
  {
   "cell_type": "code",
   "execution_count": 117,
   "metadata": {
    "collapsed": true
   },
   "outputs": [],
   "source": [
    "\n",
    "# for vectorized, sampled, depended:\n",
    "def model23():\n",
    "    # alpha0 = torch.tensor(10.0)\n",
    "    # beta0 = torch.tensor(10.0)\n",
    "    mu = torch.tensor(0.5)\n",
    "    sigma = torch.tensor(0.1)\n",
    "\n",
    "    p = pyro.sample(\"latent_fairness\", dist.Normal(mu, sigma))\n",
    "    print(\"p = \", p)\n",
    "    \n",
    "    # vectorized, sampled, dependent:\n",
    "    with pyro.plate(\"data_loop\", size=10, subsample_size=5) as ind:\n",
    "        # 5 paralel dimentions of size 2 each \n",
    "        dd = dist.Bernoulli(p).expand([5, 2]).to_event(1)\n",
    "        print(\"dd.batch_shape:\")\n",
    "        print(dd.batch_shape)\n",
    "        print(\"dd.event_shape:\")\n",
    "        print(dd.event_shape)\n",
    "        x = dd.sample()\n",
    "        print(\"x = \", x)\n",
    "        # dd will use Bernoulli with is accurate to!\n",
    "        print(\"prob(x) = \", torch.exp(dd.log_prob(x)))\n",
    "        print(\"accurate: \",\n",
    "              torch.tensor([(p if x0 else 1-p)*(p if x1 else 1-p)\n",
    "                            for x0, x1 in x]))\n",
    "        \n",
    "        print(\"ind:\")\n",
    "        print(ind)\n",
    "        a = pyro.sample(\"obs\", dd, obs=data.index_select(0, ind))\n",
    "        print(\"a:\")\n",
    "        print(a)\n"
   ]
  },
  {
   "cell_type": "code",
   "execution_count": 118,
   "metadata": {},
   "outputs": [
    {
     "name": "stdout",
     "output_type": "stream",
     "text": [
      "p =  tensor(0.5121)\n",
      "dd.batch_shape:\n",
      "torch.Size([5])\n",
      "dd.event_shape:\n",
      "torch.Size([2])\n",
      "x =  tensor([[0., 0.],\n",
      "        [1., 0.],\n",
      "        [0., 1.],\n",
      "        [1., 1.],\n",
      "        [1., 0.]])\n",
      "prob(x) =  tensor([0.2380, 0.2499, 0.2499, 0.2623, 0.2499])\n",
      "accurate:  tensor([0.2380, 0.2499, 0.2499, 0.2623, 0.2499])\n",
      "ind:\n",
      "tensor([6, 2, 9, 8, 0])\n",
      "a:\n",
      "tensor([0., 1., 0., 0., 1.])\n"
     ]
    }
   ],
   "source": [
    "model23()"
   ]
  },
  {
   "cell_type": "markdown",
   "metadata": {},
   "source": [
    "##### for \n",
    "conditionaly depended:"
   ]
  },
  {
   "cell_type": "code",
   "execution_count": 14,
   "metadata": {},
   "outputs": [
    {
     "name": "stdout",
     "output_type": "stream",
     "text": [
      "x =  tensor([[1., 0.],\n",
      "        [1., 0.],\n",
      "        [1., 1.]])\n",
      "prob(x) =  tensor(0.0216)\n",
      "accurate:  tensor([0.2100, 0.2100, 0.4900])\n"
     ]
    }
   ],
   "source": [
    "# Bernulli:\n",
    "p = 0.7\n",
    "dd = dist.Bernoulli(p*torch.ones((3,2))).to_event(2)\n",
    "x = dd.sample()\n",
    "print(\"x = \", x)\n",
    "print(\"prob(x) = \", torch.exp(dd.log_prob(x)))\n",
    "print(\"accurate: \", torch.tensor([(p if x0 else 1-p)*(p if x1 else 1-p)\n",
    "                                  for x0, x1 in x]))"
   ]
  },
  {
   "cell_type": "markdown",
   "metadata": {},
   "source": [
    "so experiment is of droping two dices five times"
   ]
  },
  {
   "cell_type": "code",
   "execution_count": 95,
   "metadata": {},
   "outputs": [
    {
     "name": "stdout",
     "output_type": "stream",
     "text": [
      "x =  tensor([[-1.0040, -0.5045],\n",
      "        [-1.2116, -0.4331],\n",
      "        [-0.5154,  1.5380]])\n",
      "prob(x) =  tensor([0.0847, 0.0696, 0.0427])\n",
      "accurate:  tensor([0.0847, 0.0696, 0.0427], dtype=torch.float64)\n"
     ]
    }
   ],
   "source": [
    "# Normal:\n",
    "dd = dist.Normal(0.0*torch.ones((3,2)),\n",
    "                 1.0*torch.ones((3,2))).to_event(1)\n",
    "x = dd.sample()\n",
    "print(\"x = \", x)\n",
    "print(\"prob(x) = \", torch.exp(dd.log_prob(x)))\n",
    "\n",
    "f = lambda x: 1/np.sqrt(2*np.pi) * np.exp(-0.5*np.power(x,2))\n",
    "print(\"accurate: \", torch.tensor([f(x0)*f(x1) for x0, x1 in x]))"
   ]
  },
  {
   "cell_type": "code",
   "execution_count": 78,
   "metadata": {
    "collapsed": true
   },
   "outputs": [],
   "source": [
    "# dd.to_event??\n",
    "# isinstance(dd, torch.distributions.Independent)\n",
    "# torch.distributions.Independent?"
   ]
  },
  {
   "cell_type": "markdown",
   "metadata": {},
   "source": [
    "##### for \n",
    "`rand`"
   ]
  },
  {
   "cell_type": "code",
   "execution_count": 37,
   "metadata": {},
   "outputs": [
    {
     "data": {
      "text/plain": [
       "tensor([[0.7280, 0.2271],\n",
       "        [0.5586, 0.0519],\n",
       "        [0.9976, 0.1992]])"
      ]
     },
     "execution_count": 37,
     "metadata": {},
     "output_type": "execute_result"
    }
   ],
   "source": [
    "torch.rand((3,2))"
   ]
  },
  {
   "cell_type": "markdown",
   "metadata": {},
   "source": [
    "##### for \n",
    "`dist.log_prob`"
   ]
  },
  {
   "cell_type": "code",
   "execution_count": 61,
   "metadata": {
    "collapsed": true
   },
   "outputs": [],
   "source": [
    "d = torch.distributions.Normal(torch.tensor([0.0]),\n",
    "                               torch.tensor([1.0]))"
   ]
  },
  {
   "cell_type": "code",
   "execution_count": 64,
   "metadata": {
    "collapsed": true
   },
   "outputs": [],
   "source": [
    "f = lambda x: 1/np.sqrt(2*np.pi) * np.exp(-0.5*np.power(x,2))"
   ]
  },
  {
   "cell_type": "code",
   "execution_count": 66,
   "metadata": {},
   "outputs": [
    {
     "name": "stdout",
     "output_type": "stream",
     "text": [
      "accurate:  0.3989422804014327\n",
      "pyros:  tensor([0.3989])\n"
     ]
    }
   ],
   "source": [
    "print(\"accurate: \", f(0))\n",
    "print(\"pyros: \", torch.exp(d.log_prob(0.0)))"
   ]
  },
  {
   "cell_type": "code",
   "execution_count": 75,
   "metadata": {},
   "outputs": [
    {
     "name": "stdout",
     "output_type": "stream",
     "text": [
      "tensor(0.3000)\n"
     ]
    }
   ],
   "source": [
    "d = torch.distributions.Bernoulli(0.7)\n",
    "print(torch.exp(d.log_prob(0)))"
   ]
  },
  {
   "cell_type": "markdown",
   "metadata": {
    "collapsed": true
   },
   "source": [
    "##### for \n",
    "`plate`"
   ]
  },
  {
   "cell_type": "code",
   "execution_count": 10,
   "metadata": {},
   "outputs": [
    {
     "name": "stdout",
     "output_type": "stream",
     "text": [
      "x.shape: torch.Size([3])\n",
      "x:  tensor([-0.0522, -0.0631,  0.0150])\n",
      "y.shape:  torch.Size([2, 1])\n",
      "y:  tensor([[-1.0739],\n",
      "        [-1.0456]])\n"
     ]
    }
   ],
   "source": [
    "x_axis = pyro.plate(\"x\", 3, dim=-1)\n",
    "y_axis = pyro.plate(\"y\", 2, dim=-2)\n",
    "with x_axis:\n",
    "    x = pyro.sample(\"x\", dist.Normal(0, 1))\n",
    "with y_axis:\n",
    "    y = pyro.sample(\"y\", dist.Normal(0, 1))\n",
    "print(\"x.shape:\", x.shape)\n",
    "print(\"x: \", x)\n",
    "print(\"y.shape: \", y.shape)\n",
    "print(\"y: \", y)"
   ]
  },
  {
   "cell_type": "code",
   "execution_count": 22,
   "metadata": {},
   "outputs": [
    {
     "name": "stdout",
     "output_type": "stream",
     "text": [
      "torch.Size([5, 2])\n"
     ]
    }
   ],
   "source": [
    "import pyro.distributions as pdist\n",
    "\n",
    "\n",
    "with pyro.poutine.trace_messenger.TraceMessenger() as tm:\n",
    "    with pyro.plate(\"p1\",size=5,dim=-2):\n",
    "        x = pyro.sample(\"x\", pdist.Bernoulli(0.3).expand([5,2]).to_event(0))\n",
    "        print(x.shape)"
   ]
  },
  {
   "cell_type": "code",
   "execution_count": 25,
   "metadata": {},
   "outputs": [
    {
     "name": "stdout",
     "output_type": "stream",
     "text": [
      "{'p1': 'a'}\n",
      "True\n",
      "a\n"
     ]
    }
   ],
   "source": [
    "# for compute model factors:\n",
    "tm.trace.symbolize_dims() \n",
    "print(tm.trace.plate_to_symbol)\n",
    "l = [(name, site) for name, site in tm.trace.nodes.items()] \n",
    "d = dict(l)\n",
    "print(d[\"x\"][\"cond_indep_stack\"][0].vectorized)\n",
    "print(tm.trace.plate_to_symbol[d[\"x\"][\"cond_indep_stack\"][0].name])"
   ]
  },
  {
   "cell_type": "code",
   "execution_count": 20,
   "metadata": {
    "collapsed": true
   },
   "outputs": [],
   "source": [
    "trace = pyro.poutine.trace(model)"
   ]
  },
  {
   "cell_type": "code",
   "execution_count": 4,
   "metadata": {},
   "outputs": [
    {
     "name": "stdout",
     "output_type": "stream",
     "text": [
      "['', 'a', 'ab', 'ba', 'abc', 'acb', 'bac', 'bca', 'cab', 'cba', 'abcd', 'abdc', 'acbd', 'acdb', 'adbc', 'adcb', 'bacd', 'badc', 'bcad', 'bcda', 'bdac', 'bdca', 'cabd', 'cadb', 'cbad', 'cbda', 'cdab', 'cdba', 'dabc', 'dacb', 'dbac', 'dbca', 'dcab', 'dcba']\n"
     ]
    }
   ],
   "source": [
    "import itertools\n",
    "# test pack:\n",
    "EXAMPLE_DIMS = [\n",
    "    \"\".join(dims)\n",
    "    for num_dims in range(5)\n",
    "    for dims in itertools.permutations(\"abcd\"[:num_dims])\n",
    "]\n",
    "print(EXAMPLE_DIMS)"
   ]
  },
  {
   "cell_type": "code",
   "execution_count": 15,
   "metadata": {
    "collapsed": true
   },
   "outputs": [],
   "source": [
    "import torch\n",
    "from pyro.ops import packed\n",
    "\n",
    "dims = EXAMPLE_DIMS[14]\n",
    "dim_to_symbol = {}\n",
    "symbol_to_dim = {}\n",
    "for symbol, dim in zip(\"abcd\", range(-1, -5, -1)):\n",
    "    dim_to_symbol[dim] = symbol\n",
    "    symbol_to_dim[symbol] = dim\n",
    "shape = tuple(range(2, 2 + len(dims)))\n",
    "x = torch.randn(shape)\n",
    "\n",
    "pack_x = packed.pack(x, dim_to_symbol)\n",
    "unpack_pack_x = packed.unpack(pack_x, symbol_to_dim)"
   ]
  },
  {
   "cell_type": "code",
   "execution_count": 14,
   "metadata": {},
   "outputs": [
    {
     "data": {
      "text/plain": [
       "{-4: 'd', -3: 'c', -2: 'b', -1: 'a'}"
      ]
     },
     "execution_count": 14,
     "metadata": {},
     "output_type": "execute_result"
    }
   ],
   "source": [
    "dim_to_symbol"
   ]
  },
  {
   "cell_type": "code",
   "execution_count": 19,
   "metadata": {},
   "outputs": [
    {
     "data": {
      "text/plain": [
       "torch.Size([2, 3, 4, 5])"
      ]
     },
     "execution_count": 19,
     "metadata": {},
     "output_type": "execute_result"
    }
   ],
   "source": [
    "x.shape"
   ]
  },
  {
   "cell_type": "code",
   "execution_count": 18,
   "metadata": {},
   "outputs": [
    {
     "data": {
      "text/plain": [
       "torch.Size([2, 3, 4, 5])"
      ]
     },
     "execution_count": 18,
     "metadata": {},
     "output_type": "execute_result"
    }
   ],
   "source": [
    "pack_x.shape"
   ]
  },
  {
   "cell_type": "code",
   "execution_count": null,
   "metadata": {
    "collapsed": true
   },
   "outputs": [],
   "source": [
    "trace.sy"
   ]
  },
  {
   "cell_type": "code",
   "execution_count": 2,
   "metadata": {
    "collapsed": true
   },
   "outputs": [],
   "source": [
    "# enumeration\n",
    "import torch\n",
    "import pyro\n",
    "import pyro.distributions as dist\n",
    "from pyro.infer.autoguide import AutoNormal\n",
    "from pyro import poutine\n",
    "from pyro.infer import SVI, Trace_ELBO, TraceEnum_ELBO, config_enumerate, infer_discrete\n",
    "from pyro.optim import Adam"
   ]
  },
  {
   "cell_type": "code",
   "execution_count": 3,
   "metadata": {
    "collapsed": true
   },
   "outputs": [],
   "source": [
    "data_dim = 4\n",
    "num_steps = 10\n",
    "hidden_dim = 10\n",
    "data = dist.Categorical(torch.ones(num_steps, data_dim)).sample()\n",
    "\n",
    "def pyro_iter(data, markov):\n",
    "    if markov:\n",
    "        return pyro.markov(enumerate(data))\n",
    "    else:\n",
    "        return enumerate(data)\n",
    "    \n",
    "def hmm_model(data, data_dim, hidden_dim=10, markov=False):\n",
    "    print(f\"Running for {len(data)} time steps\")\n",
    "    # Sample global matrices wrt a Jeffreys prior.\n",
    "    with pyro.plate(\"hidden_state\", hidden_dim):\n",
    "        transition = pyro.sample(\"transition\", dist.Dirichlet(0.5 * torch.ones(hidden_dim)))\n",
    "        emission = pyro.sample(\"emission\", dist.Dirichlet(0.5 * torch.ones(data_dim)))\n",
    "\n",
    "    x = 0  # initial state\n",
    "    zs = []\n",
    "    # for t, y in enumerate(data):\n",
    "    # for t, y in pyro.markov(enumerate(data)):\n",
    "    for t, y in pyro_iter(data, markov):\n",
    "        x = pyro.sample(f\"x_{t}\", dist.Categorical(transition[x]),\n",
    "                        infer={\"enumerate\": \"parallel\"})\n",
    "        if y is not None:\n",
    "            z = pyro.sample(f\"  y_{t}\", dist.Categorical(emission[x]), obs=y)\n",
    "        else:\n",
    "            z = pyro.sample(f\"  y_{t}\", dist.Categorical(emission[x]))\n",
    "        zs.append(z)\n",
    "        print(f\"  x_{t}.shape = {x.shape}\")\n",
    "    return zs"
   ]
  },
  {
   "cell_type": "code",
   "execution_count": 3,
   "metadata": {},
   "outputs": [
    {
     "name": "stdout",
     "output_type": "stream",
     "text": [
      "Running for 10 time steps\n",
      "  x_0.shape = torch.Size([])\n",
      "  x_1.shape = torch.Size([])\n",
      "  x_2.shape = torch.Size([])\n",
      "  x_3.shape = torch.Size([])\n",
      "  x_4.shape = torch.Size([])\n",
      "  x_5.shape = torch.Size([])\n",
      "  x_6.shape = torch.Size([])\n",
      "  x_7.shape = torch.Size([])\n",
      "  x_8.shape = torch.Size([])\n",
      "  x_9.shape = torch.Size([])\n"
     ]
    },
    {
     "name": "stderr",
     "output_type": "stream",
     "text": [
      "/home/valdecar/anaconda3/envs/math/lib/python3.6/site-packages/pyro/primitives.py:86: RuntimeWarning: trying to observe a value outside of inference at   y_0\n",
      "  RuntimeWarning)\n",
      "/home/valdecar/anaconda3/envs/math/lib/python3.6/site-packages/pyro/primitives.py:86: RuntimeWarning: trying to observe a value outside of inference at   y_1\n",
      "  RuntimeWarning)\n",
      "/home/valdecar/anaconda3/envs/math/lib/python3.6/site-packages/pyro/primitives.py:86: RuntimeWarning: trying to observe a value outside of inference at   y_2\n",
      "  RuntimeWarning)\n",
      "/home/valdecar/anaconda3/envs/math/lib/python3.6/site-packages/pyro/primitives.py:86: RuntimeWarning: trying to observe a value outside of inference at   y_3\n",
      "  RuntimeWarning)\n",
      "/home/valdecar/anaconda3/envs/math/lib/python3.6/site-packages/pyro/primitives.py:86: RuntimeWarning: trying to observe a value outside of inference at   y_4\n",
      "  RuntimeWarning)\n",
      "/home/valdecar/anaconda3/envs/math/lib/python3.6/site-packages/pyro/primitives.py:86: RuntimeWarning: trying to observe a value outside of inference at   y_5\n",
      "  RuntimeWarning)\n",
      "/home/valdecar/anaconda3/envs/math/lib/python3.6/site-packages/pyro/primitives.py:86: RuntimeWarning: trying to observe a value outside of inference at   y_6\n",
      "  RuntimeWarning)\n",
      "/home/valdecar/anaconda3/envs/math/lib/python3.6/site-packages/pyro/primitives.py:86: RuntimeWarning: trying to observe a value outside of inference at   y_7\n",
      "  RuntimeWarning)\n",
      "/home/valdecar/anaconda3/envs/math/lib/python3.6/site-packages/pyro/primitives.py:86: RuntimeWarning: trying to observe a value outside of inference at   y_8\n",
      "  RuntimeWarning)\n",
      "/home/valdecar/anaconda3/envs/math/lib/python3.6/site-packages/pyro/primitives.py:86: RuntimeWarning: trying to observe a value outside of inference at   y_9\n",
      "  RuntimeWarning)\n"
     ]
    },
    {
     "data": {
      "text/plain": [
       "[tensor(2),\n",
       " tensor(2),\n",
       " tensor(3),\n",
       " tensor(1),\n",
       " tensor(2),\n",
       " tensor(3),\n",
       " tensor(0),\n",
       " tensor(1),\n",
       " tensor(1),\n",
       " tensor(1)]"
      ]
     },
     "execution_count": 3,
     "metadata": {},
     "output_type": "execute_result"
    }
   ],
   "source": [
    "hmm_model(data, data_dim)"
   ]
  },
  {
   "cell_type": "code",
   "execution_count": 4,
   "metadata": {
    "collapsed": true
   },
   "outputs": [],
   "source": [
    "# hmm_model(data, data_dim)\n",
    "pyro.clear_param_store()\n",
    "hmm_guide = AutoNormal(poutine.block(\n",
    "        hmm_model, expose=[\"transition\", \"emission\"]))"
   ]
  },
  {
   "cell_type": "markdown",
   "metadata": {},
   "source": [
    "see also `test_pyro hierarchy`"
   ]
  },
  {
   "cell_type": "markdown",
   "metadata": {},
   "source": [
    "with `enumeration`:"
   ]
  },
  {
   "cell_type": "code",
   "execution_count": 5,
   "metadata": {},
   "outputs": [
    {
     "name": "stdout",
     "output_type": "stream",
     "text": [
      "Running for 10 time steps\n",
      "  x_0.shape = torch.Size([])\n",
      "  x_1.shape = torch.Size([])\n",
      "  x_2.shape = torch.Size([])\n",
      "  x_3.shape = torch.Size([])\n",
      "  x_4.shape = torch.Size([])\n",
      "  x_5.shape = torch.Size([])\n",
      "  x_6.shape = torch.Size([])\n",
      "  x_7.shape = torch.Size([])\n",
      "  x_8.shape = torch.Size([])\n",
      "  x_9.shape = torch.Size([])\n",
      "Running for 10 time steps\n",
      "  x_0.shape = torch.Size([10, 1])\n",
      "  x_1.shape = torch.Size([10, 1, 1])\n",
      "  x_2.shape = torch.Size([10, 1, 1, 1])\n",
      "  x_3.shape = torch.Size([10, 1, 1, 1, 1])\n",
      "  x_4.shape = torch.Size([10, 1, 1, 1, 1, 1])\n",
      "  x_5.shape = torch.Size([10, 1, 1, 1, 1, 1, 1])\n",
      "  x_6.shape = torch.Size([10, 1, 1, 1, 1, 1, 1, 1])\n",
      "  x_7.shape = torch.Size([10, 1, 1, 1, 1, 1, 1, 1, 1])\n",
      "  x_8.shape = torch.Size([10, 1, 1, 1, 1, 1, 1, 1, 1, 1])\n",
      "  x_9.shape = torch.Size([10, 1, 1, 1, 1, 1, 1, 1, 1, 1, 1])\n"
     ]
    },
    {
     "name": "stderr",
     "output_type": "stream",
     "text": [
      "/home/valdecar/anaconda3/envs/math/lib/python3.6/site-packages/torch/autograd/__init__.py:132: UserWarning: CUDA initialization: The NVIDIA driver on your system is too old (found version 8000). Please update your GPU driver by downloading and installing a new version from the URL: http://www.nvidia.com/Download/index.aspx Alternatively, go to: https://pytorch.org to install a PyTorch version that has been compiled with your version of the CUDA driver. (Triggered internally at  /pytorch/c10/cuda/CUDAFunctions.cpp:100.)\n",
      "  allow_unreachable=True)  # allow_unreachable flag\n"
     ]
    }
   ],
   "source": [
    "elbo = TraceEnum_ELBO(max_plate_nesting=1)\n",
    "svi = SVI(hmm_model, hmm_guide, Adam({'lr': 1e-3}), elbo)\n",
    "loss = svi.step(data, data_dim, hidden_dim, markov=False)  \n",
    "# loss = svi.step(obs_ys, obs_transition, data_dim, hidden_dim)  "
   ]
  },
  {
   "cell_type": "code",
   "execution_count": 8,
   "metadata": {},
   "outputs": [
    {
     "data": {
      "text/plain": [
       "306.8924255371094"
      ]
     },
     "execution_count": 8,
     "metadata": {},
     "output_type": "execute_result"
    }
   ],
   "source": [
    "loss"
   ]
  },
  {
   "cell_type": "markdown",
   "metadata": {},
   "source": [
    "with `markov`"
   ]
  },
  {
   "cell_type": "code",
   "execution_count": 39,
   "metadata": {},
   "outputs": [
    {
     "name": "stdout",
     "output_type": "stream",
     "text": [
      "Running for 10 time steps\n",
      "  x_0.shape = torch.Size([10, 1])\n",
      "  x_1.shape = torch.Size([10, 1, 1])\n",
      "  x_2.shape = torch.Size([10, 1])\n",
      "  x_3.shape = torch.Size([10, 1, 1])\n",
      "  x_4.shape = torch.Size([10, 1])\n",
      "  x_5.shape = torch.Size([10, 1, 1])\n",
      "  x_6.shape = torch.Size([10, 1])\n",
      "  x_7.shape = torch.Size([10, 1, 1])\n",
      "  x_8.shape = torch.Size([10, 1])\n",
      "  x_9.shape = torch.Size([10, 1, 1])\n"
     ]
    }
   ],
   "source": [
    "loss = svi.step(data, data_dim, hidden_dim, markov=True)"
   ]
  },
  {
   "cell_type": "code",
   "execution_count": 10,
   "metadata": {},
   "outputs": [
    {
     "name": "stdout",
     "output_type": "stream",
     "text": [
      "locs: tensor([-0.9139, -3.1421])\n",
      "weights: tensor([0.5000, 0.5000])\n",
      "assignment: tensor([0, 1, 1, 1, 1])\n",
      "locs: tensor([-3.2609,  0.5703], grad_fn=<ExpandBackward>)\n",
      "weights: tensor([0.5000, 0.5000], grad_fn=<ExpandBackward>)\n",
      "assignment: tensor([[0],\n",
      "        [1]])\n"
     ]
    },
    {
     "data": {
      "text/plain": [
       "254.09886169433594"
      ]
     },
     "execution_count": 10,
     "metadata": {},
     "output_type": "execute_result"
    }
   ],
   "source": [
    "from pyro.infer.autoguide import AutoDelta\n",
    "\n",
    "data = torch.tensor([0., 1., 10., 11., 12.])\n",
    "\n",
    "K = 2  # Fixed number of components.\n",
    "\n",
    "@config_enumerate\n",
    "def model(data):\n",
    "    # Global variables.\n",
    "    weights = pyro.sample('weights', dist.Dirichlet(0.5 * torch.ones(K)))\n",
    "    scale = pyro.sample('scale', dist.LogNormal(0., 2.))\n",
    "    with pyro.plate('components', K):\n",
    "        locs = pyro.sample('locs', dist.Normal(0., 10.))\n",
    "    print(\"locs:\", locs)\n",
    "    print(\"weights:\", weights)\n",
    "    \n",
    "    with pyro.plate('data', len(data)):\n",
    "        # Local variables.\n",
    "        assignment = pyro.sample('assignment', dist.Categorical(weights))\n",
    "        pyro.sample('obs', dist.Normal(locs[assignment], scale), obs=data)\n",
    "    print(\"assignment:\", assignment)\n",
    "    \n",
    "elbo = TraceEnum_ELBO(max_plate_nesting=1)\n",
    "guide = AutoDelta(poutine.block(model, expose=['weights', 'locs', 'scale'])) # , init_loc_fn=init_loc_fn)\n",
    "optim = pyro.optim.Adam({'lr': 0.1, 'betas': [0.8, 0.99]})\n",
    "svi = SVI(model, guide, optim, loss=elbo)\n",
    "svi.loss(model, guide, data)"
   ]
  },
  {
   "cell_type": "markdown",
   "metadata": {},
   "source": [
    "### For max_plate nesting\n",
    "(REF: http://pyro.ai/examples/enumeration.html#Mechanics-of-enumeration)"
   ]
  },
  {
   "cell_type": "code",
   "execution_count": 6,
   "metadata": {},
   "outputs": [
    {
     "name": "stdout",
     "output_type": "stream",
     "text": [
      "guide z = 1\n",
      "model z = 1\n"
     ]
    }
   ],
   "source": [
    "def model():\n",
    "    z = pyro.sample(\"z\", dist.Categorical(torch.ones(5)))\n",
    "    print(f\"model z = {z}\")\n",
    "\n",
    "def guide():\n",
    "    z = pyro.sample(\"z\", dist.Categorical(torch.ones(5)))\n",
    "    print(f\"guide z = {z}\")\n",
    "\n",
    "elbo = Trace_ELBO()\n",
    "elbo.loss(model, guide);"
   ]
  },
  {
   "cell_type": "code",
   "execution_count": 15,
   "metadata": {},
   "outputs": [
    {
     "name": "stdout",
     "output_type": "stream",
     "text": [
      "guide z = tensor([0, 1, 2, 3, 4])\n",
      "model z = tensor([0, 1, 2, 3, 4])\n"
     ]
    }
   ],
   "source": [
    "elbo = TraceEnum_ELBO(max_plate_nesting=0)\n",
    "elbo.loss(model, config_enumerate(guide, \"parallel\"));"
   ]
  },
  {
   "cell_type": "code",
   "execution_count": null,
   "metadata": {
    "collapsed": true
   },
   "outputs": [],
   "source": []
  }
 ],
 "metadata": {
  "kernelspec": {
   "display_name": "Python [conda env:math]",
   "language": "python",
   "name": "conda-env-math-py"
  },
  "language_info": {
   "codemirror_mode": {
    "name": "ipython",
    "version": 3
   },
   "file_extension": ".py",
   "mimetype": "text/x-python",
   "name": "python",
   "nbconvert_exporter": "python",
   "pygments_lexer": "ipython3",
   "version": "3.6.2"
  }
 },
 "nbformat": 4,
 "nbformat_minor": 2
}
