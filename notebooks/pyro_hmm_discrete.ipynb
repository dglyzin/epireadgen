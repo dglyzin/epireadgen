{
 "cells": [
  {
   "cell_type": "code",
   "execution_count": 1,
   "metadata": {
    "collapsed": true
   },
   "outputs": [],
   "source": [
    "import numpy as np\n",
    "import torch\n",
    "import pyro\n",
    "import torch.distributions as dist\n",
    "import pyro.distributions as pdist\n",
    "import torch.nn.functional as F\n",
    "import matplotlib.pyplot as plt\n",
    "from pyro import poutine\n",
    "\n",
    "from pyro.infer import SVI, Trace_ELBO, TraceEnum_ELBO, config_enumerate, infer_discrete\n",
    "from pyro.infer import NUTS, MCMC\n",
    "from pyro.infer.autoguide import AutoDiagonalNormal\n",
    "from pyro import poutine\n",
    "from torch.distributions import constraints\n",
    "from pyro.ops.indexing import Vindex"
   ]
  },
  {
   "cell_type": "code",
   "execution_count": 21,
   "metadata": {
    "collapsed": true
   },
   "outputs": [],
   "source": [
    "torch.set_default_tensor_type(\"torch.cuda.DoubleTensor\")"
   ]
  },
  {
   "cell_type": "markdown",
   "metadata": {},
   "source": [
    "### Target"
   ]
  },
  {
   "cell_type": "markdown",
   "metadata": {},
   "source": [
    "$transition = [0.1, 0.7]$ <br>\n",
    "$emission = [0.9, 0.6]$"
   ]
  },
  {
   "cell_type": "code",
   "execution_count": 29,
   "metadata": {
    "collapsed": true
   },
   "outputs": [],
   "source": [
    "def hmm_target(z0, T_seq, T_bseq, K):\n",
    "    '''\n",
    "    - ``t_seq`` -- general sequence length\n",
    "    i.e. global time\n",
    "    \n",
    "    - ``T_bseq`` -- length of sequence in each batch\n",
    "    (must divide `t_seq`) i.e. local time\n",
    "    \n",
    "    - ``K`` -- count of sequences in each batch\n",
    "    \n",
    "    Return:\n",
    "    containing batchs tensor of shape:\n",
    "    T_seq/T_bseq, T_bseq, K\n",
    "    '''\n",
    "    z_prev = z0 * torch.ones(K)\n",
    "    \n",
    "    x_batch = torch.tensor([])\n",
    "    z_batch = torch.tensor([])\n",
    "    transition = torch.tensor([0.1, 0.7])\n",
    "    emission = torch.tensor([0.9, 0.6])\n",
    "    for i in range(int(T_seq/T_bseq)):\n",
    "        zs = torch.tensor([])\n",
    "        xs = torch.tensor([])\n",
    "        with pyro.plate(\"plate0\", K):\n",
    "            for t in range(T_bseq):\n",
    "                # j = K - i % K\n",
    "                # z.shape == K\n",
    "                ip_transition = Vindex(transition)[z_prev.type(torch.long)]\n",
    "                z = pyro.sample(\"z_%d\" % t,\n",
    "                                pdist.Binomial(1, ip_transition))\n",
    "                               \n",
    "                z_prev = z\n",
    "                # print(ip_transition)\n",
    "                # print(z)\n",
    "                ip_emission = Vindex(emission)[z.type(torch.long)]\n",
    "                x = pyro.sample(\"x_%d\" % t,\n",
    "                                pdist.Binomial(1, ip_emission))\n",
    "                # zs.shape will be (after for loop) (K, T_bseq)\n",
    "                zs = torch.cat([zs,\n",
    "                                torch.unsqueeze(z, 0)], 0)\n",
    "                xs = torch.cat([xs,\n",
    "                                torch.unsqueeze(x, 0)], 0)\n",
    "        \n",
    "        # z_batch.shape will be (after for loop) (T_seq/T_bseq, )       \n",
    "        x_batch = torch.cat([x_batch, torch.unsqueeze(xs.T, 0)], 0)\n",
    "        z_batch = torch.cat([z_batch, torch.unsqueeze(zs.T, 0)], 0)\n",
    "    \n",
    "    print(\"\\nz.shape:\")\n",
    "    print(z.shape)\n",
    "    print(\"\\nzs.shape:\")\n",
    "    print(zs.shape)\n",
    "    print(\"\\nz_batch.shape:\")\n",
    "    print(z_batch.shape) \n",
    "    return(x_batch, z_batch)"
   ]
  },
  {
   "cell_type": "code",
   "execution_count": 36,
   "metadata": {},
   "outputs": [
    {
     "name": "stdout",
     "output_type": "stream",
     "text": [
      "\n",
      "z.shape:\n",
      "torch.Size([20])\n",
      "\n",
      "zs.shape:\n",
      "torch.Size([100, 20])\n",
      "\n",
      "z_batch.shape:\n",
      "torch.Size([18, 20, 100])\n"
     ]
    }
   ],
   "source": [
    "xs_batch, zs_batch = hmm_target(1, 1800, 100, 20)"
   ]
  },
  {
   "cell_type": "markdown",
   "metadata": {},
   "source": [
    "### Condition:"
   ]
  },
  {
   "cell_type": "code",
   "execution_count": 31,
   "metadata": {
    "collapsed": true
   },
   "outputs": [],
   "source": [
    "def hmm_cond(xs_batch):\n",
    "  '''Condition x on observed data (xs_batch) \n",
    "  - ``xs_batch`` -- shape must looks like:\n",
    "  (seqs, time)\n",
    "    \n",
    "  Because of usage of plate all seqs[t] will be sampled\n",
    "  at once (for fixed t).\n",
    "    \n",
    "  x.shape == z0.shape == Size([K])\n",
    "  where K is count of seqs in batch (xs_batch.shape[0])\n",
    "  '''\n",
    "  T = xs_batch.shape[1]\n",
    "  z0 = xs_batch[:, 0]\n",
    "  # p_z_z_0 = pyro.param(\"p(z=1|z_prev=0)\", pdist.Uniform(0, 0.9), constraint=constraints.interval(0, 0.9))\n",
    "  # p_z_z_1 = pyro.param(\"p(z=1|z_prev=1)\", pdist.Uniform(0, 0.9), constraint=constraints.interval(0, 0.9))\n",
    "        \n",
    "  # p_x_z_0 = pyro.param(\"p(x=1|z=0)\")\n",
    "  # p_x_z_1 = pyro.param(\"p(x=1|z=1)\")\n",
    "  # goal: torch.tensor([0.1, 0.7])\n",
    "  p_transition = pyro.sample(\"transition\", pdist.Dirichlet(0.5*torch.ones(2)))\n",
    "  p_emission = pyro.sample(\"emission\", pdist.Dirichlet(0.5*torch.ones(2)))     \n",
    "  with pyro.plate(\"plate3\", xs_batch.shape[0], use_cuda=True) as ind:\n",
    "    z_prev = z0\n",
    "    for t in pyro.markov(range(1, T)):\n",
    "      # for t in range(1, T):\n",
    "      \n",
    "      # p_transition = torch.tensor([0.1, 0.1])\n",
    "      # p_transition = torch.tensor([p_z_z_0, p_z_z_1])\n",
    "      ip_transition = Vindex(p_transition)[z_prev.type(torch.long)]\n",
    "      z = pyro.sample(\"z_%d\" % t, pdist.Binomial(1, ip_transition),\n",
    "                      infer={\"enumerate\": \"parallel\"},\n",
    "                      ).to(\"cuda\")\n",
    "      z_prev = z\n",
    "      \n",
    "      # p_emission = torch.tensor([0.9, 0.6])\n",
    "      # p_emission = torch.tensor([p_x_z_0, p_x_z_1])\n",
    "      ip_emission = Vindex(p_emission)[z.type(torch.long)]\n",
    "      x = pyro.sample(\"x_%d\" % t, pdist.Binomial(1, ip_emission),\n",
    "                      infer={\"enumerate\": \"parallel\"},\n",
    "                      obs=xs_batch[:, t])\n",
    "  # print(z)\n",
    "  # print(xs_batch[:,t])\n"
   ]
  },
  {
   "cell_type": "code",
   "execution_count": 47,
   "metadata": {},
   "outputs": [
    {
     "name": "stdout",
     "output_type": "stream",
     "text": [
      "torch.Size([20, 100])\n"
     ]
    }
   ],
   "source": [
    "print(xs_batch[0].shape)\n",
    "hmm_cond(xs_batch[0])"
   ]
  },
  {
   "cell_type": "code",
   "execution_count": 38,
   "metadata": {},
   "outputs": [
    {
     "data": {
      "text/plain": [
       "torch.Size([18, 20, 100])"
      ]
     },
     "execution_count": 38,
     "metadata": {},
     "output_type": "execute_result"
    }
   ],
   "source": [
    "# xs_batch.to(\"cuda\");\n",
    "xs_batch.shape"
   ]
  },
  {
   "cell_type": "markdown",
   "metadata": {},
   "source": [
    "### Inference"
   ]
  },
  {
   "cell_type": "code",
   "execution_count": 44,
   "metadata": {},
   "outputs": [
    {
     "name": "stderr",
     "output_type": "stream",
     "text": [
      "Sample: 100%|██████████| 140/140 [10:35,  4.54s/it, step size=2.91e-01, acc. prob=0.908]\n"
     ]
    }
   ],
   "source": [
    "nuts_kernel = NUTS(hmm_cond)\n",
    "\n",
    "mcmc = MCMC(nuts_kernel, num_samples=170)\n",
    "# for x_batch in xs_batch[:3]:\n",
    "mcmc.run(x_batch)\n",
    "# mcmc = MCMC(nuts_kernel, num_samples=100)\n",
    "# mcmc.run(data[:100])\n",
    "# mcmc.run(data[:30], 2)\n",
    "samples = mcmc.get_samples()\n"
   ]
  },
  {
   "cell_type": "code",
   "execution_count": 48,
   "metadata": {},
   "outputs": [
    {
     "name": "stdout",
     "output_type": "stream",
     "text": [
      "70\n",
      "tensor([0.0180, 0.9820])\n",
      "tensor([0.8429, 0.1571])\n",
      "\n",
      "                   mean       std    median      5.0%     95.0%     n_eff     r_hat\n",
      "transition[0]      0.02      0.00      0.02      0.01      0.03     53.04      0.99\n",
      "transition[1]      0.98      0.00      0.98      0.97      0.99     53.04      0.99\n",
      "  emission[0]      0.84      0.01      0.84      0.83      0.85     19.25      1.00\n",
      "  emission[1]      0.16      0.01      0.16      0.15      0.17     19.25      1.00\n",
      "\n",
      "Number of divergences: 0\n"
     ]
    }
   ],
   "source": [
    "print(len(samples['transition']))\n",
    "print(samples['transition'][-1])\n",
    "print(samples['emission'][-1])\n",
    "mcmc.summary()\n"
   ]
  },
  {
   "cell_type": "code",
   "execution_count": 46,
   "metadata": {
    "collapsed": true
   },
   "outputs": [],
   "source": [
    "torch.cuda.empty_cache()"
   ]
  },
  {
   "cell_type": "code",
   "execution_count": 52,
   "metadata": {},
   "outputs": [
    {
     "data": {
      "text/plain": [
       "[<matplotlib.lines.Line2D at 0x7f602c73f070>]"
      ]
     },
     "execution_count": 52,
     "metadata": {},
     "output_type": "execute_result"
    },
    {
     "data": {
      "image/png": "[encoded data removed]",
      "text/plain": [
       "<Figure size 432x288 with 1 Axes>"
      ]
     },
     "metadata": {
      "needs_background": "light"
     },
     "output_type": "display_data"
    }
   ],
   "source": [
    "plt.plot(samples['transition'].cpu().numpy()[:,0])"
   ]
  },
  {
   "cell_type": "code",
   "execution_count": 54,
   "metadata": {},
   "outputs": [
    {
     "data": {
      "text/plain": [
       "[<matplotlib.lines.Line2D at 0x7f602d7261f0>]"
      ]
     },
     "execution_count": 54,
     "metadata": {},
     "output_type": "execute_result"
    },
    {
     "data": {
      "image/png": "[encoded data removed]",
      "text/plain": [
       "<Figure size 432x288 with 1 Axes>"
      ]
     },
     "metadata": {
      "needs_background": "light"
     },
     "output_type": "display_data"
    }
   ],
   "source": [
    "plt.plot(samples['emission'].cpu().numpy()[:,1])"
   ]
  },
  {
   "cell_type": "code",
   "execution_count": null,
   "metadata": {
    "collapsed": true
   },
   "outputs": [],
   "source": []
  }
 ],
 "metadata": {
  "kernelspec": {
   "display_name": "Python [default]",
   "language": "python",
   "name": "python3"
  },
  "language_info": {
   "codemirror_mode": {
    "name": "ipython",
    "version": 3
   },
   "file_extension": ".py",
   "mimetype": "text/x-python",
   "name": "python",
   "nbconvert_exporter": "python",
   "pygments_lexer": "ipython3",
   "version": "3.6.2"
  }
 },
 "nbformat": 4,
 "nbformat_minor": 5
}
