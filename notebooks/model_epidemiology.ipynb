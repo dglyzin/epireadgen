{
 "cells": [
  {
   "cell_type": "code",
   "execution_count": 66,
   "metadata": {
    "collapsed": true
   },
   "outputs": [],
   "source": [
    "import torch\n",
    "import torch.distributions as tdist\n",
    "import torch.nn.functional as F \n",
    "import pyro\n",
    "import pyro.distributions as dist\n",
    "from torch.distributions import constraints\n",
    "import numpy as np\n",
    "import matplotlib.pyplot as plt"
   ]
  },
  {
   "cell_type": "markdown",
   "metadata": {},
   "source": [
    "##### Model Wright-Fisher"
   ]
  },
  {
   "cell_type": "code",
   "execution_count": 92,
   "metadata": {
    "collapsed": true
   },
   "outputs": [],
   "source": [
    "def model0(init_i, n=0, states=torch.tensor([])):\n",
    "    Ns = torch.sum(init_i, -1).int()\n",
    "    # Ns = N * torch.ones(len(init_i.shape))\n",
    "    '''\n",
    "    if not all(torch.sum(init_i, -1).int() == Ns.int()):\n",
    "        print(init_i)\n",
    "        print(torch.sum(init_i, -1))\n",
    "        print(Ns)\n",
    "        print(torch.sum(init_i, -1) == Ns)\n",
    "        raise(BaseException(\"wrong args\"))\n",
    "    '''\n",
    "    if n <= 0:\n",
    "        return(states)\n",
    "    n -= 1\n",
    "    i = torch.tensor(init_i).float()\n",
    "    # print((i.T/Ns).T)\n",
    "    # print(Ns.unsqueeze(1))\n",
    "    dd = tdist.Binomial(Ns.unsqueeze(1), (i.T/Ns).T)\n",
    "    x = (Ns * F.normalize(dd.sample(), p=1, dim=-1).T).T\n",
    "    \n",
    "    # print(\"x = \", x)\n",
    "    # print(\"prob(x_t|x_t-1)= \", torch.exp(dd.log_prob(x)))\n",
    "    return(model0(x, n=n,\n",
    "                  states=torch.cat((states, torch.unsqueeze(x, 0)), 0)))"
   ]
  },
  {
   "cell_type": "markdown",
   "metadata": {},
   "source": [
    "#### Test Wright-Fisher"
   ]
  },
  {
   "cell_type": "code",
   "execution_count": 93,
   "metadata": {},
   "outputs": [
    {
     "name": "stderr",
     "output_type": "stream",
     "text": [
      "/home/valdecar/anaconda3/envs/math/lib/python3.6/site-packages/ipykernel/__main__.py:15: UserWarning: To copy construct from a tensor, it is recommended to use sourceTensor.clone().detach() or sourceTensor.clone().detach().requires_grad_(True), rather than torch.tensor(sourceTensor).\n"
     ]
    }
   ],
   "source": [
    "# states = model0(torch.tensor([[2, 1, 1, 1, 1, 1, 1, 1, 1],\n",
    "#                               [1, 1, 1, 1, 1, 1, 1, 3, 0]]), 10, 70)\n",
    "states = model0(torch.tensor([[50000, 50000] for i in range(100)]), 1000)"
   ]
  },
  {
   "cell_type": "code",
   "execution_count": 94,
   "metadata": {},
   "outputs": [
    {
     "data": {
      "text/plain": [
       "torch.Size([1000, 100, 2])"
      ]
     },
     "execution_count": 94,
     "metadata": {},
     "output_type": "execute_result"
    }
   ],
   "source": [
    "# states[:,0,:].T\n",
    "states.shape"
   ]
  },
  {
   "cell_type": "code",
   "execution_count": 95,
   "metadata": {},
   "outputs": [],
   "source": [
    "# (states[0].T/torch.sum(states[0], -1).int()).T\n",
    "# (states[:,i,:].T/torch.sum(states[:,i,:],-1).int())[0].shape"
   ]
  },
  {
   "cell_type": "markdown",
   "metadata": {},
   "source": [
    "#### Results Wright-Fisher"
   ]
  },
  {
   "cell_type": "code",
   "execution_count": 101,
   "metadata": {},
   "outputs": [
    {
     "name": "stdout",
     "output_type": "stream",
     "text": [
      "Using matplotlib backend: Qt5Agg\n"
     ]
    }
   ],
   "source": [
    "%matplotlib\n",
    "plt.ylim(0, 1)\n",
    "allele = 0\n",
    "for i in range(states.shape[-2]):\n",
    "    plt.plot((states[:,i,:].T/torch.sum(states[:,i,:],-1).int())[allele])"
   ]
  },
  {
   "cell_type": "code",
   "execution_count": 100,
   "metadata": {},
   "outputs": [
    {
     "name": "stdout",
     "output_type": "stream",
     "text": [
      "Using matplotlib backend: Qt5Agg\n"
     ]
    }
   ],
   "source": [
    "%matplotlib\n",
    "plt.ylim(0, 100000)\n",
    "allele = 0\n",
    "for i in range(states.shape[-2]):\n",
    "    plt.plot(states[:,i,:].T[allele])"
   ]
  },
  {
   "cell_type": "code",
   "execution_count": 99,
   "metadata": {},
   "outputs": [
    {
     "name": "stdout",
     "output_type": "stream",
     "text": [
      "Using matplotlib backend: Qt5Agg\n"
     ]
    }
   ],
   "source": [
    "%matplotlib\n",
    "gen=0\n",
    "for i in range(states.shape[-1]):\n",
    "    plt.plot(states[:,gen,:].T[i])\n"
   ]
  },
  {
   "cell_type": "markdown",
   "metadata": {},
   "source": [
    "##### Model SEIR"
   ]
  },
  {
   "cell_type": "code",
   "execution_count": 71,
   "metadata": {},
   "outputs": [],
   "source": [
    "def model1(T=3, dt=0.01, S0=997, E0=0, I0=3, R0=0,\n",
    "           beta=1.5, eps=0.35, gamma=0.035, mu=0.005,\n",
    "           states=torch.tensor([])):\n",
    "    '''Assuming birth=death'''\n",
    "    if T==0:\n",
    "        return(states)\n",
    "        # return(S0, E0, I0, R0, states)\n",
    "    \n",
    "    N = S0+E0+I0+R0\n",
    "    S = dt*(mu*N-mu*S0-beta*I0*S0/N)+S0\n",
    "    E = dt*(beta*S0*I0/N-(eps+mu)*E0)+E0\n",
    "    I = dt*(eps*E0-(gamma+mu)*I0)+I0\n",
    "    R = dt*(gamma*I0 - mu*R0)+R0\n",
    "    T-=1\n",
    "    # print(\"N=\",S+E+I+R)\n",
    "    # print(S, E, I, R)\n",
    "    return(model1(T, dt=dt, S0=S, E0=E, I0=I, R0=R,\n",
    "                  beta=beta, eps=eps, gamma=gamma, mu=mu,\n",
    "                 states=torch.cat((states,\n",
    "                                   torch.unsqueeze(torch.tensor([S, E, I, R]), 0)), 0)))"
   ]
  },
  {
   "cell_type": "markdown",
   "metadata": {},
   "source": [
    "##### Test SEIR"
   ]
  },
  {
   "cell_type": "code",
   "execution_count": 84,
   "metadata": {},
   "outputs": [
    {
     "data": {
      "text/plain": [
       "torch.Size([7001, 4])"
      ]
     },
     "execution_count": 84,
     "metadata": {},
     "output_type": "execute_result"
    }
   ],
   "source": [
    "# for deep recursion avoidance:\n",
    "states = torch.tensor([[997, 0, 3, 0]])\n",
    "for i in range(7):\n",
    "    res = model1(1000, S0=float(states[-1][0]), E0=float(states[-1][1]),\n",
    "                 I0=float(states[-1][2]), R0=float(states[-1][3]))\n",
    "    states = torch.cat((states, res),0)\n",
    "states.shape"
   ]
  },
  {
   "cell_type": "markdown",
   "metadata": {},
   "source": [
    "#### Results SEIR"
   ]
  },
  {
   "cell_type": "code",
   "execution_count": 91,
   "metadata": {},
   "outputs": [
    {
     "name": "stdout",
     "output_type": "stream",
     "text": [
      "Using matplotlib backend: Qt5Agg\n"
     ]
    },
    {
     "data": {
      "text/plain": [
       "<matplotlib.legend.Legend at 0x7fe44fcad4e0>"
      ]
     },
     "execution_count": 91,
     "metadata": {},
     "output_type": "execute_result"
    }
   ],
   "source": [
    "%matplotlib\n",
    "plt.ylim(0, 1000)\n",
    "\n",
    "for i in range(states.shape[-1]):\n",
    "    plt.plot(states.T[i], label=['S', 'E', 'I', 'R'][i])\n",
    "plt.legend(loc=\"upper left\")"
   ]
  },
  {
   "cell_type": "code",
   "execution_count": null,
   "metadata": {
    "collapsed": true
   },
   "outputs": [],
   "source": []
  },
  {
   "cell_type": "markdown",
   "metadata": {},
   "source": [
    "##### Appendix"
   ]
  },
  {
   "cell_type": "code",
   "execution_count": 26,
   "metadata": {
    "collapsed": true
   },
   "outputs": [],
   "source": [
    "pyro.clear_param_store()\n",
    "# for vectorized, sampled, depended:\n",
    "def model1(init_i, N):\n",
    "    # mu = torch.tensor(0.5)\n",
    "    # sigma = torch.tensor(0.1)\n",
    "    # p = pyro.sample(\"latent_fairness\", dist.Normal(mu, sigma))\n",
    "    # print(\"p = \", p)\n",
    "    i = init_i\n",
    "    \n",
    "    # vectorized, sampled, dependent:\n",
    "    p = i/N\n",
    "    # dd = dist.Bernoulli(p).expand([7, 2]).to_event(1)\n",
    "    x = dd.sample()\n",
    "    print(\"x= \", x)\n",
    "    print(\"prob(x)= \", torch.exp(dd.log_prob(x)))"
   ]
  },
  {
   "cell_type": "code",
   "execution_count": 27,
   "metadata": {},
   "outputs": [
    {
     "name": "stdout",
     "output_type": "stream",
     "text": [
      "x=  tensor([[0., 0.],\n",
      "        [1., 0.],\n",
      "        [1., 0.],\n",
      "        [0., 1.],\n",
      "        [0., 0.],\n",
      "        [0., 0.],\n",
      "        [0., 0.]])\n",
      "prob(x)=  tensor([0.3265, 0.2449, 0.2449, 0.2449, 0.3265, 0.3265, 0.3265])\n"
     ]
    }
   ],
   "source": [
    "model1(3, 7)"
   ]
  },
  {
   "cell_type": "code",
   "execution_count": 20,
   "metadata": {
    "collapsed": true
   },
   "outputs": [],
   "source": [
    "pyro.clear_param_store()\n",
    "# for vectorized, sampled, depended:\n",
    "def model(init_i, N):\n",
    "    # mu = torch.tensor(0.5)\n",
    "    # sigma = torch.tensor(0.1)\n",
    "    # p = pyro.sample(\"latent_fairness\", dist.Normal(mu, sigma))\n",
    "    # print(\"p = \", p)\n",
    "    i = init_i\n",
    "    \n",
    "    # vectorized, sampled, dependent:\n",
    "    with pyro.plate(\"data_loop\", size=3, subsample_size=2) as ind:\n",
    "        p = i/N\n",
    "        dd = dist.Bernoulli(p).expand([7, 2]).to_event(1)\n",
    "        print(\"dd.batch_shape:\")\n",
    "        print(dd.batch_shape)\n",
    "        print(\"dd.event_shape:\")\n",
    "        print(dd.event_shape)\n",
    "        x = dd.sample()\n",
    "        print(\"x = \", x)\n",
    "        print(\"prob(x) = \", torch.exp(dd.log_prob(x)))\n",
    "        # print(\"accurate: \",\n",
    "        #       torch.tensor([(p if x0 else 1-p)*(p if x1 else 1-p)\n",
    "        #                     for x0, x1 in x]))\n",
    "\n",
    "        y = pyro.sample(\"y\", dd)\n",
    "        print(\"y = \", y)\n",
    "        print(\"ind:\")\n",
    "        print(ind)\n",
    "        \n",
    "        # a = pyro.sample(\"obs\", dd, obs=data.index_select(0, ind))\n",
    "        # print(\"a:\")\n",
    "        # print(a)"
   ]
  },
  {
   "cell_type": "code",
   "execution_count": 21,
   "metadata": {},
   "outputs": [
    {
     "name": "stdout",
     "output_type": "stream",
     "text": [
      "dd.batch_shape:\n",
      "torch.Size([7])\n",
      "dd.event_shape:\n",
      "torch.Size([2])\n",
      "x =  tensor([[1., 0.],\n",
      "        [0., 1.],\n",
      "        [0., 0.],\n",
      "        [0., 1.],\n",
      "        [1., 0.],\n",
      "        [1., 0.],\n",
      "        [0., 1.]])\n",
      "prob(x) =  tensor([0.2449, 0.2449, 0.3265, 0.2449, 0.2449, 0.2449, 0.2449])\n"
     ]
    },
    {
     "ename": "ValueError",
     "evalue": "Shape mismatch inside plate('data_loop') at site y dim -1, 2 vs 7",
     "output_type": "error",
     "traceback": [
      "\u001b[0;31m---------------------------------------------------------------------------\u001b[0m",
      "\u001b[0;31mValueError\u001b[0m                                Traceback (most recent call last)",
      "\u001b[0;32m<ipython-input-21-bd91096b60aa>\u001b[0m in \u001b[0;36m<module>\u001b[0;34m()\u001b[0m\n\u001b[0;32m----> 1\u001b[0;31m \u001b[0mmodel\u001b[0m\u001b[0;34m(\u001b[0m\u001b[0;36m3\u001b[0m\u001b[0;34m,\u001b[0m\u001b[0;36m7\u001b[0m\u001b[0;34m)\u001b[0m\u001b[0;34m\u001b[0m\u001b[0m\n\u001b[0m",
      "\u001b[0;32m<ipython-input-20-1f8447b8ea68>\u001b[0m in \u001b[0;36mmodel\u001b[0;34m(init_i, N)\u001b[0m\n\u001b[1;32m     23\u001b[0m         \u001b[0;31m#                     for x0, x1 in x]))\u001b[0m\u001b[0;34m\u001b[0m\u001b[0;34m\u001b[0m\u001b[0m\n\u001b[1;32m     24\u001b[0m \u001b[0;34m\u001b[0m\u001b[0m\n\u001b[0;32m---> 25\u001b[0;31m         \u001b[0my\u001b[0m \u001b[0;34m=\u001b[0m \u001b[0mpyro\u001b[0m\u001b[0;34m.\u001b[0m\u001b[0msample\u001b[0m\u001b[0;34m(\u001b[0m\u001b[0;34m\"y\"\u001b[0m\u001b[0;34m,\u001b[0m \u001b[0mdd\u001b[0m\u001b[0;34m)\u001b[0m\u001b[0;34m\u001b[0m\u001b[0m\n\u001b[0m\u001b[1;32m     26\u001b[0m         \u001b[0mprint\u001b[0m\u001b[0;34m(\u001b[0m\u001b[0;34m\"y = \"\u001b[0m\u001b[0;34m,\u001b[0m \u001b[0my\u001b[0m\u001b[0;34m)\u001b[0m\u001b[0;34m\u001b[0m\u001b[0m\n\u001b[1;32m     27\u001b[0m         \u001b[0mprint\u001b[0m\u001b[0;34m(\u001b[0m\u001b[0;34m\"ind:\"\u001b[0m\u001b[0;34m)\u001b[0m\u001b[0;34m\u001b[0m\u001b[0m\n",
      "\u001b[0;32m~/anaconda3/envs/math/lib/python3.6/site-packages/pyro/primitives.py\u001b[0m in \u001b[0;36msample\u001b[0;34m(name, fn, *args, **kwargs)\u001b[0m\n\u001b[1;32m    111\u001b[0m             \u001b[0mmsg\u001b[0m\u001b[0;34m[\u001b[0m\u001b[0;34m\"is_observed\"\u001b[0m\u001b[0;34m]\u001b[0m \u001b[0;34m=\u001b[0m \u001b[0;32mTrue\u001b[0m\u001b[0;34m\u001b[0m\u001b[0m\n\u001b[1;32m    112\u001b[0m         \u001b[0;31m# apply the stack and return its return value\u001b[0m\u001b[0;34m\u001b[0m\u001b[0;34m\u001b[0m\u001b[0m\n\u001b[0;32m--> 113\u001b[0;31m         \u001b[0mapply_stack\u001b[0m\u001b[0;34m(\u001b[0m\u001b[0mmsg\u001b[0m\u001b[0;34m)\u001b[0m\u001b[0;34m\u001b[0m\u001b[0m\n\u001b[0m\u001b[1;32m    114\u001b[0m         \u001b[0;32mreturn\u001b[0m \u001b[0mmsg\u001b[0m\u001b[0;34m[\u001b[0m\u001b[0;34m\"value\"\u001b[0m\u001b[0;34m]\u001b[0m\u001b[0;34m\u001b[0m\u001b[0m\n\u001b[1;32m    115\u001b[0m \u001b[0;34m\u001b[0m\u001b[0m\n",
      "\u001b[0;32m~/anaconda3/envs/math/lib/python3.6/site-packages/pyro/poutine/runtime.py\u001b[0m in \u001b[0;36mapply_stack\u001b[0;34m(initial_msg)\u001b[0m\n\u001b[1;32m    191\u001b[0m         \u001b[0mpointer\u001b[0m \u001b[0;34m=\u001b[0m \u001b[0mpointer\u001b[0m \u001b[0;34m+\u001b[0m \u001b[0;36m1\u001b[0m\u001b[0;34m\u001b[0m\u001b[0m\n\u001b[1;32m    192\u001b[0m \u001b[0;34m\u001b[0m\u001b[0m\n\u001b[0;32m--> 193\u001b[0;31m         \u001b[0mframe\u001b[0m\u001b[0;34m.\u001b[0m\u001b[0m_process_message\u001b[0m\u001b[0;34m(\u001b[0m\u001b[0mmsg\u001b[0m\u001b[0;34m)\u001b[0m\u001b[0;34m\u001b[0m\u001b[0m\n\u001b[0m\u001b[1;32m    194\u001b[0m \u001b[0;34m\u001b[0m\u001b[0m\n\u001b[1;32m    195\u001b[0m         \u001b[0;32mif\u001b[0m \u001b[0mmsg\u001b[0m\u001b[0;34m[\u001b[0m\u001b[0;34m\"stop\"\u001b[0m\u001b[0;34m]\u001b[0m\u001b[0;34m:\u001b[0m\u001b[0;34m\u001b[0m\u001b[0m\n",
      "\u001b[0;32m~/anaconda3/envs/math/lib/python3.6/site-packages/pyro/poutine/plate_messenger.py\u001b[0m in \u001b[0;36m_process_message\u001b[0;34m(self, msg)\u001b[0m\n\u001b[1;32m     13\u001b[0m     \u001b[0;32mdef\u001b[0m \u001b[0m_process_message\u001b[0m\u001b[0;34m(\u001b[0m\u001b[0mself\u001b[0m\u001b[0;34m,\u001b[0m \u001b[0mmsg\u001b[0m\u001b[0;34m)\u001b[0m\u001b[0;34m:\u001b[0m\u001b[0;34m\u001b[0m\u001b[0m\n\u001b[1;32m     14\u001b[0m         \u001b[0msuper\u001b[0m\u001b[0;34m(\u001b[0m\u001b[0;34m)\u001b[0m\u001b[0;34m.\u001b[0m\u001b[0m_process_message\u001b[0m\u001b[0;34m(\u001b[0m\u001b[0mmsg\u001b[0m\u001b[0;34m)\u001b[0m\u001b[0;34m\u001b[0m\u001b[0m\n\u001b[0;32m---> 15\u001b[0;31m         \u001b[0;32mreturn\u001b[0m \u001b[0mBroadcastMessenger\u001b[0m\u001b[0;34m.\u001b[0m\u001b[0m_pyro_sample\u001b[0m\u001b[0;34m(\u001b[0m\u001b[0mmsg\u001b[0m\u001b[0;34m)\u001b[0m\u001b[0;34m\u001b[0m\u001b[0m\n\u001b[0m\u001b[1;32m     16\u001b[0m \u001b[0;34m\u001b[0m\u001b[0m\n\u001b[1;32m     17\u001b[0m     \u001b[0;32mdef\u001b[0m \u001b[0m__enter__\u001b[0m\u001b[0;34m(\u001b[0m\u001b[0mself\u001b[0m\u001b[0;34m)\u001b[0m\u001b[0;34m:\u001b[0m\u001b[0;34m\u001b[0m\u001b[0m\n",
      "\u001b[0;32m~/anaconda3/envs/math/lib/python3.6/contextlib.py\u001b[0m in \u001b[0;36minner\u001b[0;34m(*args, **kwds)\u001b[0m\n\u001b[1;32m     50\u001b[0m         \u001b[0;32mdef\u001b[0m \u001b[0minner\u001b[0m\u001b[0;34m(\u001b[0m\u001b[0;34m*\u001b[0m\u001b[0margs\u001b[0m\u001b[0;34m,\u001b[0m \u001b[0;34m**\u001b[0m\u001b[0mkwds\u001b[0m\u001b[0;34m)\u001b[0m\u001b[0;34m:\u001b[0m\u001b[0;34m\u001b[0m\u001b[0m\n\u001b[1;32m     51\u001b[0m             \u001b[0;32mwith\u001b[0m \u001b[0mself\u001b[0m\u001b[0;34m.\u001b[0m\u001b[0m_recreate_cm\u001b[0m\u001b[0;34m(\u001b[0m\u001b[0;34m)\u001b[0m\u001b[0;34m:\u001b[0m\u001b[0;34m\u001b[0m\u001b[0m\n\u001b[0;32m---> 52\u001b[0;31m                 \u001b[0;32mreturn\u001b[0m \u001b[0mfunc\u001b[0m\u001b[0;34m(\u001b[0m\u001b[0;34m*\u001b[0m\u001b[0margs\u001b[0m\u001b[0;34m,\u001b[0m \u001b[0;34m**\u001b[0m\u001b[0mkwds\u001b[0m\u001b[0;34m)\u001b[0m\u001b[0;34m\u001b[0m\u001b[0m\n\u001b[0m\u001b[1;32m     53\u001b[0m         \u001b[0;32mreturn\u001b[0m \u001b[0minner\u001b[0m\u001b[0;34m\u001b[0m\u001b[0m\n\u001b[1;32m     54\u001b[0m \u001b[0;34m\u001b[0m\u001b[0m\n",
      "\u001b[0;32m~/anaconda3/envs/math/lib/python3.6/site-packages/pyro/poutine/broadcast_messenger.py\u001b[0m in \u001b[0;36m_pyro_sample\u001b[0;34m(msg)\u001b[0m\n\u001b[1;32m     57\u001b[0m                 \u001b[0;32mif\u001b[0m \u001b[0mtarget_batch_shape\u001b[0m\u001b[0;34m[\u001b[0m\u001b[0mf\u001b[0m\u001b[0;34m.\u001b[0m\u001b[0mdim\u001b[0m\u001b[0;34m]\u001b[0m \u001b[0;32mis\u001b[0m \u001b[0;32mnot\u001b[0m \u001b[0;32mNone\u001b[0m \u001b[0;32mand\u001b[0m \u001b[0mtarget_batch_shape\u001b[0m\u001b[0;34m[\u001b[0m\u001b[0mf\u001b[0m\u001b[0;34m.\u001b[0m\u001b[0mdim\u001b[0m\u001b[0;34m]\u001b[0m \u001b[0;34m!=\u001b[0m \u001b[0mf\u001b[0m\u001b[0;34m.\u001b[0m\u001b[0msize\u001b[0m\u001b[0;34m:\u001b[0m\u001b[0;34m\u001b[0m\u001b[0m\n\u001b[1;32m     58\u001b[0m                     raise ValueError(\"Shape mismatch inside plate('{}') at site {} dim {}, {} vs {}\".format(\n\u001b[0;32m---> 59\u001b[0;31m                         f.name, msg['name'], f.dim, f.size, target_batch_shape[f.dim]))\n\u001b[0m\u001b[1;32m     60\u001b[0m                 \u001b[0mtarget_batch_shape\u001b[0m\u001b[0;34m[\u001b[0m\u001b[0mf\u001b[0m\u001b[0;34m.\u001b[0m\u001b[0mdim\u001b[0m\u001b[0;34m]\u001b[0m \u001b[0;34m=\u001b[0m \u001b[0mf\u001b[0m\u001b[0;34m.\u001b[0m\u001b[0msize\u001b[0m\u001b[0;34m\u001b[0m\u001b[0m\n\u001b[1;32m     61\u001b[0m             \u001b[0;31m# Starting from the right, if expected size is None at an index,\u001b[0m\u001b[0;34m\u001b[0m\u001b[0;34m\u001b[0m\u001b[0m\n",
      "\u001b[0;31mValueError\u001b[0m: Shape mismatch inside plate('data_loop') at site y dim -1, 2 vs 7"
     ]
    }
   ],
   "source": [
    "model(3,7)"
   ]
  },
  {
   "cell_type": "code",
   "execution_count": 28,
   "metadata": {},
   "outputs": [
    {
     "name": "stdout",
     "output_type": "stream",
     "text": [
      "x:  tensor([-0.5929,  0.3222,  0.2136])\n",
      "y:  tensor([[0.8491],\n",
      "        [1.8800]])\n"
     ]
    }
   ],
   "source": [
    "x_axis = pyro.plate(\"x\", 3, dim=-1)\n",
    "y_axis = pyro.plate(\"y\", 2, dim=-2)\n",
    "with x_axis:\n",
    "    x = pyro.sample(\"x\", dist.Normal(0, 1))\n",
    "    # this dont work here because of plate:\n",
    "    # x = pyro.sample(\"x\", dist.Normal(0, 1).expand([5, 2]).to_event(1))\n",
    "with y_axis:\n",
    "    y = pyro.sample(\"y\", dist.Normal(0, 1))\n",
    "print(\"x: \", x)\n",
    "print(\"y: \", y)"
   ]
  },
  {
   "cell_type": "code",
   "execution_count": null,
   "metadata": {
    "collapsed": true
   },
   "outputs": [],
   "source": []
  }
 ],
 "metadata": {
  "kernelspec": {
   "display_name": "Python [conda env:math]",
   "language": "python",
   "name": "conda-env-math-py"
  },
  "language_info": {
   "codemirror_mode": {
    "name": "ipython",
    "version": 3
   },
   "file_extension": ".py",
   "mimetype": "text/x-python",
   "name": "python",
   "nbconvert_exporter": "python",
   "pygments_lexer": "ipython3",
   "version": "3.6.2"
  }
 },
 "nbformat": 4,
 "nbformat_minor": 2
}
