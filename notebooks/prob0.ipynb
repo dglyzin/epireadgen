{
 "cells": [
  {
   "cell_type": "code",
   "execution_count": 1,
   "metadata": {
    "collapsed": true
   },
   "outputs": [],
   "source": [
    "import torch\n",
    "import torch.distributions as dist\n",
    "import matplotlib.pyplot as plt"
   ]
  },
  {
   "cell_type": "code",
   "execution_count": 2,
   "metadata": {
    "collapsed": true
   },
   "outputs": [],
   "source": [
    "def balls_and_bags(balls, bags, states=None):\n",
    "\n",
    "    # init:\n",
    "    if states is None:\n",
    "        states=[bags]\n",
    "    \n",
    "    # finish:\n",
    "    if len(balls) == 0:\n",
    "        return(states)\n",
    "    \n",
    "    # main:\n",
    "    ball = balls.pop(0)\n",
    "    nstates = []\n",
    "    for state in states:\n",
    "        state_len = len(state)\n",
    "        nstates.extend([[state[j][:] for j in range(i)]\n",
    "                       + [state[i][:]+[ball]]\n",
    "                       + [state[j] for j in range(i+1, state_len)] \n",
    "                       for i in range(state_len)])\n",
    "    return(balls_and_bags(balls, bags, states=nstates))"
   ]
  },
  {
   "cell_type": "code",
   "execution_count": 3,
   "metadata": {},
   "outputs": [
    {
     "data": {
      "text/plain": [
       "256"
      ]
     },
     "execution_count": 3,
     "metadata": {},
     "output_type": "execute_result"
    }
   ],
   "source": [
    "balls = [\"a\", \"b\", \"c\", \"d\"]\n",
    "bags = [[],[],[],[]]\n",
    "omega = balls_and_bags(balls[:], bags[:])\n",
    "len(omega)"
   ]
  },
  {
   "cell_type": "code",
   "execution_count": 4,
   "metadata": {
    "collapsed": true
   },
   "outputs": [],
   "source": [
    "three_in_one = [state for state in omega\n",
    "                if len(state[-1]) == len(balls)-1]\n",
    "all_in_one = [state for state in omega\n",
    "              if len(state[-1]) == len(balls)]\n",
    "\n",
    "all_in_any = [state for state in omega\n",
    "                if any([len(state[i]) == len(balls)\n",
    "                        for i, _ in enumerate(state)])]\n",
    "three_in_any = [state for state in omega\n",
    "                if any([len(state[i]) == len(balls)-1\n",
    "                        for i, _ in enumerate(state)])]"
   ]
  },
  {
   "cell_type": "code",
   "execution_count": null,
   "metadata": {
    "collapsed": true
   },
   "outputs": [],
   "source": []
  },
  {
   "cell_type": "code",
   "execution_count": 5,
   "metadata": {},
   "outputs": [
    {
     "name": "stdout",
     "output_type": "stream",
     "text": [
      "12 1 256\n",
      "0.05078125\n",
      "48 4 256\n",
      "0.203125\n"
     ]
    }
   ],
   "source": [
    "print(len(three_in_one), len(all_in_one), len(omega))\n",
    "print((len(three_in_one) + len(all_in_one))/len(omega))\n",
    "print(len(three_in_any), len(all_in_any), len(omega))\n",
    "print((len(three_in_any) + len(all_in_any))/len(omega))"
   ]
  },
  {
   "cell_type": "code",
   "execution_count": 6,
   "metadata": {},
   "outputs": [
    {
     "data": {
      "text/plain": [
       "262144"
      ]
     },
     "execution_count": 6,
     "metadata": {},
     "output_type": "execute_result"
    }
   ],
   "source": [
    "balls = [\"a\", \"b\", \"c\", \"d\", \"e\", \"f\", \"j\", \"h\", \"g\"]\n",
    "bags = [[],[],[],[]]\n",
    "omega = balls_and_bags(balls[:], bags[:])\n",
    "len(omega)"
   ]
  },
  {
   "cell_type": "code",
   "execution_count": 7,
   "metadata": {},
   "outputs": [
    {
     "data": {
      "text/plain": [
       "262144"
      ]
     },
     "execution_count": 7,
     "metadata": {},
     "output_type": "execute_result"
    }
   ],
   "source": [
    "4**9"
   ]
  },
  {
   "cell_type": "code",
   "execution_count": null,
   "metadata": {
    "collapsed": true
   },
   "outputs": [],
   "source": [
    "three_in_one = [state for state in omega\n",
    "                if len(state[0]) == len(state[1])==len(state[2])==2\n",
    "                   or len(state[1]) == len(state[2])==len(state[3])==2\n",
    "                   or len(state[0]) == len(state[2])==len(state[3])==2\n",
    "                   or len(state[0]) == len(state[1])==len(state[3])==2]"
   ]
  },
  {
   "cell_type": "markdown",
   "metadata": {},
   "source": [
    "### Sampling"
   ]
  },
  {
   "cell_type": "code",
   "execution_count": 22,
   "metadata": {},
   "outputs": [
    {
     "data": {
      "text/plain": [
       "tensor([  0.,  -1.,   0.,  -1.,   0.,  -1.,  -2.,  -1.,  -2.,  -1.,  -2.,  -1.,\n",
       "         -2.,  -3.,  -4.,  -5.,  -6.,  -5.,  -6.,  -7.,  -6.,  -7.,  -6.,  -7.,\n",
       "         -6.,  -7.,  -8.,  -9., -10., -11., -12.])"
      ]
     },
     "execution_count": 22,
     "metadata": {},
     "output_type": "execute_result"
    }
   ],
   "source": [
    "def sum_dist(N, data=None):\n",
    "    if data is None:\n",
    "        xdist = dist.Bernoulli(0.5*torch.ones(1))\n",
    "    # data = torch.cat([torch.unsqueeze(coin.sample(),0) for i in range(100)],0)\n",
    "    # (-1 * torch.ones(10)).pow(coin.sample()).sum()\n",
    "    s = torch.tensor([0])\n",
    "    \n",
    "    for i in range(N):\n",
    "        \n",
    "        if data is None:\n",
    "            sample = xdist.sample()\n",
    "        else:\n",
    "            sample = torch.tensor([data[i]])\n",
    "            # print(sample)\n",
    "        s = torch.cat((s, s[-1]+torch.tensor(-1).pow(sample)), 0)\n",
    "        \n",
    "    return(s)\n",
    "res = sum_dist(30)\n",
    "res"
   ]
  },
  {
   "cell_type": "code",
   "execution_count": 5,
   "metadata": {},
   "outputs": [
    {
     "data": {
      "text/plain": [
       "tensor([[1, 2, 0],\n",
       "        [1, 4, 4],\n",
       "        [1, 4, 0],\n",
       "        [1, 4, 2],\n",
       "        [3, 4, 0],\n",
       "        [5, 2, 5],\n",
       "        [1, 5, 3],\n",
       "        [3, 0, 4],\n",
       "        [0, 2, 0],\n",
       "        [1, 1, 5]])"
      ]
     },
     "execution_count": 5,
     "metadata": {},
     "output_type": "execute_result"
    }
   ],
   "source": [
    "dist.Categorical(\n",
    "                1/6*torch.ones((10, 3, 6))).sample()"
   ]
  },
  {
   "cell_type": "code",
   "execution_count": 15,
   "metadata": {},
   "outputs": [
    {
     "data": {
      "text/plain": [
       "tensor([1., 1., 0., 1., 1., 0., 1., 0., 0., 1., 1., 0., 1., 1., 0., 1., 0., 1.,\n",
       "        0., 1., 0., 0., 0., 0., 1., 1., 0., 1., 1., 0.])"
      ]
     },
     "execution_count": 15,
     "metadata": {},
     "output_type": "execute_result"
    }
   ],
   "source": [
    "def sum_dist_dices(N, dices_count):\n",
    "    return(dist.Categorical(\n",
    "                1/6*torch.ones((N, dices_count, 6))).sample()\n",
    "           + torch.ones((N, dices_count)))\n",
    "res = sum_dist_dices(30, 2)\n",
    "res.sum(1).fmod(2)"
   ]
  },
  {
   "cell_type": "code",
   "execution_count": 92,
   "metadata": {
    "collapsed": true
   },
   "outputs": [],
   "source": []
  },
  {
   "cell_type": "code",
   "execution_count": 23,
   "metadata": {},
   "outputs": [
    {
     "data": {
      "image/png": "[encoded data removed]",
      "text/plain": [
       "<matplotlib.figure.Figure at 0x7f70bc8f62b0>"
      ]
     },
     "metadata": {},
     "output_type": "display_data"
    }
   ],
   "source": [
    "dices = sum_dist(10000, data=sum_dist_dices(10000, 2).sum(1).fmod(2))\n",
    "plt.plot(dices)\n",
    "plt.show()"
   ]
  },
  {
   "cell_type": "code",
   "execution_count": 59,
   "metadata": {
    "collapsed": true
   },
   "outputs": [],
   "source": [
    "res = sum_dist(1000)"
   ]
  },
  {
   "cell_type": "code",
   "execution_count": 60,
   "metadata": {},
   "outputs": [
    {
     "name": "stdout",
     "output_type": "stream",
     "text": [
      "Using matplotlib backend: Qt5Agg\n"
     ]
    },
    {
     "data": {
      "text/plain": [
       "[<matplotlib.lines.Line2D at 0x7f7eeafe7fd0>]"
      ]
     },
     "execution_count": 60,
     "metadata": {},
     "output_type": "execute_result"
    }
   ],
   "source": [
    "%matplotlib\n",
    "plt.plot(res)"
   ]
  },
  {
   "cell_type": "code",
   "execution_count": 30,
   "metadata": {
    "collapsed": true
   },
   "outputs": [],
   "source": []
  },
  {
   "cell_type": "code",
   "execution_count": null,
   "metadata": {
    "collapsed": true
   },
   "outputs": [],
   "source": []
  }
 ],
 "metadata": {
  "kernelspec": {
   "display_name": "Python [conda env:math]",
   "language": "python",
   "name": "conda-env-math-py"
  },
  "language_info": {
   "codemirror_mode": {
    "name": "ipython",
    "version": 3
   },
   "file_extension": ".py",
   "mimetype": "text/x-python",
   "name": "python",
   "nbconvert_exporter": "python",
   "pygments_lexer": "ipython3",
   "version": "3.6.2"
  }
 },
 "nbformat": 4,
 "nbformat_minor": 2
}
